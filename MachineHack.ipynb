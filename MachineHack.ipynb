{
  "cells": [
    {
      "cell_type": "code",
      "execution_count": null,
      "metadata": {
        "id": "mtlhMKbIp6u4"
      },
      "outputs": [],
      "source": [
        "import pandas as pd\n",
        "import numpy as np\n",
        "import matplotlib.pyplot as plt\n",
        "import seaborn as sns\n",
        "import calendar\n",
        "\n",
        "from sklearn.model_selection import train_test_split\n",
        "from sklearn.preprocessing import MinMaxScaler\n",
        "from xgboost import XGBRegressor\n",
        "from sklearn.ensemble import RandomForestRegressor\n",
        "from lightgbm import LGBMRegressor\n",
        "from sklearn.metrics import mean_squared_error"
      ]
    },
    {
      "cell_type": "markdown",
      "metadata": {
        "id": "H8wdto2lY8lE"
      },
      "source": [
        "# Import Dataset"
      ]
    },
    {
      "cell_type": "code",
      "execution_count": null,
      "metadata": {
        "id": "aYH8IC3CsRCJ"
      },
      "outputs": [],
      "source": [
        "df = pd.read_csv('/content/train.csv', skipinitialspace=True)"
      ]
    },
    {
      "cell_type": "code",
      "execution_count": null,
      "metadata": {
        "colab": {
          "base_uri": "https://localhost:8080/",
          "height": 522
        },
        "id": "f9NKiCAgsxj2",
        "outputId": "1888d57c-0b20-49ee-8439-e6cca7912d3b"
      },
      "outputs": [
        {
          "output_type": "execute_result",
          "data": {
            "text/html": [
              "\n",
              "  <div id=\"df-48091e90-c0ae-44a7-a1e7-ee81383330a8\">\n",
              "    <div class=\"colab-df-container\">\n",
              "      <div>\n",
              "<style scoped>\n",
              "    .dataframe tbody tr th:only-of-type {\n",
              "        vertical-align: middle;\n",
              "    }\n",
              "\n",
              "    .dataframe tbody tr th {\n",
              "        vertical-align: top;\n",
              "    }\n",
              "\n",
              "    .dataframe thead th {\n",
              "        text-align: right;\n",
              "    }\n",
              "</style>\n",
              "<table border=\"1\" class=\"dataframe\">\n",
              "  <thead>\n",
              "    <tr style=\"text-align: right;\">\n",
              "      <th></th>\n",
              "      <th>Year</th>\n",
              "      <th>Month</th>\n",
              "      <th>Day</th>\n",
              "      <th>Hour</th>\n",
              "      <th>Minute</th>\n",
              "      <th>Clearsky DHI</th>\n",
              "      <th>Clearsky DNI</th>\n",
              "      <th>Clearsky GHI</th>\n",
              "      <th>Cloud Type</th>\n",
              "      <th>Dew Point</th>\n",
              "      <th>Temperature</th>\n",
              "      <th>Pressure</th>\n",
              "      <th>Relative Humidity</th>\n",
              "      <th>Solar Zenith Angle</th>\n",
              "      <th>Precipitable Water</th>\n",
              "      <th>Wind Direction</th>\n",
              "      <th>Wind Speed</th>\n",
              "      <th>Fill Flag</th>\n",
              "    </tr>\n",
              "  </thead>\n",
              "  <tbody>\n",
              "    <tr>\n",
              "      <th>0</th>\n",
              "      <td>2009</td>\n",
              "      <td>1</td>\n",
              "      <td>1</td>\n",
              "      <td>0</td>\n",
              "      <td>0</td>\n",
              "      <td>0</td>\n",
              "      <td>0</td>\n",
              "      <td>0</td>\n",
              "      <td>0</td>\n",
              "      <td>0.0</td>\n",
              "      <td>5.0</td>\n",
              "      <td>1010</td>\n",
              "      <td>75.34</td>\n",
              "      <td>106.15</td>\n",
              "      <td>0.499</td>\n",
              "      <td>346.1</td>\n",
              "      <td>3.1</td>\n",
              "      <td>0</td>\n",
              "    </tr>\n",
              "    <tr>\n",
              "      <th>1</th>\n",
              "      <td>2009</td>\n",
              "      <td>1</td>\n",
              "      <td>1</td>\n",
              "      <td>0</td>\n",
              "      <td>30</td>\n",
              "      <td>0</td>\n",
              "      <td>0</td>\n",
              "      <td>0</td>\n",
              "      <td>0</td>\n",
              "      <td>1.0</td>\n",
              "      <td>5.0</td>\n",
              "      <td>1010</td>\n",
              "      <td>80.81</td>\n",
              "      <td>112.28</td>\n",
              "      <td>0.490</td>\n",
              "      <td>346.1</td>\n",
              "      <td>3.1</td>\n",
              "      <td>0</td>\n",
              "    </tr>\n",
              "    <tr>\n",
              "      <th>2</th>\n",
              "      <td>2009</td>\n",
              "      <td>1</td>\n",
              "      <td>1</td>\n",
              "      <td>1</td>\n",
              "      <td>0</td>\n",
              "      <td>0</td>\n",
              "      <td>0</td>\n",
              "      <td>0</td>\n",
              "      <td>4</td>\n",
              "      <td>0.0</td>\n",
              "      <td>5.0</td>\n",
              "      <td>1010</td>\n",
              "      <td>78.27</td>\n",
              "      <td>118.50</td>\n",
              "      <td>0.482</td>\n",
              "      <td>347.9</td>\n",
              "      <td>3.2</td>\n",
              "      <td>0</td>\n",
              "    </tr>\n",
              "    <tr>\n",
              "      <th>3</th>\n",
              "      <td>2009</td>\n",
              "      <td>1</td>\n",
              "      <td>1</td>\n",
              "      <td>1</td>\n",
              "      <td>30</td>\n",
              "      <td>0</td>\n",
              "      <td>0</td>\n",
              "      <td>0</td>\n",
              "      <td>4</td>\n",
              "      <td>0.0</td>\n",
              "      <td>4.0</td>\n",
              "      <td>1010</td>\n",
              "      <td>78.27</td>\n",
              "      <td>124.78</td>\n",
              "      <td>0.478</td>\n",
              "      <td>347.9</td>\n",
              "      <td>3.1</td>\n",
              "      <td>0</td>\n",
              "    </tr>\n",
              "    <tr>\n",
              "      <th>4</th>\n",
              "      <td>2009</td>\n",
              "      <td>1</td>\n",
              "      <td>1</td>\n",
              "      <td>2</td>\n",
              "      <td>0</td>\n",
              "      <td>0</td>\n",
              "      <td>0</td>\n",
              "      <td>0</td>\n",
              "      <td>4</td>\n",
              "      <td>0.0</td>\n",
              "      <td>4.0</td>\n",
              "      <td>1010</td>\n",
              "      <td>76.45</td>\n",
              "      <td>131.12</td>\n",
              "      <td>0.475</td>\n",
              "      <td>350.0</td>\n",
              "      <td>3.0</td>\n",
              "      <td>0</td>\n",
              "    </tr>\n",
              "    <tr>\n",
              "      <th>...</th>\n",
              "      <td>...</td>\n",
              "      <td>...</td>\n",
              "      <td>...</td>\n",
              "      <td>...</td>\n",
              "      <td>...</td>\n",
              "      <td>...</td>\n",
              "      <td>...</td>\n",
              "      <td>...</td>\n",
              "      <td>...</td>\n",
              "      <td>...</td>\n",
              "      <td>...</td>\n",
              "      <td>...</td>\n",
              "      <td>...</td>\n",
              "      <td>...</td>\n",
              "      <td>...</td>\n",
              "      <td>...</td>\n",
              "      <td>...</td>\n",
              "      <td>...</td>\n",
              "    </tr>\n",
              "    <tr>\n",
              "      <th>175291</th>\n",
              "      <td>2018</td>\n",
              "      <td>12</td>\n",
              "      <td>31</td>\n",
              "      <td>21</td>\n",
              "      <td>30</td>\n",
              "      <td>51</td>\n",
              "      <td>555</td>\n",
              "      <td>168</td>\n",
              "      <td>4</td>\n",
              "      <td>19.4</td>\n",
              "      <td>20.8</td>\n",
              "      <td>1008</td>\n",
              "      <td>91.77</td>\n",
              "      <td>77.86</td>\n",
              "      <td>3.700</td>\n",
              "      <td>204.0</td>\n",
              "      <td>3.5</td>\n",
              "      <td>100</td>\n",
              "    </tr>\n",
              "    <tr>\n",
              "      <th>175292</th>\n",
              "      <td>2018</td>\n",
              "      <td>12</td>\n",
              "      <td>31</td>\n",
              "      <td>22</td>\n",
              "      <td>0</td>\n",
              "      <td>37</td>\n",
              "      <td>388</td>\n",
              "      <td>84</td>\n",
              "      <td>4</td>\n",
              "      <td>19.1</td>\n",
              "      <td>20.1</td>\n",
              "      <td>1008</td>\n",
              "      <td>93.88</td>\n",
              "      <td>83.03</td>\n",
              "      <td>3.800</td>\n",
              "      <td>209.0</td>\n",
              "      <td>3.2</td>\n",
              "      <td>100</td>\n",
              "    </tr>\n",
              "    <tr>\n",
              "      <th>175293</th>\n",
              "      <td>2018</td>\n",
              "      <td>12</td>\n",
              "      <td>31</td>\n",
              "      <td>22</td>\n",
              "      <td>30</td>\n",
              "      <td>15</td>\n",
              "      <td>115</td>\n",
              "      <td>18</td>\n",
              "      <td>7</td>\n",
              "      <td>19.1</td>\n",
              "      <td>19.6</td>\n",
              "      <td>1008</td>\n",
              "      <td>96.83</td>\n",
              "      <td>88.32</td>\n",
              "      <td>3.800</td>\n",
              "      <td>208.0</td>\n",
              "      <td>2.6</td>\n",
              "      <td>57</td>\n",
              "    </tr>\n",
              "    <tr>\n",
              "      <th>175294</th>\n",
              "      <td>2018</td>\n",
              "      <td>12</td>\n",
              "      <td>31</td>\n",
              "      <td>23</td>\n",
              "      <td>0</td>\n",
              "      <td>0</td>\n",
              "      <td>0</td>\n",
              "      <td>0</td>\n",
              "      <td>7</td>\n",
              "      <td>18.7</td>\n",
              "      <td>19.2</td>\n",
              "      <td>1009</td>\n",
              "      <td>96.84</td>\n",
              "      <td>94.34</td>\n",
              "      <td>3.700</td>\n",
              "      <td>206.0</td>\n",
              "      <td>2.1</td>\n",
              "      <td>0</td>\n",
              "    </tr>\n",
              "    <tr>\n",
              "      <th>175295</th>\n",
              "      <td>2018</td>\n",
              "      <td>12</td>\n",
              "      <td>31</td>\n",
              "      <td>23</td>\n",
              "      <td>30</td>\n",
              "      <td>0</td>\n",
              "      <td>0</td>\n",
              "      <td>0</td>\n",
              "      <td>7</td>\n",
              "      <td>18.7</td>\n",
              "      <td>19.2</td>\n",
              "      <td>1009</td>\n",
              "      <td>96.84</td>\n",
              "      <td>100.22</td>\n",
              "      <td>3.700</td>\n",
              "      <td>206.0</td>\n",
              "      <td>2.1</td>\n",
              "      <td>0</td>\n",
              "    </tr>\n",
              "  </tbody>\n",
              "</table>\n",
              "<p>175296 rows × 18 columns</p>\n",
              "</div>\n",
              "      <button class=\"colab-df-convert\" onclick=\"convertToInteractive('df-48091e90-c0ae-44a7-a1e7-ee81383330a8')\"\n",
              "              title=\"Convert this dataframe to an interactive table.\"\n",
              "              style=\"display:none;\">\n",
              "        \n",
              "  <svg xmlns=\"http://www.w3.org/2000/svg\" height=\"24px\"viewBox=\"0 0 24 24\"\n",
              "       width=\"24px\">\n",
              "    <path d=\"M0 0h24v24H0V0z\" fill=\"none\"/>\n",
              "    <path d=\"M18.56 5.44l.94 2.06.94-2.06 2.06-.94-2.06-.94-.94-2.06-.94 2.06-2.06.94zm-11 1L8.5 8.5l.94-2.06 2.06-.94-2.06-.94L8.5 2.5l-.94 2.06-2.06.94zm10 10l.94 2.06.94-2.06 2.06-.94-2.06-.94-.94-2.06-.94 2.06-2.06.94z\"/><path d=\"M17.41 7.96l-1.37-1.37c-.4-.4-.92-.59-1.43-.59-.52 0-1.04.2-1.43.59L10.3 9.45l-7.72 7.72c-.78.78-.78 2.05 0 2.83L4 21.41c.39.39.9.59 1.41.59.51 0 1.02-.2 1.41-.59l7.78-7.78 2.81-2.81c.8-.78.8-2.07 0-2.86zM5.41 20L4 18.59l7.72-7.72 1.47 1.35L5.41 20z\"/>\n",
              "  </svg>\n",
              "      </button>\n",
              "      \n",
              "  <style>\n",
              "    .colab-df-container {\n",
              "      display:flex;\n",
              "      flex-wrap:wrap;\n",
              "      gap: 12px;\n",
              "    }\n",
              "\n",
              "    .colab-df-convert {\n",
              "      background-color: #E8F0FE;\n",
              "      border: none;\n",
              "      border-radius: 50%;\n",
              "      cursor: pointer;\n",
              "      display: none;\n",
              "      fill: #1967D2;\n",
              "      height: 32px;\n",
              "      padding: 0 0 0 0;\n",
              "      width: 32px;\n",
              "    }\n",
              "\n",
              "    .colab-df-convert:hover {\n",
              "      background-color: #E2EBFA;\n",
              "      box-shadow: 0px 1px 2px rgba(60, 64, 67, 0.3), 0px 1px 3px 1px rgba(60, 64, 67, 0.15);\n",
              "      fill: #174EA6;\n",
              "    }\n",
              "\n",
              "    [theme=dark] .colab-df-convert {\n",
              "      background-color: #3B4455;\n",
              "      fill: #D2E3FC;\n",
              "    }\n",
              "\n",
              "    [theme=dark] .colab-df-convert:hover {\n",
              "      background-color: #434B5C;\n",
              "      box-shadow: 0px 1px 3px 1px rgba(0, 0, 0, 0.15);\n",
              "      filter: drop-shadow(0px 1px 2px rgba(0, 0, 0, 0.3));\n",
              "      fill: #FFFFFF;\n",
              "    }\n",
              "  </style>\n",
              "\n",
              "      <script>\n",
              "        const buttonEl =\n",
              "          document.querySelector('#df-48091e90-c0ae-44a7-a1e7-ee81383330a8 button.colab-df-convert');\n",
              "        buttonEl.style.display =\n",
              "          google.colab.kernel.accessAllowed ? 'block' : 'none';\n",
              "\n",
              "        async function convertToInteractive(key) {\n",
              "          const element = document.querySelector('#df-48091e90-c0ae-44a7-a1e7-ee81383330a8');\n",
              "          const dataTable =\n",
              "            await google.colab.kernel.invokeFunction('convertToInteractive',\n",
              "                                                     [key], {});\n",
              "          if (!dataTable) return;\n",
              "\n",
              "          const docLinkHtml = 'Like what you see? Visit the ' +\n",
              "            '<a target=\"_blank\" href=https://colab.research.google.com/notebooks/data_table.ipynb>data table notebook</a>'\n",
              "            + ' to learn more about interactive tables.';\n",
              "          element.innerHTML = '';\n",
              "          dataTable['output_type'] = 'display_data';\n",
              "          await google.colab.output.renderOutput(dataTable, element);\n",
              "          const docLink = document.createElement('div');\n",
              "          docLink.innerHTML = docLinkHtml;\n",
              "          element.appendChild(docLink);\n",
              "        }\n",
              "      </script>\n",
              "    </div>\n",
              "  </div>\n",
              "  "
            ],
            "text/plain": [
              "        Year  Month  Day  ...  Wind Direction  Wind Speed  Fill Flag\n",
              "0       2009      1    1  ...           346.1         3.1          0\n",
              "1       2009      1    1  ...           346.1         3.1          0\n",
              "2       2009      1    1  ...           347.9         3.2          0\n",
              "3       2009      1    1  ...           347.9         3.1          0\n",
              "4       2009      1    1  ...           350.0         3.0          0\n",
              "...      ...    ...  ...  ...             ...         ...        ...\n",
              "175291  2018     12   31  ...           204.0         3.5        100\n",
              "175292  2018     12   31  ...           209.0         3.2        100\n",
              "175293  2018     12   31  ...           208.0         2.6         57\n",
              "175294  2018     12   31  ...           206.0         2.1          0\n",
              "175295  2018     12   31  ...           206.0         2.1          0\n",
              "\n",
              "[175296 rows x 18 columns]"
            ]
          },
          "metadata": {},
          "execution_count": 6
        }
      ],
      "source": [
        "df"
      ]
    },
    {
      "cell_type": "code",
      "execution_count": null,
      "metadata": {
        "colab": {
          "base_uri": "https://localhost:8080/"
        },
        "id": "lIN9Vr4is2Fu",
        "outputId": "d0bb3ad4-2857-47f5-eddd-b955f5c9fe5c"
      },
      "outputs": [
        {
          "output_type": "execute_result",
          "data": {
            "text/plain": [
              "Index(['Year', 'Month', 'Day', 'Hour', 'Minute', 'Clearsky DHI',\n",
              "       'Clearsky DNI', 'Clearsky GHI', 'Cloud Type', 'Dew Point',\n",
              "       'Temperature', 'Pressure', 'Relative Humidity', 'Solar Zenith Angle',\n",
              "       'Precipitable Water', 'Wind Direction', 'Wind Speed', 'Fill Flag'],\n",
              "      dtype='object')"
            ]
          },
          "metadata": {},
          "execution_count": 7
        }
      ],
      "source": [
        "df.columns"
      ]
    },
    {
      "cell_type": "code",
      "execution_count": null,
      "metadata": {
        "colab": {
          "base_uri": "https://localhost:8080/"
        },
        "id": "9twhTLZRrlsC",
        "outputId": "d7182b66-7ed5-4ebe-c339-3dfcc6317323"
      },
      "outputs": [
        {
          "output_type": "execute_result",
          "data": {
            "text/plain": [
              "Year                  0\n",
              "Month                 0\n",
              "Day                   0\n",
              "Hour                  0\n",
              "Minute                0\n",
              "Clearsky DHI          0\n",
              "Clearsky DNI          0\n",
              "Clearsky GHI          0\n",
              "Cloud Type            0\n",
              "Dew Point             0\n",
              "Temperature           0\n",
              "Pressure              0\n",
              "Relative Humidity     0\n",
              "Solar Zenith Angle    0\n",
              "Precipitable Water    0\n",
              "Wind Direction        0\n",
              "Wind Speed            0\n",
              "Fill Flag             0\n",
              "dtype: int64"
            ]
          },
          "metadata": {},
          "execution_count": 8
        }
      ],
      "source": [
        "df.isnull().sum()"
      ]
    },
    {
      "cell_type": "code",
      "execution_count": null,
      "metadata": {
        "colab": {
          "base_uri": "https://localhost:8080/"
        },
        "id": "YcVM6p91r3d9",
        "outputId": "19d319cd-3344-427f-80cf-bec887bfbfa9"
      },
      "outputs": [
        {
          "output_type": "stream",
          "name": "stdout",
          "text": [
            "<class 'pandas.core.frame.DataFrame'>\n",
            "RangeIndex: 175296 entries, 0 to 175295\n",
            "Data columns (total 18 columns):\n",
            " #   Column              Non-Null Count   Dtype  \n",
            "---  ------              --------------   -----  \n",
            " 0   Year                175296 non-null  int64  \n",
            " 1   Month               175296 non-null  int64  \n",
            " 2   Day                 175296 non-null  int64  \n",
            " 3   Hour                175296 non-null  int64  \n",
            " 4   Minute              175296 non-null  int64  \n",
            " 5   Clearsky DHI        175296 non-null  int64  \n",
            " 6   Clearsky DNI        175296 non-null  int64  \n",
            " 7   Clearsky GHI        175296 non-null  int64  \n",
            " 8   Cloud Type          175296 non-null  int64  \n",
            " 9   Dew Point           175296 non-null  float64\n",
            " 10  Temperature         175296 non-null  float64\n",
            " 11  Pressure            175296 non-null  int64  \n",
            " 12  Relative Humidity   175296 non-null  float64\n",
            " 13  Solar Zenith Angle  175296 non-null  float64\n",
            " 14  Precipitable Water  175296 non-null  float64\n",
            " 15  Wind Direction      175296 non-null  float64\n",
            " 16  Wind Speed          175296 non-null  float64\n",
            " 17  Fill Flag           175296 non-null  int64  \n",
            "dtypes: float64(7), int64(11)\n",
            "memory usage: 24.1 MB\n"
          ]
        }
      ],
      "source": [
        "df.info()"
      ]
    },
    {
      "cell_type": "markdown",
      "metadata": {
        "id": "5ZG1cdm7ZCpI"
      },
      "source": [
        "# Preprocessing"
      ]
    },
    {
      "cell_type": "code",
      "execution_count": null,
      "metadata": {
        "id": "LdjVqOgg1RYR"
      },
      "outputs": [],
      "source": [
        "def reduce_mem_usage(df):\n",
        "    start_mem = df.memory_usage().sum() / 1024**2\n",
        "    print('Memory usage of dataframe is {:.2f} MB'.format(start_mem))\n",
        "    \n",
        "    for col in df.columns:\n",
        "        col_type = df[col].dtype\n",
        "        \n",
        "        if col_type != object:\n",
        "            c_min = df[col].min()\n",
        "            c_max = df[col].max()\n",
        "            if str(col_type)[:3] == 'int':\n",
        "                if c_min > np.iinfo(np.int8).min and c_max < np.iinfo(np.int8).max:\n",
        "                    df[col] = df[col].astype(np.int8)\n",
        "                elif c_min > np.iinfo(np.int16).min and c_max < np.iinfo(np.int16).max:\n",
        "                    df[col] = df[col].astype(np.int16)\n",
        "                elif c_min > np.iinfo(np.int32).min and c_max < np.iinfo(np.int32).max:\n",
        "                    df[col] = df[col].astype(np.int32)\n",
        "                elif c_min > np.iinfo(np.int64).min and c_max < np.iinfo(np.int64).max:\n",
        "                    df[col] = df[col].astype(np.int64)  \n",
        "            else:\n",
        "                if c_min > np.finfo(np.float16).min and c_max < np.finfo(np.float16).max:\n",
        "                    df[col] = df[col].astype(np.float16)\n",
        "                elif c_min > np.finfo(np.float32).min and c_max < np.finfo(np.float32).max:\n",
        "                    df[col] = df[col].astype(np.float32)\n",
        "                else:\n",
        "                    df[col] = df[col].astype(np.float64)\n",
        "        else:\n",
        "            df[col] = df[col].astype('category')\n",
        "\n",
        "    end_mem = df.memory_usage().sum() / 1024**2\n",
        "    print('Memory usage after optimization is: {:.2f} MB'.format(end_mem))\n",
        "    print('Decreased by {:.1f}%'.format(100 * (start_mem - end_mem) / start_mem))\n",
        "    \n",
        "    return df"
      ]
    },
    {
      "cell_type": "code",
      "execution_count": null,
      "metadata": {
        "colab": {
          "base_uri": "https://localhost:8080/"
        },
        "id": "SD_DCQPD1YyP",
        "outputId": "ca359c57-ef09-4e7b-be92-38e3c4ba75fa"
      },
      "outputs": [
        {
          "output_type": "stream",
          "name": "stdout",
          "text": [
            "Memory usage of dataframe is 24.07 MB\n",
            "Memory usage after optimization is: 5.02 MB\n",
            "Decreased by 79.2%\n"
          ]
        }
      ],
      "source": [
        "df = reduce_mem_usage(df)"
      ]
    },
    {
      "cell_type": "code",
      "execution_count": null,
      "metadata": {
        "colab": {
          "base_uri": "https://localhost:8080/"
        },
        "id": "MYJTdpM81nBp",
        "outputId": "9b4bb8b4-e988-4920-ba36-e8e4c2ea1461"
      },
      "outputs": [
        {
          "output_type": "stream",
          "name": "stdout",
          "text": [
            "<class 'pandas.core.frame.DataFrame'>\n",
            "RangeIndex: 175296 entries, 0 to 175295\n",
            "Data columns (total 18 columns):\n",
            " #   Column              Non-Null Count   Dtype  \n",
            "---  ------              --------------   -----  \n",
            " 0   Year                175296 non-null  int16  \n",
            " 1   Month               175296 non-null  int8   \n",
            " 2   Day                 175296 non-null  int8   \n",
            " 3   Hour                175296 non-null  int8   \n",
            " 4   Minute              175296 non-null  int8   \n",
            " 5   Clearsky DHI        175296 non-null  int16  \n",
            " 6   Clearsky DNI        175296 non-null  int16  \n",
            " 7   Clearsky GHI        175296 non-null  int16  \n",
            " 8   Cloud Type          175296 non-null  int8   \n",
            " 9   Dew Point           175296 non-null  float16\n",
            " 10  Temperature         175296 non-null  float16\n",
            " 11  Pressure            175296 non-null  int16  \n",
            " 12  Relative Humidity   175296 non-null  float16\n",
            " 13  Solar Zenith Angle  175296 non-null  float16\n",
            " 14  Precipitable Water  175296 non-null  float16\n",
            " 15  Wind Direction      175296 non-null  float16\n",
            " 16  Wind Speed          175296 non-null  float16\n",
            " 17  Fill Flag           175296 non-null  int8   \n",
            "dtypes: float16(7), int16(5), int8(6)\n",
            "memory usage: 5.0 MB\n"
          ]
        }
      ],
      "source": [
        "df.info()"
      ]
    },
    {
      "cell_type": "code",
      "execution_count": null,
      "metadata": {
        "id": "g2JDPb2IuNTS"
      },
      "outputs": [],
      "source": [
        "pred_cols= ['Clearsky DHI','Clearsky DNI','Clearsky GHI']"
      ]
    },
    {
      "cell_type": "code",
      "execution_count": null,
      "metadata": {
        "id": "OSy-LrwEuTHf"
      },
      "outputs": [],
      "source": [
        "df_calculate_cols = df.drop(columns=pred_cols).columns.tolist()"
      ]
    },
    {
      "cell_type": "code",
      "execution_count": null,
      "metadata": {
        "colab": {
          "base_uri": "https://localhost:8080/",
          "height": 396
        },
        "id": "PvxDRn2-ucxp",
        "outputId": "e684b134-876e-415a-f602-8a5fd35ebd85"
      },
      "outputs": [
        {
          "output_type": "execute_result",
          "data": {
            "text/plain": [
              "<matplotlib.axes._subplots.AxesSubplot at 0x7f45b6afb310>"
            ]
          },
          "metadata": {},
          "execution_count": 15
        },
        {
          "output_type": "display_data",
          "data": {
            "image/png": "[encoded data removed]",
            "text/plain": [
              "<Figure size 720x432 with 2 Axes>"
            ]
          },
          "metadata": {
            "needs_background": "light"
          }
        }
      ],
      "source": [
        "plt.figure(figsize = (10,6))\n",
        "sns.heatmap(df.corr()[pred_cols],annot = True)"
      ]
    },
    {
      "cell_type": "code",
      "execution_count": null,
      "metadata": {
        "colab": {
          "base_uri": "https://localhost:8080/",
          "height": 1000
        },
        "id": "8VlbjfXJum7Q",
        "outputId": "e9d3bed7-ad53-4bf7-bd90-c546096eafdc"
      },
      "outputs": [
        {
          "output_type": "display_data",
          "data": {
            "image/png": "[encoded data removed]",
            "text/plain": [
              "<Figure size 720x360 with 1 Axes>"
            ]
          },
          "metadata": {}
        },
        {
          "output_type": "display_data",
          "data": {
            "image/png": "[encoded data removed]",
            "text/plain": [
              "<Figure size 720x360 with 1 Axes>"
            ]
          },
          "metadata": {}
        },
        {
          "output_type": "display_data",
          "data": {
            "image/png": "[encoded data removed]",
            "text/plain": [
              "<Figure size 720x360 with 1 Axes>"
            ]
          },
          "metadata": {}
        }
      ],
      "source": [
        "sns.set_style(style='darkgrid')\n",
        "\n",
        "df[[\"Year\",\"Clearsky DHI\"]].groupby(\"Year\").agg(\"sum\").plot(marker = 'o',figsize = (10,5),color = \"darkblue\")\n",
        "plt.title(\"How total Clearsky DHI is changing wrt Years: \",color = 'purple',size = 10)\n",
        "\n",
        "df[[\"Year\",\"Clearsky DNI\"]].groupby(\"Year\").agg(\"sum\").plot(marker = 'o',figsize = (10,5),color = 'r')\n",
        "plt.title(\"How total Clearsky DNI is changing wrt Years: \",color = 'purple',size = 10)\n",
        "\n",
        "\n",
        "df[[\"Year\",\"Clearsky GHI\"]].groupby(\"Year\").agg(\"sum\").plot(marker = 'o',figsize = (10,5),color = 'brown')\n",
        "plt.title(\"How total Clearsky GHI is changing wrt Years: \",color = 'purple',size = 10)\n",
        "plt.show()"
      ]
    },
    {
      "cell_type": "code",
      "execution_count": null,
      "metadata": {
        "id": "10OMlfaxvCHi"
      },
      "outputs": [],
      "source": [
        "year_2009 = df[df['Year']==2009]"
      ]
    },
    {
      "cell_type": "code",
      "execution_count": null,
      "metadata": {
        "colab": {
          "base_uri": "https://localhost:8080/"
        },
        "id": "8X5TlsfUvHKC",
        "outputId": "df749206-9af4-414c-94a5-4d4137e19cfc"
      },
      "outputs": [
        {
          "output_type": "stream",
          "name": "stderr",
          "text": [
            "/usr/local/lib/python3.7/dist-packages/ipykernel_launcher.py:1: SettingWithCopyWarning: \n",
            "A value is trying to be set on a copy of a slice from a DataFrame.\n",
            "Try using .loc[row_indexer,col_indexer] = value instead\n",
            "\n",
            "See the caveats in the documentation: https://pandas.pydata.org/pandas-docs/stable/user_guide/indexing.html#returning-a-view-versus-a-copy\n",
            "  \"\"\"Entry point for launching an IPython kernel.\n"
          ]
        }
      ],
      "source": [
        "year_2009['Month'] = year_2009['Month'].apply(lambda x: calendar.month_name[x])"
      ]
    },
    {
      "cell_type": "code",
      "execution_count": null,
      "metadata": {
        "colab": {
          "base_uri": "https://localhost:8080/",
          "height": 1000
        },
        "id": "6YUctX7BvJrz",
        "outputId": "9b11473f-6487-40cf-a68d-4c9d63b70527"
      },
      "outputs": [
        {
          "output_type": "display_data",
          "data": {
            "image/png": "[encoded data removed]",
            "text/plain": [
              "<Figure size 720x360 with 1 Axes>"
            ]
          },
          "metadata": {}
        },
        {
          "output_type": "display_data",
          "data": {
            "image/png": "[encoded data removed]",
            "text/plain": [
              "<Figure size 720x360 with 1 Axes>"
            ]
          },
          "metadata": {}
        },
        {
          "output_type": "display_data",
          "data": {
            "image/png": "[encoded data removed]",
            "text/plain": [
              "<Figure size 720x360 with 1 Axes>"
            ]
          },
          "metadata": {}
        }
      ],
      "source": [
        "plt.figure(figsize=(10,5))\n",
        "year_2009.groupby('Month').sum()['Clearsky DHI'].sort_values(ascending=False).plot(kind='bar')\n",
        "plt.title('DHI Vs Month')\n",
        "\n",
        "plt.figure(figsize=(10,5))\n",
        "year_2009.groupby('Month').sum()['Clearsky DNI'].sort_values(ascending=False).plot(kind='bar')\n",
        "plt.title('DNI Vs Month')\n",
        "\n",
        "plt.figure(figsize=(10,5))\n",
        "year_2009.groupby('Month').sum()['Clearsky GHI'].sort_values(ascending=False).plot(kind='bar')\n",
        "plt.title('GHI Vs Month')\n",
        "plt.show()"
      ]
    },
    {
      "cell_type": "code",
      "execution_count": null,
      "metadata": {
        "id": "pO8UZM0svPfA"
      },
      "outputs": [],
      "source": [
        "X = df.drop(columns=pred_cols)\n",
        "Y1 = df['Clearsky DHI']\n",
        "Y2 = df['Clearsky DNI']\n",
        "Y3 = df['Clearsky GHI']"
      ]
    },
    {
      "cell_type": "code",
      "execution_count": null,
      "metadata": {
        "colab": {
          "base_uri": "https://localhost:8080/"
        },
        "id": "r88Go2F7J3Zo",
        "outputId": "c090b025-475a-43e6-f88b-d1e0f1845135"
      },
      "outputs": [
        {
          "output_type": "execute_result",
          "data": {
            "text/plain": [
              "(175296, 15)"
            ]
          },
          "metadata": {},
          "execution_count": 21
        }
      ],
      "source": [
        "X.shape"
      ]
    },
    {
      "cell_type": "code",
      "execution_count": null,
      "metadata": {
        "id": "dr-jWObfve-R"
      },
      "outputs": [],
      "source": [
        "df_calculate_cols = X.columns.tolist()"
      ]
    },
    {
      "cell_type": "code",
      "execution_count": null,
      "metadata": {
        "id": "mDIEK8HEvoh5"
      },
      "outputs": [],
      "source": [
        "scalar = MinMaxScaler()"
      ]
    },
    {
      "cell_type": "code",
      "source": [
        "X = X[features]"
      ],
      "metadata": {
        "id": "wtQO-qfiTBcd"
      },
      "execution_count": null,
      "outputs": []
    },
    {
      "cell_type": "code",
      "source": [
        "X[features] = scalar.fit_transform(X[features])"
      ],
      "metadata": {
        "id": "A2qwUK1pTFmL"
      },
      "execution_count": null,
      "outputs": []
    },
    {
      "cell_type": "code",
      "execution_count": null,
      "metadata": {
        "id": "opCyH9JKvsiC"
      },
      "outputs": [],
      "source": [
        "X[df_calculate_cols] = scalar.fit_transform(X[df_calculate_cols])"
      ]
    },
    {
      "cell_type": "code",
      "execution_count": null,
      "metadata": {
        "colab": {
          "base_uri": "https://localhost:8080/",
          "height": 485
        },
        "id": "--EAroU9J74J",
        "outputId": "a443aa0a-3e9c-48d9-fc74-670b0bc857ad"
      },
      "outputs": [
        {
          "output_type": "execute_result",
          "data": {
            "text/html": [
              "\n",
              "  <div id=\"df-1f0c19e7-876c-4f42-a036-1c11775c4bdc\">\n",
              "    <div class=\"colab-df-container\">\n",
              "      <div>\n",
              "<style scoped>\n",
              "    .dataframe tbody tr th:only-of-type {\n",
              "        vertical-align: middle;\n",
              "    }\n",
              "\n",
              "    .dataframe tbody tr th {\n",
              "        vertical-align: top;\n",
              "    }\n",
              "\n",
              "    .dataframe thead th {\n",
              "        text-align: right;\n",
              "    }\n",
              "</style>\n",
              "<table border=\"1\" class=\"dataframe\">\n",
              "  <thead>\n",
              "    <tr style=\"text-align: right;\">\n",
              "      <th></th>\n",
              "      <th>Year</th>\n",
              "      <th>Month</th>\n",
              "      <th>Day</th>\n",
              "      <th>Hour</th>\n",
              "      <th>Minute</th>\n",
              "      <th>Cloud Type</th>\n",
              "      <th>Dew Point</th>\n",
              "      <th>Temperature</th>\n",
              "      <th>Pressure</th>\n",
              "      <th>Relative Humidity</th>\n",
              "      <th>Solar Zenith Angle</th>\n",
              "      <th>Precipitable Water</th>\n",
              "      <th>Wind Direction</th>\n",
              "      <th>Wind Speed</th>\n",
              "      <th>Fill Flag</th>\n",
              "    </tr>\n",
              "  </thead>\n",
              "  <tbody>\n",
              "    <tr>\n",
              "      <th>0</th>\n",
              "      <td>0.0</td>\n",
              "      <td>0.0</td>\n",
              "      <td>0.0</td>\n",
              "      <td>0.000000</td>\n",
              "      <td>0.0</td>\n",
              "      <td>0.0</td>\n",
              "      <td>0.387189</td>\n",
              "      <td>0.285714</td>\n",
              "      <td>0.740740</td>\n",
              "      <td>0.733996</td>\n",
              "      <td>0.598811</td>\n",
              "      <td>0.049756</td>\n",
              "      <td>0.961111</td>\n",
              "      <td>0.240309</td>\n",
              "      <td>0.00</td>\n",
              "    </tr>\n",
              "    <tr>\n",
              "      <th>1</th>\n",
              "      <td>0.0</td>\n",
              "      <td>0.0</td>\n",
              "      <td>0.0</td>\n",
              "      <td>0.000000</td>\n",
              "      <td>1.0</td>\n",
              "      <td>0.0</td>\n",
              "      <td>0.409964</td>\n",
              "      <td>0.285714</td>\n",
              "      <td>0.740740</td>\n",
              "      <td>0.793257</td>\n",
              "      <td>0.636398</td>\n",
              "      <td>0.048564</td>\n",
              "      <td>0.961111</td>\n",
              "      <td>0.240309</td>\n",
              "      <td>0.00</td>\n",
              "    </tr>\n",
              "    <tr>\n",
              "      <th>2</th>\n",
              "      <td>0.0</td>\n",
              "      <td>0.0</td>\n",
              "      <td>0.0</td>\n",
              "      <td>0.043478</td>\n",
              "      <td>0.0</td>\n",
              "      <td>0.4</td>\n",
              "      <td>0.387189</td>\n",
              "      <td>0.285714</td>\n",
              "      <td>0.740740</td>\n",
              "      <td>0.765647</td>\n",
              "      <td>0.674753</td>\n",
              "      <td>0.047501</td>\n",
              "      <td>0.966667</td>\n",
              "      <td>0.248031</td>\n",
              "      <td>0.00</td>\n",
              "    </tr>\n",
              "    <tr>\n",
              "      <th>3</th>\n",
              "      <td>0.0</td>\n",
              "      <td>0.0</td>\n",
              "      <td>0.0</td>\n",
              "      <td>0.043478</td>\n",
              "      <td>1.0</td>\n",
              "      <td>0.4</td>\n",
              "      <td>0.387189</td>\n",
              "      <td>0.265306</td>\n",
              "      <td>0.740740</td>\n",
              "      <td>0.765647</td>\n",
              "      <td>0.713108</td>\n",
              "      <td>0.046985</td>\n",
              "      <td>0.966667</td>\n",
              "      <td>0.240309</td>\n",
              "      <td>0.00</td>\n",
              "    </tr>\n",
              "    <tr>\n",
              "      <th>4</th>\n",
              "      <td>0.0</td>\n",
              "      <td>0.0</td>\n",
              "      <td>0.0</td>\n",
              "      <td>0.086957</td>\n",
              "      <td>0.0</td>\n",
              "      <td>0.4</td>\n",
              "      <td>0.387189</td>\n",
              "      <td>0.265306</td>\n",
              "      <td>0.740740</td>\n",
              "      <td>0.746117</td>\n",
              "      <td>0.752229</td>\n",
              "      <td>0.046599</td>\n",
              "      <td>0.972222</td>\n",
              "      <td>0.232586</td>\n",
              "      <td>0.00</td>\n",
              "    </tr>\n",
              "    <tr>\n",
              "      <th>...</th>\n",
              "      <td>...</td>\n",
              "      <td>...</td>\n",
              "      <td>...</td>\n",
              "      <td>...</td>\n",
              "      <td>...</td>\n",
              "      <td>...</td>\n",
              "      <td>...</td>\n",
              "      <td>...</td>\n",
              "      <td>...</td>\n",
              "      <td>...</td>\n",
              "      <td>...</td>\n",
              "      <td>...</td>\n",
              "      <td>...</td>\n",
              "      <td>...</td>\n",
              "      <td>...</td>\n",
              "    </tr>\n",
              "    <tr>\n",
              "      <th>175291</th>\n",
              "      <td>1.0</td>\n",
              "      <td>1.0</td>\n",
              "      <td>1.0</td>\n",
              "      <td>0.913043</td>\n",
              "      <td>1.0</td>\n",
              "      <td>0.4</td>\n",
              "      <td>0.829181</td>\n",
              "      <td>0.608099</td>\n",
              "      <td>0.703703</td>\n",
              "      <td>0.911107</td>\n",
              "      <td>0.425448</td>\n",
              "      <td>0.472101</td>\n",
              "      <td>0.566667</td>\n",
              "      <td>0.271351</td>\n",
              "      <td>1.00</td>\n",
              "    </tr>\n",
              "    <tr>\n",
              "      <th>175292</th>\n",
              "      <td>1.0</td>\n",
              "      <td>1.0</td>\n",
              "      <td>1.0</td>\n",
              "      <td>0.956522</td>\n",
              "      <td>0.0</td>\n",
              "      <td>0.4</td>\n",
              "      <td>0.822064</td>\n",
              "      <td>0.593750</td>\n",
              "      <td>0.703703</td>\n",
              "      <td>0.934004</td>\n",
              "      <td>0.456899</td>\n",
              "      <td>0.485505</td>\n",
              "      <td>0.580556</td>\n",
              "      <td>0.248031</td>\n",
              "      <td>1.00</td>\n",
              "    </tr>\n",
              "    <tr>\n",
              "      <th>175293</th>\n",
              "      <td>1.0</td>\n",
              "      <td>1.0</td>\n",
              "      <td>1.0</td>\n",
              "      <td>0.956522</td>\n",
              "      <td>1.0</td>\n",
              "      <td>0.7</td>\n",
              "      <td>0.822064</td>\n",
              "      <td>0.583546</td>\n",
              "      <td>0.703703</td>\n",
              "      <td>0.965655</td>\n",
              "      <td>0.489500</td>\n",
              "      <td>0.485505</td>\n",
              "      <td>0.577778</td>\n",
              "      <td>0.201545</td>\n",
              "      <td>0.57</td>\n",
              "    </tr>\n",
              "    <tr>\n",
              "      <th>175294</th>\n",
              "      <td>1.0</td>\n",
              "      <td>1.0</td>\n",
              "      <td>1.0</td>\n",
              "      <td>1.000000</td>\n",
              "      <td>0.0</td>\n",
              "      <td>0.7</td>\n",
              "      <td>0.813167</td>\n",
              "      <td>0.575574</td>\n",
              "      <td>0.722221</td>\n",
              "      <td>0.965655</td>\n",
              "      <td>0.526321</td>\n",
              "      <td>0.472101</td>\n",
              "      <td>0.572222</td>\n",
              "      <td>0.162780</td>\n",
              "      <td>0.00</td>\n",
              "    </tr>\n",
              "    <tr>\n",
              "      <th>175295</th>\n",
              "      <td>1.0</td>\n",
              "      <td>1.0</td>\n",
              "      <td>1.0</td>\n",
              "      <td>1.000000</td>\n",
              "      <td>1.0</td>\n",
              "      <td>0.7</td>\n",
              "      <td>0.813167</td>\n",
              "      <td>0.575574</td>\n",
              "      <td>0.722221</td>\n",
              "      <td>0.965655</td>\n",
              "      <td>0.562758</td>\n",
              "      <td>0.472101</td>\n",
              "      <td>0.572222</td>\n",
              "      <td>0.162780</td>\n",
              "      <td>0.00</td>\n",
              "    </tr>\n",
              "  </tbody>\n",
              "</table>\n",
              "<p>175296 rows × 15 columns</p>\n",
              "</div>\n",
              "      <button class=\"colab-df-convert\" onclick=\"convertToInteractive('df-1f0c19e7-876c-4f42-a036-1c11775c4bdc')\"\n",
              "              title=\"Convert this dataframe to an interactive table.\"\n",
              "              style=\"display:none;\">\n",
              "        \n",
              "  <svg xmlns=\"http://www.w3.org/2000/svg\" height=\"24px\"viewBox=\"0 0 24 24\"\n",
              "       width=\"24px\">\n",
              "    <path d=\"M0 0h24v24H0V0z\" fill=\"none\"/>\n",
              "    <path d=\"M18.56 5.44l.94 2.06.94-2.06 2.06-.94-2.06-.94-.94-2.06-.94 2.06-2.06.94zm-11 1L8.5 8.5l.94-2.06 2.06-.94-2.06-.94L8.5 2.5l-.94 2.06-2.06.94zm10 10l.94 2.06.94-2.06 2.06-.94-2.06-.94-.94-2.06-.94 2.06-2.06.94z\"/><path d=\"M17.41 7.96l-1.37-1.37c-.4-.4-.92-.59-1.43-.59-.52 0-1.04.2-1.43.59L10.3 9.45l-7.72 7.72c-.78.78-.78 2.05 0 2.83L4 21.41c.39.39.9.59 1.41.59.51 0 1.02-.2 1.41-.59l7.78-7.78 2.81-2.81c.8-.78.8-2.07 0-2.86zM5.41 20L4 18.59l7.72-7.72 1.47 1.35L5.41 20z\"/>\n",
              "  </svg>\n",
              "      </button>\n",
              "      \n",
              "  <style>\n",
              "    .colab-df-container {\n",
              "      display:flex;\n",
              "      flex-wrap:wrap;\n",
              "      gap: 12px;\n",
              "    }\n",
              "\n",
              "    .colab-df-convert {\n",
              "      background-color: #E8F0FE;\n",
              "      border: none;\n",
              "      border-radius: 50%;\n",
              "      cursor: pointer;\n",
              "      display: none;\n",
              "      fill: #1967D2;\n",
              "      height: 32px;\n",
              "      padding: 0 0 0 0;\n",
              "      width: 32px;\n",
              "    }\n",
              "\n",
              "    .colab-df-convert:hover {\n",
              "      background-color: #E2EBFA;\n",
              "      box-shadow: 0px 1px 2px rgba(60, 64, 67, 0.3), 0px 1px 3px 1px rgba(60, 64, 67, 0.15);\n",
              "      fill: #174EA6;\n",
              "    }\n",
              "\n",
              "    [theme=dark] .colab-df-convert {\n",
              "      background-color: #3B4455;\n",
              "      fill: #D2E3FC;\n",
              "    }\n",
              "\n",
              "    [theme=dark] .colab-df-convert:hover {\n",
              "      background-color: #434B5C;\n",
              "      box-shadow: 0px 1px 3px 1px rgba(0, 0, 0, 0.15);\n",
              "      filter: drop-shadow(0px 1px 2px rgba(0, 0, 0, 0.3));\n",
              "      fill: #FFFFFF;\n",
              "    }\n",
              "  </style>\n",
              "\n",
              "      <script>\n",
              "        const buttonEl =\n",
              "          document.querySelector('#df-1f0c19e7-876c-4f42-a036-1c11775c4bdc button.colab-df-convert');\n",
              "        buttonEl.style.display =\n",
              "          google.colab.kernel.accessAllowed ? 'block' : 'none';\n",
              "\n",
              "        async function convertToInteractive(key) {\n",
              "          const element = document.querySelector('#df-1f0c19e7-876c-4f42-a036-1c11775c4bdc');\n",
              "          const dataTable =\n",
              "            await google.colab.kernel.invokeFunction('convertToInteractive',\n",
              "                                                     [key], {});\n",
              "          if (!dataTable) return;\n",
              "\n",
              "          const docLinkHtml = 'Like what you see? Visit the ' +\n",
              "            '<a target=\"_blank\" href=https://colab.research.google.com/notebooks/data_table.ipynb>data table notebook</a>'\n",
              "            + ' to learn more about interactive tables.';\n",
              "          element.innerHTML = '';\n",
              "          dataTable['output_type'] = 'display_data';\n",
              "          await google.colab.output.renderOutput(dataTable, element);\n",
              "          const docLink = document.createElement('div');\n",
              "          docLink.innerHTML = docLinkHtml;\n",
              "          element.appendChild(docLink);\n",
              "        }\n",
              "      </script>\n",
              "    </div>\n",
              "  </div>\n",
              "  "
            ],
            "text/plain": [
              "        Year  Month  Day  ...  Wind Direction  Wind Speed  Fill Flag\n",
              "0        0.0    0.0  0.0  ...        0.961111    0.240309       0.00\n",
              "1        0.0    0.0  0.0  ...        0.961111    0.240309       0.00\n",
              "2        0.0    0.0  0.0  ...        0.966667    0.248031       0.00\n",
              "3        0.0    0.0  0.0  ...        0.966667    0.240309       0.00\n",
              "4        0.0    0.0  0.0  ...        0.972222    0.232586       0.00\n",
              "...      ...    ...  ...  ...             ...         ...        ...\n",
              "175291   1.0    1.0  1.0  ...        0.566667    0.271351       1.00\n",
              "175292   1.0    1.0  1.0  ...        0.580556    0.248031       1.00\n",
              "175293   1.0    1.0  1.0  ...        0.577778    0.201545       0.57\n",
              "175294   1.0    1.0  1.0  ...        0.572222    0.162780       0.00\n",
              "175295   1.0    1.0  1.0  ...        0.572222    0.162780       0.00\n",
              "\n",
              "[175296 rows x 15 columns]"
            ]
          },
          "metadata": {},
          "execution_count": 25
        }
      ],
      "source": [
        "X"
      ]
    },
    {
      "cell_type": "code",
      "execution_count": null,
      "metadata": {
        "id": "GeOe9WntvxA7"
      },
      "outputs": [],
      "source": [
        "X1_train,X1_test,y1_train,y1_test = train_test_split(X,Y1,test_size=0.25,random_state=142)\n",
        "\n",
        "X2_train,X2_test,y2_train,y2_test = train_test_split(X,Y2,test_size=0.25,random_state=50)\n",
        "\n",
        "X3_train,X3_test,y3_train,y3_test = train_test_split(X,Y3,test_size=0.25,random_state=85)"
      ]
    },
    {
      "cell_type": "code",
      "source": [
        "print(X1_train.shape)\n",
        "print(y1_train.shape)\n",
        "print(X1_test.shape)\n",
        "print(y1_test.shape)\n",
        "print(X2_train.shape)\n",
        "print(y2_train.shape)\n",
        "print(X2_test.shape)\n",
        "print(y2_test.shape)\n",
        "print(X3_train.shape)\n",
        "print(y3_train.shape)\n",
        "print(X3_test.shape)\n",
        "print(y3_test.shape)"
      ],
      "metadata": {
        "colab": {
          "base_uri": "https://localhost:8080/"
        },
        "id": "57Q0wRhsIVII",
        "outputId": "e3265aad-71c6-4d58-9b6a-6ef410ea60be"
      },
      "execution_count": null,
      "outputs": [
        {
          "output_type": "stream",
          "name": "stdout",
          "text": [
            "(131472, 15)\n",
            "(131472,)\n",
            "(43824, 15)\n",
            "(43824,)\n",
            "(131472, 15)\n",
            "(131472,)\n",
            "(43824, 15)\n",
            "(43824,)\n",
            "(131472, 15)\n",
            "(131472,)\n",
            "(43824, 15)\n",
            "(43824,)\n"
          ]
        }
      ]
    },
    {
      "cell_type": "markdown",
      "metadata": {
        "id": "dX-KkMkyZH9f"
      },
      "source": [
        "# Models\n"
      ]
    },
    {
      "cell_type": "code",
      "execution_count": null,
      "metadata": {
        "id": "SDy1L9LwwCos"
      },
      "outputs": [],
      "source": [
        "def model_eval(model,X_train,X_test,y_train,y_test):\n",
        "    model.fit(X_train,y_train)\n",
        "    y_pred = model.predict(X_test)\n",
        "    mse = mean_squared_error(y_test,y_pred)\n",
        "    return mse"
      ]
    },
    {
      "cell_type": "markdown",
      "metadata": {
        "id": "LNDJR2gbwl4Z"
      },
      "source": [
        "## Model 1"
      ]
    },
    {
      "cell_type": "code",
      "execution_count": null,
      "metadata": {
        "id": "9qpHtxLMwFaF"
      },
      "outputs": [],
      "source": [
        "def test_params(**params):\n",
        "    model = XGBRegressor(n_jobs = -1, random_state = 12, **params)\n",
        "    print(\"DHI_MSE :\",model_eval(model,X1_train,X1_test,y1_train,y1_test))\n",
        "    print(\"DNI_MSE :\",model_eval(model,X2_train,X2_test,y2_train,y2_test))\n",
        "    print(\"GHI_MSE :\",model_eval(model,X3_train,X3_test,y3_train,y3_test))"
      ]
    },
    {
      "cell_type": "code",
      "execution_count": null,
      "metadata": {
        "colab": {
          "base_uri": "https://localhost:8080/"
        },
        "id": "Nj3JTyaFwLSe",
        "outputId": "def14065-1066-4a7c-9fc6-cec22c43051d"
      },
      "outputs": [
        {
          "output_type": "stream",
          "name": "stdout",
          "text": [
            "[07:03:06] WARNING: /workspace/src/objective/regression_obj.cu:152: reg:linear is now deprecated in favor of reg:squarederror.\n",
            "DHI_MSE : 242.9193\n",
            "[07:03:13] WARNING: /workspace/src/objective/regression_obj.cu:152: reg:linear is now deprecated in favor of reg:squarederror.\n",
            "DNI_MSE : 1551.2878\n",
            "[07:03:20] WARNING: /workspace/src/objective/regression_obj.cu:152: reg:linear is now deprecated in favor of reg:squarederror.\n",
            "GHI_MSE : 60.34184\n"
          ]
        }
      ],
      "source": [
        "test_params()"
      ]
    },
    {
      "cell_type": "markdown",
      "metadata": {
        "id": "EI7lDTWRwk7Q"
      },
      "source": [
        "## Model 2"
      ]
    },
    {
      "cell_type": "code",
      "execution_count": null,
      "metadata": {
        "id": "bGKqVr1IwkGl"
      },
      "outputs": [],
      "source": [
        "def test_params(**params):\n",
        "    model = RandomForestRegressor(n_jobs = -1, random_state = 42, **params)\n",
        "    print(\"DHI_MSE :\",model_eval(model,X1_train,X1_test,y1_train,y1_test))\n",
        "    print(\"DNI_MSE :\",model_eval(model,X2_train,X2_test,y2_train,y2_test))\n",
        "    print(\"GHI_MSE :\",model_eval(model,X3_train,X3_test,y3_train,y3_test))"
      ]
    },
    {
      "cell_type": "code",
      "execution_count": null,
      "metadata": {
        "id": "qT8MUlUUwwWk",
        "colab": {
          "base_uri": "https://localhost:8080/"
        },
        "outputId": "460a8bec-41c3-4ca0-dbe1-79e7158be4f6"
      },
      "outputs": [
        {
          "output_type": "stream",
          "name": "stdout",
          "text": [
            "DHI_MSE : 101.69236608707558\n",
            "DNI_MSE : 1089.9821751346294\n",
            "GHI_MSE : 39.827427528295\n"
          ]
        }
      ],
      "source": [
        "test_params()"
      ]
    },
    {
      "cell_type": "markdown",
      "metadata": {
        "id": "6TghheOTxZaj"
      },
      "source": [
        "## Model 3"
      ]
    },
    {
      "cell_type": "code",
      "execution_count": null,
      "metadata": {
        "id": "VrmkXVyixY0a"
      },
      "outputs": [],
      "source": [
        "def test_params(**params):\n",
        "    model = LGBMRegressor(n_jobs = -1, random_state = 42, **params)\n",
        "    print(\"DHI_MSE :\",model_eval(model,X1_train,X1_test,y1_train,y1_test))\n",
        "    print(\"DNI_MSE :\",model_eval(model,X2_train,X2_test,y2_train,y2_test))\n",
        "    print(\"GHI_MSE :\",model_eval(model,X3_train,X3_test,y3_train,y3_test))"
      ]
    },
    {
      "cell_type": "code",
      "execution_count": null,
      "metadata": {
        "id": "KdtVSqs2xdUx",
        "colab": {
          "base_uri": "https://localhost:8080/"
        },
        "outputId": "b44e8f99-6e75-49ed-f48f-6dbb6f3dbb10"
      },
      "outputs": [
        {
          "output_type": "stream",
          "name": "stdout",
          "text": [
            "DHI_MSE : 167.22513790597444\n",
            "DNI_MSE : 1107.1558566453966\n",
            "GHI_MSE : 37.11948615516295\n"
          ]
        }
      ],
      "source": [
        "test_params()"
      ]
    },
    {
      "cell_type": "markdown",
      "metadata": {
        "id": "DnM56AnDHWjP"
      },
      "source": [
        "## Selected Model"
      ]
    },
    {
      "cell_type": "code",
      "execution_count": null,
      "metadata": {
        "id": "te-t-CNsHZVp"
      },
      "outputs": [],
      "source": [
        "model1 = LGBMRegressor(n_jobs = -1, random_state = 42, n_estimators=4000,learning_rate=0.2,max_depth=10)"
      ]
    },
    {
      "cell_type": "code",
      "execution_count": null,
      "metadata": {
        "colab": {
          "base_uri": "https://localhost:8080/"
        },
        "id": "0ahn41U-Ha9r",
        "outputId": "656c4286-5088-4844-aac0-8d5046944749"
      },
      "outputs": [
        {
          "output_type": "execute_result",
          "data": {
            "text/plain": [
              "LGBMRegressor(learning_rate=0.2, max_depth=10, n_estimators=4000,\n",
              "              random_state=42)"
            ]
          },
          "metadata": {},
          "execution_count": 37
        }
      ],
      "source": [
        "model1.fit(X1_train,y1_train)"
      ]
    },
    {
      "cell_type": "code",
      "execution_count": null,
      "metadata": {
        "id": "LAn_Rgq8HqLy"
      },
      "outputs": [],
      "source": [
        "model2 = LGBMRegressor(n_jobs = -1, random_state = 42, n_estimators=4000,learning_rate=0.2, max_depth=10)"
      ]
    },
    {
      "cell_type": "code",
      "execution_count": null,
      "metadata": {
        "colab": {
          "base_uri": "https://localhost:8080/"
        },
        "id": "UU9PxJObHhc9",
        "outputId": "1aa48043-8df4-475e-c889-b55513269232"
      },
      "outputs": [
        {
          "output_type": "execute_result",
          "data": {
            "text/plain": [
              "LGBMRegressor(learning_rate=0.2, max_depth=10, n_estimators=4000,\n",
              "              random_state=42)"
            ]
          },
          "metadata": {},
          "execution_count": 39
        }
      ],
      "source": [
        "model2.fit(X2_train,y2_train)"
      ]
    },
    {
      "cell_type": "code",
      "execution_count": null,
      "metadata": {
        "id": "4vo9icW4Hs2l"
      },
      "outputs": [],
      "source": [
        "model3 = LGBMRegressor(n_jobs = -1, random_state = 42, n_estimators=4000,learning_rate=0.2, max_depth=10)"
      ]
    },
    {
      "cell_type": "code",
      "execution_count": null,
      "metadata": {
        "colab": {
          "base_uri": "https://localhost:8080/"
        },
        "id": "-Fa7Cle7HnYI",
        "outputId": "51817a61-8745-490c-ba5e-747392915615"
      },
      "outputs": [
        {
          "output_type": "execute_result",
          "data": {
            "text/plain": [
              "LGBMRegressor(learning_rate=0.2, max_depth=10, n_estimators=4000,\n",
              "              random_state=42)"
            ]
          },
          "metadata": {},
          "execution_count": 41
        }
      ],
      "source": [
        "model3.fit(X3_train,y3_train)"
      ]
    },
    {
      "cell_type": "markdown",
      "metadata": {
        "id": "Jg69kSAxHwPU"
      },
      "source": [
        "## Prediction"
      ]
    },
    {
      "cell_type": "code",
      "source": [
        "def mse(y_test, y_pred):\n",
        "  mse = mean_squared_error(y_test,y_pred)\n",
        "  return mse"
      ],
      "metadata": {
        "id": "gYyqfbQ2ONGa"
      },
      "execution_count": null,
      "outputs": []
    },
    {
      "cell_type": "markdown",
      "source": [
        "### Custom Input"
      ],
      "metadata": {
        "id": "2P7hFI5jKZ7E"
      }
    },
    {
      "cell_type": "code",
      "execution_count": null,
      "metadata": {
        "id": "cCGaKlC9Hx-b"
      },
      "outputs": [],
      "source": [
        "new_input = {\n",
        "    'Year':[2022,2023],\n",
        "    'Month':[10,11],\n",
        "    'Day':[15,16],\n",
        "    'Hour':[10,11],\n",
        "    'Minute':[30,0],\n",
        "    'Cloud Type':[4,0],\n",
        "    'Dew Point':[1.0,0.0],\n",
        "    'Temperature':[5.0,4.0],\n",
        "    'Pressure':[1010,1000],\n",
        "    'Relative Humidity':[75.2,70.3],\n",
        "    'Solar Zenith Angle':[120.0,160.5],\n",
        "    'Precipitable Water':[0.470,0.50],\n",
        "    'Wind Direction':[360.0,250.6],\n",
        "    'Wind Speed':[5.0,10.5],\n",
        "    'Fill Flag':[1,0]\n",
        "}"
      ]
    },
    {
      "cell_type": "code",
      "execution_count": null,
      "metadata": {
        "id": "-s2ZuqhFHzyP"
      },
      "outputs": [],
      "source": [
        "def predict(model, new_input):\n",
        "    input_df = pd.DataFrame(new_input)\n",
        "    input_cols = input_df.columns.tolist()\n",
        "    input_df[input_cols] = scalar.fit_transform(input_df [input_cols])\n",
        "    return model.predict(input_df)"
      ]
    },
    {
      "cell_type": "code",
      "execution_count": null,
      "metadata": {
        "colab": {
          "base_uri": "https://localhost:8080/"
        },
        "id": "xNn1gIJ4H2w8",
        "outputId": "d531ce10-0a51-4eb0-de8c-ccf79b2775da"
      },
      "outputs": [
        {
          "output_type": "stream",
          "name": "stdout",
          "text": [
            "DHI =  [182.98369404  51.79171512]\n"
          ]
        }
      ],
      "source": [
        "print(\"DHI = \",predict(model1,new_input))"
      ]
    },
    {
      "cell_type": "code",
      "execution_count": null,
      "metadata": {
        "colab": {
          "base_uri": "https://localhost:8080/"
        },
        "id": "deOgTY-YH96z",
        "outputId": "03830635-826f-477d-d8b4-2d64edca581c"
      },
      "outputs": [
        {
          "output_type": "stream",
          "name": "stdout",
          "text": [
            "DNI =  [870.21970116 -79.80536954]\n"
          ]
        }
      ],
      "source": [
        "print(\"DNI = \",predict(model2,new_input))"
      ]
    },
    {
      "cell_type": "code",
      "execution_count": null,
      "metadata": {
        "colab": {
          "base_uri": "https://localhost:8080/"
        },
        "id": "2IYoT_EMH_BR",
        "outputId": "72f4a4b9-ec5f-4a21-9c06-160c0f266c71"
      },
      "outputs": [
        {
          "output_type": "stream",
          "name": "stdout",
          "text": [
            "GHI =  [1020.53713436  -13.8906228 ]\n"
          ]
        }
      ],
      "source": [
        "print(\"GHI = \",predict(model3,new_input))"
      ]
    },
    {
      "cell_type": "markdown",
      "source": [
        "### Test Data Prediction"
      ],
      "metadata": {
        "id": "mRm4LwL6Kdb4"
      }
    },
    {
      "cell_type": "code",
      "source": [
        "df_test = pd.read_csv('/content/test.csv')"
      ],
      "metadata": {
        "id": "eiUPranIKiCe"
      },
      "execution_count": null,
      "outputs": []
    },
    {
      "cell_type": "code",
      "source": [
        "df_test.drop(columns=pred_cols, inplace=True)"
      ],
      "metadata": {
        "id": "YC-pXEuCN_Bx"
      },
      "execution_count": null,
      "outputs": []
    },
    {
      "cell_type": "code",
      "source": [
        "pred_dhi = predict(model1, df_test)"
      ],
      "metadata": {
        "id": "USOafYBBNpNL"
      },
      "execution_count": null,
      "outputs": []
    },
    {
      "cell_type": "code",
      "source": [
        "pred_dni = predict(model2, df_test)"
      ],
      "metadata": {
        "id": "MX08V_8KN3xU"
      },
      "execution_count": null,
      "outputs": []
    },
    {
      "cell_type": "code",
      "source": [
        "pred_ghi = predict(model3, df_test)"
      ],
      "metadata": {
        "id": "oWFp_RpRN4Sf"
      },
      "execution_count": null,
      "outputs": []
    },
    {
      "cell_type": "code",
      "source": [
        "pred_cols"
      ],
      "metadata": {
        "colab": {
          "base_uri": "https://localhost:8080/"
        },
        "id": "LPXH5djwOnC5",
        "outputId": "a529ddf3-f390-4d13-c9a1-f6f4bc9c4ef7"
      },
      "execution_count": null,
      "outputs": [
        {
          "output_type": "execute_result",
          "data": {
            "text/plain": [
              "['Clearsky DHI', 'Clearsky DNI', 'Clearsky GHI']"
            ]
          },
          "metadata": {},
          "execution_count": 75
        }
      ]
    },
    {
      "cell_type": "code",
      "source": [
        "pred_df = pd.DataFrame()"
      ],
      "metadata": {
        "id": "_A8ufUwnPdKW"
      },
      "execution_count": null,
      "outputs": []
    },
    {
      "cell_type": "code",
      "source": [
        "pred_df['Clearsky DHI'] = pred_dhi\n",
        "pred_df['Clearsky DNI'] = pred_dni\n",
        "pred_df['Clearsky GHI'] = pred_ghi"
      ],
      "metadata": {
        "id": "yGovmDiZPhVp"
      },
      "execution_count": null,
      "outputs": []
    },
    {
      "cell_type": "code",
      "source": [
        "pred_df"
      ],
      "metadata": {
        "colab": {
          "base_uri": "https://localhost:8080/",
          "height": 424
        },
        "id": "K77zvMOaPn4J",
        "outputId": "5b3d1f68-abf5-48f1-d496-e56eb7a158be"
      },
      "execution_count": null,
      "outputs": [
        {
          "output_type": "execute_result",
          "data": {
            "text/html": [
              "\n",
              "  <div id=\"df-d2568615-bf7b-46dc-9107-e5a2a7edb218\">\n",
              "    <div class=\"colab-df-container\">\n",
              "      <div>\n",
              "<style scoped>\n",
              "    .dataframe tbody tr th:only-of-type {\n",
              "        vertical-align: middle;\n",
              "    }\n",
              "\n",
              "    .dataframe tbody tr th {\n",
              "        vertical-align: top;\n",
              "    }\n",
              "\n",
              "    .dataframe thead th {\n",
              "        text-align: right;\n",
              "    }\n",
              "</style>\n",
              "<table border=\"1\" class=\"dataframe\">\n",
              "  <thead>\n",
              "    <tr style=\"text-align: right;\">\n",
              "      <th></th>\n",
              "      <th>Clearsky DHI</th>\n",
              "      <th>Clearsky DNI</th>\n",
              "      <th>Clearsky GHI</th>\n",
              "    </tr>\n",
              "  </thead>\n",
              "  <tbody>\n",
              "    <tr>\n",
              "      <th>0</th>\n",
              "      <td>-2.069542</td>\n",
              "      <td>-2.760045</td>\n",
              "      <td>-2.416841</td>\n",
              "    </tr>\n",
              "    <tr>\n",
              "      <th>1</th>\n",
              "      <td>-1.867836</td>\n",
              "      <td>-2.237985</td>\n",
              "      <td>-2.520705</td>\n",
              "    </tr>\n",
              "    <tr>\n",
              "      <th>2</th>\n",
              "      <td>-1.220629</td>\n",
              "      <td>-1.680550</td>\n",
              "      <td>-2.043858</td>\n",
              "    </tr>\n",
              "    <tr>\n",
              "      <th>3</th>\n",
              "      <td>-1.765505</td>\n",
              "      <td>-6.193044</td>\n",
              "      <td>-2.681900</td>\n",
              "    </tr>\n",
              "    <tr>\n",
              "      <th>4</th>\n",
              "      <td>-2.634625</td>\n",
              "      <td>-3.117712</td>\n",
              "      <td>-2.110423</td>\n",
              "    </tr>\n",
              "    <tr>\n",
              "      <th>...</th>\n",
              "      <td>...</td>\n",
              "      <td>...</td>\n",
              "      <td>...</td>\n",
              "    </tr>\n",
              "    <tr>\n",
              "      <th>17515</th>\n",
              "      <td>47.003669</td>\n",
              "      <td>661.035777</td>\n",
              "      <td>186.651608</td>\n",
              "    </tr>\n",
              "    <tr>\n",
              "      <th>17516</th>\n",
              "      <td>30.409471</td>\n",
              "      <td>479.375483</td>\n",
              "      <td>97.133145</td>\n",
              "    </tr>\n",
              "    <tr>\n",
              "      <th>17517</th>\n",
              "      <td>12.073723</td>\n",
              "      <td>177.053591</td>\n",
              "      <td>16.446673</td>\n",
              "    </tr>\n",
              "    <tr>\n",
              "      <th>17518</th>\n",
              "      <td>-1.600976</td>\n",
              "      <td>-13.640920</td>\n",
              "      <td>-1.223017</td>\n",
              "    </tr>\n",
              "    <tr>\n",
              "      <th>17519</th>\n",
              "      <td>-1.331461</td>\n",
              "      <td>-15.139842</td>\n",
              "      <td>-0.257153</td>\n",
              "    </tr>\n",
              "  </tbody>\n",
              "</table>\n",
              "<p>17520 rows × 3 columns</p>\n",
              "</div>\n",
              "      <button class=\"colab-df-convert\" onclick=\"convertToInteractive('df-d2568615-bf7b-46dc-9107-e5a2a7edb218')\"\n",
              "              title=\"Convert this dataframe to an interactive table.\"\n",
              "              style=\"display:none;\">\n",
              "        \n",
              "  <svg xmlns=\"http://www.w3.org/2000/svg\" height=\"24px\"viewBox=\"0 0 24 24\"\n",
              "       width=\"24px\">\n",
              "    <path d=\"M0 0h24v24H0V0z\" fill=\"none\"/>\n",
              "    <path d=\"M18.56 5.44l.94 2.06.94-2.06 2.06-.94-2.06-.94-.94-2.06-.94 2.06-2.06.94zm-11 1L8.5 8.5l.94-2.06 2.06-.94-2.06-.94L8.5 2.5l-.94 2.06-2.06.94zm10 10l.94 2.06.94-2.06 2.06-.94-2.06-.94-.94-2.06-.94 2.06-2.06.94z\"/><path d=\"M17.41 7.96l-1.37-1.37c-.4-.4-.92-.59-1.43-.59-.52 0-1.04.2-1.43.59L10.3 9.45l-7.72 7.72c-.78.78-.78 2.05 0 2.83L4 21.41c.39.39.9.59 1.41.59.51 0 1.02-.2 1.41-.59l7.78-7.78 2.81-2.81c.8-.78.8-2.07 0-2.86zM5.41 20L4 18.59l7.72-7.72 1.47 1.35L5.41 20z\"/>\n",
              "  </svg>\n",
              "      </button>\n",
              "      \n",
              "  <style>\n",
              "    .colab-df-container {\n",
              "      display:flex;\n",
              "      flex-wrap:wrap;\n",
              "      gap: 12px;\n",
              "    }\n",
              "\n",
              "    .colab-df-convert {\n",
              "      background-color: #E8F0FE;\n",
              "      border: none;\n",
              "      border-radius: 50%;\n",
              "      cursor: pointer;\n",
              "      display: none;\n",
              "      fill: #1967D2;\n",
              "      height: 32px;\n",
              "      padding: 0 0 0 0;\n",
              "      width: 32px;\n",
              "    }\n",
              "\n",
              "    .colab-df-convert:hover {\n",
              "      background-color: #E2EBFA;\n",
              "      box-shadow: 0px 1px 2px rgba(60, 64, 67, 0.3), 0px 1px 3px 1px rgba(60, 64, 67, 0.15);\n",
              "      fill: #174EA6;\n",
              "    }\n",
              "\n",
              "    [theme=dark] .colab-df-convert {\n",
              "      background-color: #3B4455;\n",
              "      fill: #D2E3FC;\n",
              "    }\n",
              "\n",
              "    [theme=dark] .colab-df-convert:hover {\n",
              "      background-color: #434B5C;\n",
              "      box-shadow: 0px 1px 3px 1px rgba(0, 0, 0, 0.15);\n",
              "      filter: drop-shadow(0px 1px 2px rgba(0, 0, 0, 0.3));\n",
              "      fill: #FFFFFF;\n",
              "    }\n",
              "  </style>\n",
              "\n",
              "      <script>\n",
              "        const buttonEl =\n",
              "          document.querySelector('#df-d2568615-bf7b-46dc-9107-e5a2a7edb218 button.colab-df-convert');\n",
              "        buttonEl.style.display =\n",
              "          google.colab.kernel.accessAllowed ? 'block' : 'none';\n",
              "\n",
              "        async function convertToInteractive(key) {\n",
              "          const element = document.querySelector('#df-d2568615-bf7b-46dc-9107-e5a2a7edb218');\n",
              "          const dataTable =\n",
              "            await google.colab.kernel.invokeFunction('convertToInteractive',\n",
              "                                                     [key], {});\n",
              "          if (!dataTable) return;\n",
              "\n",
              "          const docLinkHtml = 'Like what you see? Visit the ' +\n",
              "            '<a target=\"_blank\" href=https://colab.research.google.com/notebooks/data_table.ipynb>data table notebook</a>'\n",
              "            + ' to learn more about interactive tables.';\n",
              "          element.innerHTML = '';\n",
              "          dataTable['output_type'] = 'display_data';\n",
              "          await google.colab.output.renderOutput(dataTable, element);\n",
              "          const docLink = document.createElement('div');\n",
              "          docLink.innerHTML = docLinkHtml;\n",
              "          element.appendChild(docLink);\n",
              "        }\n",
              "      </script>\n",
              "    </div>\n",
              "  </div>\n",
              "  "
            ],
            "text/plain": [
              "       Clearsky DHI  Clearsky DNI  Clearsky GHI\n",
              "0         -2.069542     -2.760045     -2.416841\n",
              "1         -1.867836     -2.237985     -2.520705\n",
              "2         -1.220629     -1.680550     -2.043858\n",
              "3         -1.765505     -6.193044     -2.681900\n",
              "4         -2.634625     -3.117712     -2.110423\n",
              "...             ...           ...           ...\n",
              "17515     47.003669    661.035777    186.651608\n",
              "17516     30.409471    479.375483     97.133145\n",
              "17517     12.073723    177.053591     16.446673\n",
              "17518     -1.600976    -13.640920     -1.223017\n",
              "17519     -1.331461    -15.139842     -0.257153\n",
              "\n",
              "[17520 rows x 3 columns]"
            ]
          },
          "metadata": {},
          "execution_count": 79
        }
      ]
    },
    {
      "cell_type": "markdown",
      "metadata": {
        "id": "YCEF9QbRIDRf"
      },
      "source": [
        "## Feature Selection"
      ]
    },
    {
      "cell_type": "code",
      "execution_count": null,
      "metadata": {
        "id": "o6dx5FXMIGbQ"
      },
      "outputs": [],
      "source": [
        "featue_importance_DHI = pd.DataFrame({\n",
        "  'feature': X.columns,\n",
        "  'importance': model1.feature_importances_\n",
        "}).sort_values('importance', ascending=False)"
      ]
    },
    {
      "cell_type": "code",
      "execution_count": null,
      "metadata": {
        "colab": {
          "base_uri": "https://localhost:8080/",
          "height": 295
        },
        "id": "TPW7c0NuIJ7c",
        "outputId": "2560b0f2-1c68-4d9b-e1e1-5ca3d4372c95"
      },
      "outputs": [
        {
          "output_type": "display_data",
          "data": {
            "image/png": "[encoded data removed]",
            "text/plain": [
              "<Figure size 432x288 with 1 Axes>"
            ]
          },
          "metadata": {}
        }
      ],
      "source": [
        "plt.title('Feature Importance_DHI')\n",
        "sns.barplot(data=featue_importance_DHI.head(10), x='importance', y='feature');"
      ]
    },
    {
      "cell_type": "code",
      "execution_count": null,
      "metadata": {
        "id": "qGiEm-GvJPrB"
      },
      "outputs": [],
      "source": [
        "featue_importance_DNI = pd.DataFrame({\n",
        "  'feature': X.columns,\n",
        "  'importance': model2.feature_importances_\n",
        "}).sort_values('importance', ascending=False)"
      ]
    },
    {
      "cell_type": "code",
      "execution_count": null,
      "metadata": {
        "colab": {
          "base_uri": "https://localhost:8080/",
          "height": 295
        },
        "id": "6elfhec7JSMl",
        "outputId": "d356c541-6d8a-44f5-a5b1-1a033e1e741a"
      },
      "outputs": [
        {
          "output_type": "display_data",
          "data": {
            "image/png": "[encoded data removed]",
            "text/plain": [
              "<Figure size 432x288 with 1 Axes>"
            ]
          },
          "metadata": {}
        }
      ],
      "source": [
        "plt.title('Feature Importance_DNI')\n",
        "sns.barplot(data=featue_importance_DNI.head(10), x='importance', y='feature');"
      ]
    },
    {
      "cell_type": "code",
      "execution_count": null,
      "metadata": {
        "id": "3Er6IvYQJTdm"
      },
      "outputs": [],
      "source": [
        "featue_importance_GHI = pd.DataFrame({\n",
        "  'feature': X.columns,\n",
        "  'importance': model3.feature_importances_\n",
        "}).sort_values('importance', ascending=False)"
      ]
    },
    {
      "cell_type": "code",
      "execution_count": null,
      "metadata": {
        "colab": {
          "base_uri": "https://localhost:8080/",
          "height": 295
        },
        "id": "_askLy3OJV_C",
        "outputId": "47cfc0e8-3521-4582-999a-5a0f7dd8cd96"
      },
      "outputs": [
        {
          "output_type": "display_data",
          "data": {
            "image/png": "[encoded data removed]",
            "text/plain": [
              "<Figure size 432x288 with 1 Axes>"
            ]
          },
          "metadata": {}
        }
      ],
      "source": [
        "plt.title('Feature Importance_GHI')\n",
        "sns.barplot(data=featue_importance_GHI.head(10), x='importance', y='feature');"
      ]
    },
    {
      "cell_type": "markdown",
      "metadata": {
        "id": "mAMlxDfnxnDR"
      },
      "source": [
        "## Model Selection And Tuning"
      ]
    },
    {
      "cell_type": "code",
      "execution_count": null,
      "metadata": {
        "id": "1xoK44Wdxo2D"
      },
      "outputs": [],
      "source": [
        " # pip install flaml"
      ]
    },
    {
      "cell_type": "code",
      "execution_count": null,
      "metadata": {
        "id": "OrqEgHEfJg4a"
      },
      "outputs": [],
      "source": [
        "from flaml import AutoML"
      ]
    },
    {
      "cell_type": "code",
      "source": [
        "features = ['Precipitable Water', 'Wind Direction', 'Wind Speed', \n",
        "           'Relative Humidity', 'Solar Zenith Angle', 'Day']"
      ],
      "metadata": {
        "id": "gtvgKjgcNRo8"
      },
      "execution_count": null,
      "outputs": []
    },
    {
      "cell_type": "code",
      "source": [
        "X = X[features]"
      ],
      "metadata": {
        "id": "rlDS3o-0NTjp"
      },
      "execution_count": null,
      "outputs": []
    },
    {
      "cell_type": "code",
      "source": [
        "X1_train,X1_test,y1_train,y1_test = train_test_split(X,Y1,test_size=0.25,random_state=142)\n",
        "\n",
        "X2_train,X2_test,y2_train,y2_test = train_test_split(X,Y2,test_size=0.25,random_state=50)\n",
        "\n",
        "X3_train,X3_test,y3_train,y3_test = train_test_split(X,Y3,test_size=0.25,random_state=85)"
      ],
      "metadata": {
        "id": "LWr0QFYTNOJ0"
      },
      "execution_count": null,
      "outputs": []
    },
    {
      "cell_type": "markdown",
      "metadata": {
        "id": "URxnJxKunbr4"
      },
      "source": [
        "### DHI Model"
      ]
    },
    {
      "cell_type": "code",
      "execution_count": null,
      "metadata": {
        "id": "AUlC66qmKFq9"
      },
      "outputs": [],
      "source": [
        "modelDHI = AutoML()\n",
        "automl_settings = {\n",
        "    \"time_budget\": 150,  # in seconds\n",
        "    \"metric\": 'mse',\n",
        "    \"task\": 'regression'\n",
        "}"
      ]
    },
    {
      "cell_type": "code",
      "execution_count": null,
      "metadata": {
        "colab": {
          "base_uri": "https://localhost:8080/",
          "height": 1000
        },
        "id": "Ql_syKZAKMm4",
        "outputId": "66b9392f-8b5d-4e6e-d564-f3b3550434c2"
      },
      "outputs": [
        {
          "output_type": "stream",
          "name": "stderr",
          "text": [
            "[flaml.automl: 02-08 12:02:06] {2051} INFO - task = regression\n",
            "[flaml.automl: 02-08 12:02:06] {2053} INFO - Data split method: uniform\n",
            "[flaml.automl: 02-08 12:02:06] {2057} INFO - Evaluation method: holdout\n",
            "[flaml.automl: 02-08 12:02:06] {2138} INFO - Minimizing error metric: mse\n",
            "[flaml.automl: 02-08 12:02:06] {2196} INFO - List of ML learners in AutoML Run: ['lgbm', 'rf', 'xgboost', 'extra_tree', 'xgb_limitdepth']\n",
            "[flaml.automl: 02-08 12:02:06] {2449} INFO - iteration 0, current learner lgbm\n",
            "[flaml.automl: 02-08 12:02:06] {2563} INFO - Estimated sufficient time budget=6629s. Estimated necessary time budget=47s.\n",
            "[flaml.automl: 02-08 12:02:06] {2615} INFO -  at 0.2s,\testimator lgbm's best error=2046.2826,\tbest estimator lgbm's best error=2046.2826\n",
            "[flaml.automl: 02-08 12:02:06] {2449} INFO - iteration 1, current learner lgbm\n",
            "[flaml.automl: 02-08 12:02:06] {2615} INFO -  at 0.3s,\testimator lgbm's best error=2046.2826,\tbest estimator lgbm's best error=2046.2826\n",
            "[flaml.automl: 02-08 12:02:06] {2449} INFO - iteration 2, current learner lgbm\n",
            "[flaml.automl: 02-08 12:02:06] {2615} INFO -  at 0.3s,\testimator lgbm's best error=723.2791,\tbest estimator lgbm's best error=723.2791\n",
            "[flaml.automl: 02-08 12:02:06] {2449} INFO - iteration 3, current learner lgbm\n",
            "[flaml.automl: 02-08 12:02:06] {2615} INFO -  at 0.3s,\testimator lgbm's best error=352.5686,\tbest estimator lgbm's best error=352.5686\n",
            "[flaml.automl: 02-08 12:02:06] {2449} INFO - iteration 4, current learner lgbm\n",
            "[flaml.automl: 02-08 12:02:06] {2615} INFO -  at 0.4s,\testimator lgbm's best error=352.5686,\tbest estimator lgbm's best error=352.5686\n",
            "[flaml.automl: 02-08 12:02:06] {2449} INFO - iteration 5, current learner lgbm\n",
            "[flaml.automl: 02-08 12:02:06] {2615} INFO -  at 0.4s,\testimator lgbm's best error=339.1852,\tbest estimator lgbm's best error=339.1852\n",
            "[flaml.automl: 02-08 12:02:06] {2449} INFO - iteration 6, current learner lgbm\n",
            "[flaml.automl: 02-08 12:02:06] {2615} INFO -  at 0.5s,\testimator lgbm's best error=339.1852,\tbest estimator lgbm's best error=339.1852\n",
            "[flaml.automl: 02-08 12:02:06] {2449} INFO - iteration 7, current learner lgbm\n",
            "[flaml.automl: 02-08 12:02:06] {2615} INFO -  at 0.5s,\testimator lgbm's best error=339.1852,\tbest estimator lgbm's best error=339.1852\n",
            "[flaml.automl: 02-08 12:02:06] {2449} INFO - iteration 8, current learner lgbm\n",
            "[flaml.automl: 02-08 12:02:06] {2615} INFO -  at 0.6s,\testimator lgbm's best error=323.3225,\tbest estimator lgbm's best error=323.3225\n",
            "[flaml.automl: 02-08 12:02:06] {2449} INFO - iteration 9, current learner xgboost\n",
            "[flaml.automl: 02-08 12:02:06] {2615} INFO -  at 0.7s,\testimator xgboost's best error=3230.3337,\tbest estimator lgbm's best error=323.3225\n",
            "[flaml.automl: 02-08 12:02:06] {2449} INFO - iteration 10, current learner extra_tree\n",
            "[flaml.automl: 02-08 12:02:07] {2615} INFO -  at 1.0s,\testimator extra_tree's best error=613.4082,\tbest estimator lgbm's best error=323.3225\n",
            "[flaml.automl: 02-08 12:02:07] {2449} INFO - iteration 11, current learner rf\n",
            "[flaml.automl: 02-08 12:02:07] {2615} INFO -  at 1.3s,\testimator rf's best error=494.8111,\tbest estimator lgbm's best error=323.3225\n",
            "[flaml.automl: 02-08 12:02:07] {2449} INFO - iteration 12, current learner rf\n",
            "[flaml.automl: 02-08 12:02:07] {2615} INFO -  at 1.7s,\testimator rf's best error=362.2323,\tbest estimator lgbm's best error=323.3225\n",
            "[flaml.automl: 02-08 12:02:07] {2449} INFO - iteration 13, current learner xgboost\n",
            "[flaml.automl: 02-08 12:02:07] {2615} INFO -  at 1.7s,\testimator xgboost's best error=3230.3337,\tbest estimator lgbm's best error=323.3225\n",
            "[flaml.automl: 02-08 12:02:07] {2449} INFO - iteration 14, current learner lgbm\n",
            "[flaml.automl: 02-08 12:02:07] {2615} INFO -  at 1.8s,\testimator lgbm's best error=323.3225,\tbest estimator lgbm's best error=323.3225\n",
            "[flaml.automl: 02-08 12:02:07] {2449} INFO - iteration 15, current learner xgboost\n",
            "[flaml.automl: 02-08 12:02:08] {2615} INFO -  at 1.8s,\testimator xgboost's best error=1005.6069,\tbest estimator lgbm's best error=323.3225\n",
            "[flaml.automl: 02-08 12:02:08] {2449} INFO - iteration 16, current learner lgbm\n",
            "[flaml.automl: 02-08 12:02:08] {2615} INFO -  at 2.1s,\testimator lgbm's best error=304.0386,\tbest estimator lgbm's best error=304.0386\n",
            "[flaml.automl: 02-08 12:02:08] {2449} INFO - iteration 17, current learner extra_tree\n",
            "[flaml.automl: 02-08 12:02:08] {2615} INFO -  at 2.4s,\testimator extra_tree's best error=477.8383,\tbest estimator lgbm's best error=304.0386\n",
            "[flaml.automl: 02-08 12:02:08] {2449} INFO - iteration 18, current learner lgbm\n",
            "[flaml.automl: 02-08 12:02:09] {2615} INFO -  at 2.9s,\testimator lgbm's best error=304.0386,\tbest estimator lgbm's best error=304.0386\n",
            "[flaml.automl: 02-08 12:02:09] {2449} INFO - iteration 19, current learner xgboost\n",
            "[flaml.automl: 02-08 12:02:09] {2615} INFO -  at 2.9s,\testimator xgboost's best error=417.5227,\tbest estimator lgbm's best error=304.0386\n",
            "[flaml.automl: 02-08 12:02:09] {2449} INFO - iteration 20, current learner xgboost\n",
            "[flaml.automl: 02-08 12:02:09] {2615} INFO -  at 3.0s,\testimator xgboost's best error=417.5227,\tbest estimator lgbm's best error=304.0386\n",
            "[flaml.automl: 02-08 12:02:09] {2449} INFO - iteration 21, current learner xgboost\n",
            "[flaml.automl: 02-08 12:02:09] {2615} INFO -  at 3.1s,\testimator xgboost's best error=417.5227,\tbest estimator lgbm's best error=304.0386\n",
            "[flaml.automl: 02-08 12:02:09] {2449} INFO - iteration 22, current learner lgbm\n",
            "[flaml.automl: 02-08 12:02:09] {2615} INFO -  at 3.3s,\testimator lgbm's best error=304.0386,\tbest estimator lgbm's best error=304.0386\n",
            "[flaml.automl: 02-08 12:02:09] {2449} INFO - iteration 23, current learner rf\n",
            "[flaml.automl: 02-08 12:02:09] {2615} INFO -  at 3.6s,\testimator rf's best error=362.2323,\tbest estimator lgbm's best error=304.0386\n",
            "[flaml.automl: 02-08 12:02:09] {2449} INFO - iteration 24, current learner xgboost\n",
            "[flaml.automl: 02-08 12:02:09] {2615} INFO -  at 3.7s,\testimator xgboost's best error=346.9013,\tbest estimator lgbm's best error=304.0386\n",
            "[flaml.automl: 02-08 12:02:09] {2449} INFO - iteration 25, current learner extra_tree\n",
            "[flaml.automl: 02-08 12:02:10] {2615} INFO -  at 4.0s,\testimator extra_tree's best error=477.8383,\tbest estimator lgbm's best error=304.0386\n",
            "[flaml.automl: 02-08 12:02:10] {2449} INFO - iteration 26, current learner rf\n",
            "[flaml.automl: 02-08 12:02:10] {2615} INFO -  at 4.5s,\testimator rf's best error=328.0137,\tbest estimator lgbm's best error=304.0386\n",
            "[flaml.automl: 02-08 12:02:10] {2449} INFO - iteration 27, current learner xgboost\n",
            "[flaml.automl: 02-08 12:02:10] {2615} INFO -  at 4.6s,\testimator xgboost's best error=341.3910,\tbest estimator lgbm's best error=304.0386\n",
            "[flaml.automl: 02-08 12:02:10] {2449} INFO - iteration 28, current learner extra_tree\n",
            "[flaml.automl: 02-08 12:02:11] {2615} INFO -  at 5.1s,\testimator extra_tree's best error=330.7477,\tbest estimator lgbm's best error=304.0386\n",
            "[flaml.automl: 02-08 12:02:11] {2449} INFO - iteration 29, current learner extra_tree\n",
            "[flaml.automl: 02-08 12:02:11] {2615} INFO -  at 5.5s,\testimator extra_tree's best error=330.7477,\tbest estimator lgbm's best error=304.0386\n",
            "[flaml.automl: 02-08 12:02:11] {2449} INFO - iteration 30, current learner lgbm\n",
            "[flaml.automl: 02-08 12:02:11] {2615} INFO -  at 5.8s,\testimator lgbm's best error=304.0386,\tbest estimator lgbm's best error=304.0386\n",
            "[flaml.automl: 02-08 12:02:11] {2449} INFO - iteration 31, current learner lgbm\n",
            "[flaml.automl: 02-08 12:02:12] {2615} INFO -  at 6.1s,\testimator lgbm's best error=304.0386,\tbest estimator lgbm's best error=304.0386\n",
            "[flaml.automl: 02-08 12:02:12] {2449} INFO - iteration 32, current learner lgbm\n",
            "[flaml.automl: 02-08 12:02:13] {2615} INFO -  at 7.0s,\testimator lgbm's best error=238.6545,\tbest estimator lgbm's best error=238.6545\n",
            "[flaml.automl: 02-08 12:02:13] {2449} INFO - iteration 33, current learner extra_tree\n",
            "[flaml.automl: 02-08 12:02:13] {2615} INFO -  at 7.5s,\testimator extra_tree's best error=330.7477,\tbest estimator lgbm's best error=238.6545\n",
            "[flaml.automl: 02-08 12:02:13] {2449} INFO - iteration 34, current learner lgbm\n",
            "[flaml.automl: 02-08 12:02:14] {2615} INFO -  at 8.5s,\testimator lgbm's best error=199.0417,\tbest estimator lgbm's best error=199.0417\n",
            "[flaml.automl: 02-08 12:02:14] {2449} INFO - iteration 35, current learner lgbm\n",
            "[flaml.automl: 02-08 12:02:15] {2615} INFO -  at 9.5s,\testimator lgbm's best error=199.0417,\tbest estimator lgbm's best error=199.0417\n",
            "[flaml.automl: 02-08 12:02:15] {2449} INFO - iteration 36, current learner extra_tree\n",
            "[flaml.automl: 02-08 12:02:16] {2615} INFO -  at 9.9s,\testimator extra_tree's best error=330.7477,\tbest estimator lgbm's best error=199.0417\n",
            "[flaml.automl: 02-08 12:02:16] {2449} INFO - iteration 37, current learner lgbm\n",
            "[flaml.automl: 02-08 12:02:18] {2615} INFO -  at 12.4s,\testimator lgbm's best error=193.6455,\tbest estimator lgbm's best error=193.6455\n",
            "[flaml.automl: 02-08 12:02:18] {2449} INFO - iteration 38, current learner xgboost\n",
            "[flaml.automl: 02-08 12:02:18] {2615} INFO -  at 12.5s,\testimator xgboost's best error=328.2582,\tbest estimator lgbm's best error=193.6455\n",
            "[flaml.automl: 02-08 12:02:18] {2449} INFO - iteration 39, current learner rf\n",
            "[flaml.automl: 02-08 12:02:19] {2615} INFO -  at 13.0s,\testimator rf's best error=328.0137,\tbest estimator lgbm's best error=193.6455\n",
            "[flaml.automl: 02-08 12:02:19] {2449} INFO - iteration 40, current learner xgboost\n",
            "[flaml.automl: 02-08 12:02:19] {2615} INFO -  at 13.1s,\testimator xgboost's best error=324.4705,\tbest estimator lgbm's best error=193.6455\n",
            "[flaml.automl: 02-08 12:02:19] {2449} INFO - iteration 41, current learner extra_tree\n",
            "[flaml.automl: 02-08 12:02:19] {2615} INFO -  at 13.5s,\testimator extra_tree's best error=330.7477,\tbest estimator lgbm's best error=193.6455\n",
            "[flaml.automl: 02-08 12:02:19] {2449} INFO - iteration 42, current learner lgbm\n",
            "[flaml.automl: 02-08 12:02:20] {2615} INFO -  at 14.6s,\testimator lgbm's best error=193.6455,\tbest estimator lgbm's best error=193.6455\n",
            "[flaml.automl: 02-08 12:02:20] {2449} INFO - iteration 43, current learner extra_tree\n",
            "[flaml.automl: 02-08 12:02:21] {2615} INFO -  at 15.4s,\testimator extra_tree's best error=325.0548,\tbest estimator lgbm's best error=193.6455\n",
            "[flaml.automl: 02-08 12:02:21] {2449} INFO - iteration 44, current learner extra_tree\n",
            "[flaml.automl: 02-08 12:02:22] {2615} INFO -  at 16.5s,\testimator extra_tree's best error=325.0548,\tbest estimator lgbm's best error=193.6455\n",
            "[flaml.automl: 02-08 12:02:22] {2449} INFO - iteration 45, current learner rf\n",
            "[flaml.automl: 02-08 12:02:23] {2615} INFO -  at 17.0s,\testimator rf's best error=328.0137,\tbest estimator lgbm's best error=193.6455\n",
            "[flaml.automl: 02-08 12:02:23] {2449} INFO - iteration 46, current learner lgbm\n",
            "[flaml.automl: 02-08 12:02:23] {2615} INFO -  at 17.8s,\testimator lgbm's best error=193.6455,\tbest estimator lgbm's best error=193.6455\n",
            "[flaml.automl: 02-08 12:02:23] {2449} INFO - iteration 47, current learner xgboost\n",
            "[flaml.automl: 02-08 12:02:24] {2615} INFO -  at 17.9s,\testimator xgboost's best error=324.4705,\tbest estimator lgbm's best error=193.6455\n",
            "[flaml.automl: 02-08 12:02:24] {2449} INFO - iteration 48, current learner lgbm\n",
            "[flaml.automl: 02-08 12:02:31] {2615} INFO -  at 24.9s,\testimator lgbm's best error=160.6248,\tbest estimator lgbm's best error=160.6248\n",
            "[flaml.automl: 02-08 12:02:31] {2449} INFO - iteration 49, current learner xgb_limitdepth\n",
            "[flaml.automl: 02-08 12:02:31] {2615} INFO -  at 25.2s,\testimator xgb_limitdepth's best error=314.7381,\tbest estimator lgbm's best error=160.6248\n",
            "[flaml.automl: 02-08 12:02:31] {2449} INFO - iteration 50, current learner xgb_limitdepth\n",
            "[flaml.automl: 02-08 12:02:31] {2615} INFO -  at 25.3s,\testimator xgb_limitdepth's best error=314.7381,\tbest estimator lgbm's best error=160.6248\n",
            "[flaml.automl: 02-08 12:02:31] {2449} INFO - iteration 51, current learner xgb_limitdepth\n",
            "[flaml.automl: 02-08 12:02:31] {2615} INFO -  at 25.5s,\testimator xgb_limitdepth's best error=314.7381,\tbest estimator lgbm's best error=160.6248\n",
            "[flaml.automl: 02-08 12:02:31] {2449} INFO - iteration 52, current learner xgb_limitdepth\n",
            "[flaml.automl: 02-08 12:02:31] {2615} INFO -  at 25.7s,\testimator xgb_limitdepth's best error=314.7381,\tbest estimator lgbm's best error=160.6248\n",
            "[flaml.automl: 02-08 12:02:31] {2449} INFO - iteration 53, current learner xgb_limitdepth\n",
            "[flaml.automl: 02-08 12:02:32] {2615} INFO -  at 25.9s,\testimator xgb_limitdepth's best error=314.7381,\tbest estimator lgbm's best error=160.6248\n",
            "[flaml.automl: 02-08 12:02:32] {2449} INFO - iteration 54, current learner rf\n",
            "[flaml.automl: 02-08 12:02:32] {2615} INFO -  at 26.3s,\testimator rf's best error=328.0137,\tbest estimator lgbm's best error=160.6248\n",
            "[flaml.automl: 02-08 12:02:32] {2449} INFO - iteration 55, current learner lgbm\n",
            "[flaml.automl: 02-08 12:02:41] {2615} INFO -  at 35.5s,\testimator lgbm's best error=153.8439,\tbest estimator lgbm's best error=153.8439\n",
            "[flaml.automl: 02-08 12:02:41] {2449} INFO - iteration 56, current learner xgb_limitdepth\n",
            "[flaml.automl: 02-08 12:02:41] {2615} INFO -  at 35.6s,\testimator xgb_limitdepth's best error=314.7381,\tbest estimator lgbm's best error=153.8439\n",
            "[flaml.automl: 02-08 12:02:41] {2449} INFO - iteration 57, current learner xgb_limitdepth\n",
            "[flaml.automl: 02-08 12:02:42] {2615} INFO -  at 35.9s,\testimator xgb_limitdepth's best error=314.7381,\tbest estimator lgbm's best error=153.8439\n",
            "[flaml.automl: 02-08 12:02:42] {2449} INFO - iteration 58, current learner xgb_limitdepth\n",
            "[flaml.automl: 02-08 12:02:43] {2615} INFO -  at 37.7s,\testimator xgb_limitdepth's best error=300.9560,\tbest estimator lgbm's best error=153.8439\n",
            "[flaml.automl: 02-08 12:02:43] {2449} INFO - iteration 59, current learner rf\n",
            "[flaml.automl: 02-08 12:02:44] {2615} INFO -  at 38.1s,\testimator rf's best error=328.0137,\tbest estimator lgbm's best error=153.8439\n",
            "[flaml.automl: 02-08 12:02:44] {2449} INFO - iteration 60, current learner lgbm\n",
            "[flaml.automl: 02-08 12:02:51] {2615} INFO -  at 45.0s,\testimator lgbm's best error=153.8439,\tbest estimator lgbm's best error=153.8439\n",
            "[flaml.automl: 02-08 12:02:51] {2449} INFO - iteration 61, current learner rf\n",
            "[flaml.automl: 02-08 12:02:51] {2615} INFO -  at 45.6s,\testimator rf's best error=317.4085,\tbest estimator lgbm's best error=153.8439\n",
            "[flaml.automl: 02-08 12:02:51] {2449} INFO - iteration 62, current learner lgbm\n",
            "[flaml.automl: 02-08 12:02:59] {2615} INFO -  at 53.2s,\testimator lgbm's best error=135.7848,\tbest estimator lgbm's best error=135.7848\n",
            "[flaml.automl: 02-08 12:02:59] {2449} INFO - iteration 63, current learner xgboost\n",
            "[flaml.automl: 02-08 12:02:59] {2615} INFO -  at 53.3s,\testimator xgboost's best error=324.4705,\tbest estimator lgbm's best error=135.7848\n",
            "[flaml.automl: 02-08 12:02:59] {2449} INFO - iteration 64, current learner xgboost\n"
          ]
        },
        {
          "output_type": "error",
          "ename": "KeyboardInterrupt",
          "evalue": "ignored",
          "traceback": [
            "\u001b[0;31m---------------------------------------------------------------------------\u001b[0m",
            "\u001b[0;31mKeyboardInterrupt\u001b[0m                         Traceback (most recent call last)",
            "\u001b[0;32m<ipython-input-32-ed4e37e1e267>\u001b[0m in \u001b[0;36m<module>\u001b[0;34m()\u001b[0m\n\u001b[1;32m      1\u001b[0m \u001b[0;31m# Train with labeled input data\u001b[0m\u001b[0;34m\u001b[0m\u001b[0;34m\u001b[0m\u001b[0;34m\u001b[0m\u001b[0m\n\u001b[0;32m----> 2\u001b[0;31m \u001b[0mmodelDHI\u001b[0m\u001b[0;34m.\u001b[0m\u001b[0mfit\u001b[0m\u001b[0;34m(\u001b[0m\u001b[0mX_train\u001b[0m\u001b[0;34m=\u001b[0m\u001b[0mX1_train\u001b[0m\u001b[0;34m,\u001b[0m \u001b[0my_train\u001b[0m\u001b[0;34m=\u001b[0m\u001b[0my1_train\u001b[0m\u001b[0;34m,\u001b[0m \u001b[0;34m**\u001b[0m\u001b[0mautoml_settings\u001b[0m\u001b[0;34m)\u001b[0m\u001b[0;34m\u001b[0m\u001b[0;34m\u001b[0m\u001b[0m\n\u001b[0m",
            "\u001b[0;32m/usr/local/lib/python3.7/dist-packages/flaml/automl.py\u001b[0m in \u001b[0;36mfit\u001b[0;34m(self, X_train, y_train, dataframe, label, metric, task, n_jobs, log_file_name, estimator_list, time_budget, max_iter, sample, ensemble, eval_method, log_type, model_history, split_ratio, n_splits, log_training_metric, mem_thres, pred_time_limit, train_time_limit, X_val, y_val, sample_weight_val, groups_val, groups, verbose, retrain_full, split_type, learner_selector, hpo_method, starting_points, seed, n_concurrent_trials, keep_search_state, early_stop, append_log, auto_augment, min_sample_size, use_ray, **fit_kwargs)\u001b[0m\n\u001b[1;32m   2221\u001b[0m         \u001b[0;32melse\u001b[0m\u001b[0;34m:\u001b[0m\u001b[0;34m\u001b[0m\u001b[0;34m\u001b[0m\u001b[0m\n\u001b[1;32m   2222\u001b[0m             \u001b[0mself\u001b[0m\u001b[0;34m.\u001b[0m\u001b[0m_training_log\u001b[0m \u001b[0;34m=\u001b[0m \u001b[0;32mNone\u001b[0m\u001b[0;34m\u001b[0m\u001b[0;34m\u001b[0m\u001b[0m\n\u001b[0;32m-> 2223\u001b[0;31m             \u001b[0mself\u001b[0m\u001b[0;34m.\u001b[0m\u001b[0m_search\u001b[0m\u001b[0;34m(\u001b[0m\u001b[0;34m)\u001b[0m\u001b[0;34m\u001b[0m\u001b[0;34m\u001b[0m\u001b[0m\n\u001b[0m\u001b[1;32m   2224\u001b[0m         \u001b[0;32mif\u001b[0m \u001b[0mself\u001b[0m\u001b[0;34m.\u001b[0m\u001b[0m_best_estimator\u001b[0m\u001b[0;34m:\u001b[0m\u001b[0;34m\u001b[0m\u001b[0;34m\u001b[0m\u001b[0m\n\u001b[1;32m   2225\u001b[0m             \u001b[0mlogger\u001b[0m\u001b[0;34m.\u001b[0m\u001b[0minfo\u001b[0m\u001b[0;34m(\u001b[0m\u001b[0;34m\"fit succeeded\"\u001b[0m\u001b[0;34m)\u001b[0m\u001b[0;34m\u001b[0m\u001b[0;34m\u001b[0m\u001b[0m\n",
            "\u001b[0;32m/usr/local/lib/python3.7/dist-packages/flaml/automl.py\u001b[0m in \u001b[0;36m_search\u001b[0;34m(self)\u001b[0m\n\u001b[1;32m   2715\u001b[0m             )\n\u001b[1;32m   2716\u001b[0m         \u001b[0;32melif\u001b[0m \u001b[0;32mnot\u001b[0m \u001b[0mself\u001b[0m\u001b[0;34m.\u001b[0m\u001b[0m_use_ray\u001b[0m\u001b[0;34m:\u001b[0m\u001b[0;34m\u001b[0m\u001b[0;34m\u001b[0m\u001b[0m\n\u001b[0;32m-> 2717\u001b[0;31m             \u001b[0mself\u001b[0m\u001b[0;34m.\u001b[0m\u001b[0m_search_sequential\u001b[0m\u001b[0;34m(\u001b[0m\u001b[0;34m)\u001b[0m\u001b[0;34m\u001b[0m\u001b[0;34m\u001b[0m\u001b[0m\n\u001b[0m\u001b[1;32m   2718\u001b[0m         \u001b[0;32melse\u001b[0m\u001b[0;34m:\u001b[0m\u001b[0;34m\u001b[0m\u001b[0;34m\u001b[0m\u001b[0m\n\u001b[1;32m   2719\u001b[0m             \u001b[0mself\u001b[0m\u001b[0;34m.\u001b[0m\u001b[0m_search_parallel\u001b[0m\u001b[0;34m(\u001b[0m\u001b[0;34m)\u001b[0m\u001b[0;34m\u001b[0m\u001b[0;34m\u001b[0m\u001b[0m\n",
            "\u001b[0;32m/usr/local/lib/python3.7/dist-packages/flaml/automl.py\u001b[0m in \u001b[0;36m_search_sequential\u001b[0;34m(self)\u001b[0m\n\u001b[1;32m   2538\u001b[0m                 \u001b[0mtime_budget_s\u001b[0m\u001b[0;34m=\u001b[0m\u001b[0mmin\u001b[0m\u001b[0;34m(\u001b[0m\u001b[0mbudget_left\u001b[0m\u001b[0;34m,\u001b[0m \u001b[0mself\u001b[0m\u001b[0;34m.\u001b[0m\u001b[0m_state\u001b[0m\u001b[0;34m.\u001b[0m\u001b[0mtrain_time_limit\u001b[0m\u001b[0;34m)\u001b[0m\u001b[0;34m,\u001b[0m\u001b[0;34m\u001b[0m\u001b[0;34m\u001b[0m\u001b[0m\n\u001b[1;32m   2539\u001b[0m                 \u001b[0mverbose\u001b[0m\u001b[0;34m=\u001b[0m\u001b[0mmax\u001b[0m\u001b[0;34m(\u001b[0m\u001b[0mself\u001b[0m\u001b[0;34m.\u001b[0m\u001b[0mverbose\u001b[0m \u001b[0;34m-\u001b[0m \u001b[0;36m3\u001b[0m\u001b[0;34m,\u001b[0m \u001b[0;36m0\u001b[0m\u001b[0;34m)\u001b[0m\u001b[0;34m,\u001b[0m\u001b[0;34m\u001b[0m\u001b[0;34m\u001b[0m\u001b[0m\n\u001b[0;32m-> 2540\u001b[0;31m                 \u001b[0muse_ray\u001b[0m\u001b[0;34m=\u001b[0m\u001b[0;32mFalse\u001b[0m\u001b[0;34m,\u001b[0m\u001b[0;34m\u001b[0m\u001b[0;34m\u001b[0m\u001b[0m\n\u001b[0m\u001b[1;32m   2541\u001b[0m             )\n\u001b[1;32m   2542\u001b[0m             \u001b[0mtime_used\u001b[0m \u001b[0;34m=\u001b[0m \u001b[0mtime\u001b[0m\u001b[0;34m.\u001b[0m\u001b[0mtime\u001b[0m\u001b[0;34m(\u001b[0m\u001b[0;34m)\u001b[0m \u001b[0;34m-\u001b[0m \u001b[0mstart_run_time\u001b[0m\u001b[0;34m\u001b[0m\u001b[0;34m\u001b[0m\u001b[0m\n",
            "\u001b[0;32m/usr/local/lib/python3.7/dist-packages/flaml/tune/tune.py\u001b[0m in \u001b[0;36mrun\u001b[0;34m(evaluation_function, config, low_cost_partial_config, cat_hp_cost, metric, mode, time_budget_s, points_to_evaluate, evaluated_rewards, resource_attr, min_resource, max_resource, reduction_factor, scheduler, search_alg, verbose, local_dir, num_samples, resources_per_trial, config_constraints, metric_constraints, max_failure, use_ray, use_incumbent_result_in_evaluation)\u001b[0m\n\u001b[1;32m    446\u001b[0m             \u001b[0;32mif\u001b[0m \u001b[0mverbose\u001b[0m\u001b[0;34m:\u001b[0m\u001b[0;34m\u001b[0m\u001b[0;34m\u001b[0m\u001b[0m\n\u001b[1;32m    447\u001b[0m                 \u001b[0mlogger\u001b[0m\u001b[0;34m.\u001b[0m\u001b[0minfo\u001b[0m\u001b[0;34m(\u001b[0m\u001b[0;34mf\"trial {num_trials} config: {trial_to_run.config}\"\u001b[0m\u001b[0;34m)\u001b[0m\u001b[0;34m\u001b[0m\u001b[0;34m\u001b[0m\u001b[0m\n\u001b[0;32m--> 448\u001b[0;31m             \u001b[0mresult\u001b[0m \u001b[0;34m=\u001b[0m \u001b[0mevaluation_function\u001b[0m\u001b[0;34m(\u001b[0m\u001b[0mtrial_to_run\u001b[0m\u001b[0;34m.\u001b[0m\u001b[0mconfig\u001b[0m\u001b[0;34m)\u001b[0m\u001b[0;34m\u001b[0m\u001b[0;34m\u001b[0m\u001b[0m\n\u001b[0m\u001b[1;32m    449\u001b[0m             \u001b[0;32mif\u001b[0m \u001b[0mresult\u001b[0m \u001b[0;32mis\u001b[0m \u001b[0;32mnot\u001b[0m \u001b[0;32mNone\u001b[0m\u001b[0;34m:\u001b[0m\u001b[0;34m\u001b[0m\u001b[0;34m\u001b[0m\u001b[0m\n\u001b[1;32m    450\u001b[0m                 \u001b[0;32mif\u001b[0m \u001b[0misinstance\u001b[0m\u001b[0;34m(\u001b[0m\u001b[0mresult\u001b[0m\u001b[0;34m,\u001b[0m \u001b[0mdict\u001b[0m\u001b[0;34m)\u001b[0m\u001b[0;34m:\u001b[0m\u001b[0;34m\u001b[0m\u001b[0;34m\u001b[0m\u001b[0m\n",
            "\u001b[0;32m/usr/local/lib/python3.7/dist-packages/flaml/automl.py\u001b[0m in \u001b[0;36m_compute_with_config_base\u001b[0;34m(self, estimator, config_w_resource)\u001b[0m\n\u001b[1;32m    276\u001b[0m             \u001b[0mself\u001b[0m\u001b[0;34m.\u001b[0m\u001b[0mlearner_classes\u001b[0m\u001b[0;34m.\u001b[0m\u001b[0mget\u001b[0m\u001b[0;34m(\u001b[0m\u001b[0mestimator\u001b[0m\u001b[0;34m)\u001b[0m\u001b[0;34m,\u001b[0m\u001b[0;34m\u001b[0m\u001b[0;34m\u001b[0m\u001b[0m\n\u001b[1;32m    277\u001b[0m             \u001b[0mself\u001b[0m\u001b[0;34m.\u001b[0m\u001b[0mlog_training_metric\u001b[0m\u001b[0;34m,\u001b[0m\u001b[0;34m\u001b[0m\u001b[0;34m\u001b[0m\u001b[0m\n\u001b[0;32m--> 278\u001b[0;31m             \u001b[0mself\u001b[0m\u001b[0;34m.\u001b[0m\u001b[0mfit_kwargs\u001b[0m\u001b[0;34m,\u001b[0m\u001b[0;34m\u001b[0m\u001b[0;34m\u001b[0m\u001b[0m\n\u001b[0m\u001b[1;32m    279\u001b[0m         )\n\u001b[1;32m    280\u001b[0m         \u001b[0;32mif\u001b[0m \u001b[0mself\u001b[0m\u001b[0;34m.\u001b[0m\u001b[0mretrain_final\u001b[0m \u001b[0;32mand\u001b[0m \u001b[0;32mnot\u001b[0m \u001b[0mself\u001b[0m\u001b[0;34m.\u001b[0m\u001b[0mmodel_history\u001b[0m\u001b[0;34m:\u001b[0m\u001b[0;34m\u001b[0m\u001b[0;34m\u001b[0m\u001b[0m\n",
            "\u001b[0;32m/usr/local/lib/python3.7/dist-packages/flaml/ml.py\u001b[0m in \u001b[0;36mcompute_estimator\u001b[0;34m(X_train, y_train, X_val, y_val, weight_val, groups_val, budget, kf, config_dic, task, estimator_name, eval_method, eval_metric, best_val_loss, n_jobs, estimator_class, log_training_metric, fit_kwargs)\u001b[0m\n\u001b[1;32m    576\u001b[0m             \u001b[0mbudget\u001b[0m\u001b[0;34m=\u001b[0m\u001b[0mbudget\u001b[0m\u001b[0;34m,\u001b[0m\u001b[0;34m\u001b[0m\u001b[0;34m\u001b[0m\u001b[0m\n\u001b[1;32m    577\u001b[0m             \u001b[0mlog_training_metric\u001b[0m\u001b[0;34m=\u001b[0m\u001b[0mlog_training_metric\u001b[0m\u001b[0;34m,\u001b[0m\u001b[0;34m\u001b[0m\u001b[0;34m\u001b[0m\u001b[0m\n\u001b[0;32m--> 578\u001b[0;31m             \u001b[0mfit_kwargs\u001b[0m\u001b[0;34m=\u001b[0m\u001b[0mfit_kwargs\u001b[0m\u001b[0;34m,\u001b[0m\u001b[0;34m\u001b[0m\u001b[0;34m\u001b[0m\u001b[0m\n\u001b[0m\u001b[1;32m    579\u001b[0m         )\n\u001b[1;32m    580\u001b[0m     \u001b[0;32melse\u001b[0m\u001b[0;34m:\u001b[0m\u001b[0;34m\u001b[0m\u001b[0;34m\u001b[0m\u001b[0m\n",
            "\u001b[0;32m/usr/local/lib/python3.7/dist-packages/flaml/ml.py\u001b[0m in \u001b[0;36mget_val_loss\u001b[0;34m(config, estimator, X_train, y_train, X_val, y_val, weight_val, groups_val, eval_metric, obj, labels, budget, log_training_metric, fit_kwargs)\u001b[0m\n\u001b[1;32m    398\u001b[0m     \u001b[0;31m#     fit_kwargs['X_val'] = X_val\u001b[0m\u001b[0;34m\u001b[0m\u001b[0;34m\u001b[0m\u001b[0;34m\u001b[0m\u001b[0m\n\u001b[1;32m    399\u001b[0m     \u001b[0;31m#     fit_kwargs['y_val'] = y_val\u001b[0m\u001b[0;34m\u001b[0m\u001b[0;34m\u001b[0m\u001b[0;34m\u001b[0m\u001b[0m\n\u001b[0;32m--> 400\u001b[0;31m     \u001b[0mestimator\u001b[0m\u001b[0;34m.\u001b[0m\u001b[0mfit\u001b[0m\u001b[0;34m(\u001b[0m\u001b[0mX_train\u001b[0m\u001b[0;34m,\u001b[0m \u001b[0my_train\u001b[0m\u001b[0;34m,\u001b[0m \u001b[0mbudget\u001b[0m\u001b[0;34m,\u001b[0m \u001b[0;34m**\u001b[0m\u001b[0mfit_kwargs\u001b[0m\u001b[0;34m)\u001b[0m\u001b[0;34m\u001b[0m\u001b[0;34m\u001b[0m\u001b[0m\n\u001b[0m\u001b[1;32m    401\u001b[0m     val_loss, metric_for_logging, pred_time, _ = _eval_estimator(\n\u001b[1;32m    402\u001b[0m         \u001b[0mconfig\u001b[0m\u001b[0;34m,\u001b[0m\u001b[0;34m\u001b[0m\u001b[0;34m\u001b[0m\u001b[0m\n",
            "\u001b[0;32m/usr/local/lib/python3.7/dist-packages/flaml/model.py\u001b[0m in \u001b[0;36mfit\u001b[0;34m(self, X_train, y_train, budget, **kwargs)\u001b[0m\n\u001b[1;32m   1188\u001b[0m             \u001b[0mself\u001b[0m\u001b[0;34m.\u001b[0m\u001b[0mparams\u001b[0m\u001b[0;34m[\u001b[0m\u001b[0;34m\"tree_method\"\u001b[0m\u001b[0;34m]\u001b[0m \u001b[0;34m=\u001b[0m \u001b[0;34m\"gpu_hist\"\u001b[0m\u001b[0;34m\u001b[0m\u001b[0;34m\u001b[0m\u001b[0m\n\u001b[1;32m   1189\u001b[0m             \u001b[0mkwargs\u001b[0m\u001b[0;34m.\u001b[0m\u001b[0mpop\u001b[0m\u001b[0;34m(\u001b[0m\u001b[0;34m\"gpu_per_trial\"\u001b[0m\u001b[0;34m)\u001b[0m\u001b[0;34m\u001b[0m\u001b[0;34m\u001b[0m\u001b[0m\n\u001b[0;32m-> 1190\u001b[0;31m         \u001b[0;32mreturn\u001b[0m \u001b[0msuper\u001b[0m\u001b[0;34m(\u001b[0m\u001b[0;34m)\u001b[0m\u001b[0;34m.\u001b[0m\u001b[0mfit\u001b[0m\u001b[0;34m(\u001b[0m\u001b[0mX_train\u001b[0m\u001b[0;34m,\u001b[0m \u001b[0my_train\u001b[0m\u001b[0;34m,\u001b[0m \u001b[0mbudget\u001b[0m\u001b[0;34m,\u001b[0m \u001b[0;34m**\u001b[0m\u001b[0mkwargs\u001b[0m\u001b[0;34m)\u001b[0m\u001b[0;34m\u001b[0m\u001b[0;34m\u001b[0m\u001b[0m\n\u001b[0m\u001b[1;32m   1191\u001b[0m \u001b[0;34m\u001b[0m\u001b[0m\n\u001b[1;32m   1192\u001b[0m     \u001b[0;32mdef\u001b[0m \u001b[0m_callbacks\u001b[0m\u001b[0;34m(\u001b[0m\u001b[0mself\u001b[0m\u001b[0;34m,\u001b[0m \u001b[0mstart_time\u001b[0m\u001b[0;34m,\u001b[0m \u001b[0mdeadline\u001b[0m\u001b[0;34m)\u001b[0m \u001b[0;34m->\u001b[0m \u001b[0mList\u001b[0m\u001b[0;34m[\u001b[0m\u001b[0mCallable\u001b[0m\u001b[0;34m]\u001b[0m\u001b[0;34m:\u001b[0m\u001b[0;34m\u001b[0m\u001b[0;34m\u001b[0m\u001b[0m\n",
            "\u001b[0;32m/usr/local/lib/python3.7/dist-packages/flaml/model.py\u001b[0m in \u001b[0;36mfit\u001b[0;34m(self, X_train, y_train, budget, **kwargs)\u001b[0m\n\u001b[1;32m    909\u001b[0m                 \u001b[0mself\u001b[0m\u001b[0;34m.\u001b[0m\u001b[0m_mem1\u001b[0m \u001b[0;34m=\u001b[0m \u001b[0mmem0\u001b[0m \u001b[0;34m-\u001b[0m \u001b[0mmem1\u001b[0m\u001b[0;34m\u001b[0m\u001b[0;34m\u001b[0m\u001b[0m\n\u001b[1;32m    910\u001b[0m                 \u001b[0mself\u001b[0m\u001b[0;34m.\u001b[0m\u001b[0mparams\u001b[0m\u001b[0;34m[\u001b[0m\u001b[0mself\u001b[0m\u001b[0;34m.\u001b[0m\u001b[0mITER_HP\u001b[0m\u001b[0;34m]\u001b[0m \u001b[0;34m=\u001b[0m \u001b[0mmin\u001b[0m\u001b[0;34m(\u001b[0m\u001b[0mn_iter\u001b[0m\u001b[0;34m,\u001b[0m \u001b[0;36m4\u001b[0m\u001b[0;34m)\u001b[0m\u001b[0;34m\u001b[0m\u001b[0;34m\u001b[0m\u001b[0m\n\u001b[0;32m--> 911\u001b[0;31m                 \u001b[0mself\u001b[0m\u001b[0;34m.\u001b[0m\u001b[0m_t2\u001b[0m \u001b[0;34m=\u001b[0m \u001b[0mself\u001b[0m\u001b[0;34m.\u001b[0m\u001b[0m_fit\u001b[0m\u001b[0;34m(\u001b[0m\u001b[0mX_train\u001b[0m\u001b[0;34m,\u001b[0m \u001b[0my_train\u001b[0m\u001b[0;34m,\u001b[0m \u001b[0;34m**\u001b[0m\u001b[0mkwargs\u001b[0m\u001b[0;34m)\u001b[0m\u001b[0;34m\u001b[0m\u001b[0;34m\u001b[0m\u001b[0m\n\u001b[0m\u001b[1;32m    912\u001b[0m                 \u001b[0mmem2\u001b[0m \u001b[0;34m=\u001b[0m \u001b[0mpsutil\u001b[0m\u001b[0;34m.\u001b[0m\u001b[0mvirtual_memory\u001b[0m\u001b[0;34m(\u001b[0m\u001b[0;34m)\u001b[0m\u001b[0;34m.\u001b[0m\u001b[0mavailable\u001b[0m \u001b[0;32mif\u001b[0m \u001b[0mpsutil\u001b[0m \u001b[0;32mis\u001b[0m \u001b[0;32mnot\u001b[0m \u001b[0;32mNone\u001b[0m \u001b[0;32melse\u001b[0m \u001b[0;36m1\u001b[0m\u001b[0;34m\u001b[0m\u001b[0;34m\u001b[0m\u001b[0m\n\u001b[1;32m    913\u001b[0m                 \u001b[0mself\u001b[0m\u001b[0;34m.\u001b[0m\u001b[0m_mem2\u001b[0m \u001b[0;34m=\u001b[0m \u001b[0mmax\u001b[0m\u001b[0;34m(\u001b[0m\u001b[0mmem0\u001b[0m \u001b[0;34m-\u001b[0m \u001b[0mmem2\u001b[0m\u001b[0;34m,\u001b[0m \u001b[0mself\u001b[0m\u001b[0;34m.\u001b[0m\u001b[0m_mem1\u001b[0m\u001b[0;34m)\u001b[0m\u001b[0;34m\u001b[0m\u001b[0;34m\u001b[0m\u001b[0m\n",
            "\u001b[0;32m/usr/local/lib/python3.7/dist-packages/flaml/model.py\u001b[0m in \u001b[0;36m_fit\u001b[0;34m(self, X_train, y_train, **kwargs)\u001b[0m\n\u001b[1;32m    150\u001b[0m         \u001b[0;32mif\u001b[0m \u001b[0mlogger\u001b[0m\u001b[0;34m.\u001b[0m\u001b[0mlevel\u001b[0m \u001b[0;34m==\u001b[0m \u001b[0mlogging\u001b[0m\u001b[0;34m.\u001b[0m\u001b[0mDEBUG\u001b[0m\u001b[0;34m:\u001b[0m\u001b[0;34m\u001b[0m\u001b[0;34m\u001b[0m\u001b[0m\n\u001b[1;32m    151\u001b[0m             \u001b[0mlogger\u001b[0m\u001b[0;34m.\u001b[0m\u001b[0mdebug\u001b[0m\u001b[0;34m(\u001b[0m\u001b[0;34mf\"flaml.model - {model} fit started\"\u001b[0m\u001b[0;34m)\u001b[0m\u001b[0;34m\u001b[0m\u001b[0;34m\u001b[0m\u001b[0m\n\u001b[0;32m--> 152\u001b[0;31m         \u001b[0mmodel\u001b[0m\u001b[0;34m.\u001b[0m\u001b[0mfit\u001b[0m\u001b[0;34m(\u001b[0m\u001b[0mX_train\u001b[0m\u001b[0;34m,\u001b[0m \u001b[0my_train\u001b[0m\u001b[0;34m,\u001b[0m \u001b[0;34m**\u001b[0m\u001b[0mkwargs\u001b[0m\u001b[0;34m)\u001b[0m\u001b[0;34m\u001b[0m\u001b[0;34m\u001b[0m\u001b[0m\n\u001b[0m\u001b[1;32m    153\u001b[0m         \u001b[0;32mif\u001b[0m \u001b[0mlogger\u001b[0m\u001b[0;34m.\u001b[0m\u001b[0mlevel\u001b[0m \u001b[0;34m==\u001b[0m \u001b[0mlogging\u001b[0m\u001b[0;34m.\u001b[0m\u001b[0mDEBUG\u001b[0m\u001b[0;34m:\u001b[0m\u001b[0;34m\u001b[0m\u001b[0;34m\u001b[0m\u001b[0m\n\u001b[1;32m    154\u001b[0m             \u001b[0mlogger\u001b[0m\u001b[0;34m.\u001b[0m\u001b[0mdebug\u001b[0m\u001b[0;34m(\u001b[0m\u001b[0;34mf\"flaml.model - {model} fit finished\"\u001b[0m\u001b[0;34m)\u001b[0m\u001b[0;34m\u001b[0m\u001b[0;34m\u001b[0m\u001b[0m\n",
            "\u001b[0;32m/usr/local/lib/python3.7/dist-packages/xgboost/sklearn.py\u001b[0m in \u001b[0;36mfit\u001b[0;34m(self, X, y, sample_weight, eval_set, eval_metric, early_stopping_rounds, verbose, xgb_model, sample_weight_eval_set, callbacks)\u001b[0m\n\u001b[1;32m    358\u001b[0m                                    missing=self.missing, nthread=self.n_jobs)\n\u001b[1;32m    359\u001b[0m         \u001b[0;32melse\u001b[0m\u001b[0;34m:\u001b[0m\u001b[0;34m\u001b[0m\u001b[0;34m\u001b[0m\u001b[0m\n\u001b[0;32m--> 360\u001b[0;31m             \u001b[0mtrainDmatrix\u001b[0m \u001b[0;34m=\u001b[0m \u001b[0mDMatrix\u001b[0m\u001b[0;34m(\u001b[0m\u001b[0mX\u001b[0m\u001b[0;34m,\u001b[0m \u001b[0mlabel\u001b[0m\u001b[0;34m=\u001b[0m\u001b[0my\u001b[0m\u001b[0;34m,\u001b[0m \u001b[0mmissing\u001b[0m\u001b[0;34m=\u001b[0m\u001b[0mself\u001b[0m\u001b[0;34m.\u001b[0m\u001b[0mmissing\u001b[0m\u001b[0;34m,\u001b[0m \u001b[0mnthread\u001b[0m\u001b[0;34m=\u001b[0m\u001b[0mself\u001b[0m\u001b[0;34m.\u001b[0m\u001b[0mn_jobs\u001b[0m\u001b[0;34m)\u001b[0m\u001b[0;34m\u001b[0m\u001b[0;34m\u001b[0m\u001b[0m\n\u001b[0m\u001b[1;32m    361\u001b[0m \u001b[0;34m\u001b[0m\u001b[0m\n\u001b[1;32m    362\u001b[0m         \u001b[0mevals_result\u001b[0m \u001b[0;34m=\u001b[0m \u001b[0;34m{\u001b[0m\u001b[0;34m}\u001b[0m\u001b[0;34m\u001b[0m\u001b[0;34m\u001b[0m\u001b[0m\n",
            "\u001b[0;32m/usr/local/lib/python3.7/dist-packages/xgboost/core.py\u001b[0m in \u001b[0;36m__init__\u001b[0;34m(self, data, label, missing, weight, silent, feature_names, feature_types, nthread)\u001b[0m\n\u001b[1;32m    417\u001b[0m                 \u001b[0mself\u001b[0m\u001b[0;34m.\u001b[0m\u001b[0mset_label_npy2d\u001b[0m\u001b[0;34m(\u001b[0m\u001b[0mlabel\u001b[0m\u001b[0;34m)\u001b[0m\u001b[0;34m\u001b[0m\u001b[0;34m\u001b[0m\u001b[0m\n\u001b[1;32m    418\u001b[0m             \u001b[0;32melse\u001b[0m\u001b[0;34m:\u001b[0m\u001b[0;34m\u001b[0m\u001b[0;34m\u001b[0m\u001b[0m\n\u001b[0;32m--> 419\u001b[0;31m                 \u001b[0mself\u001b[0m\u001b[0;34m.\u001b[0m\u001b[0mset_label\u001b[0m\u001b[0;34m(\u001b[0m\u001b[0mlabel\u001b[0m\u001b[0;34m)\u001b[0m\u001b[0;34m\u001b[0m\u001b[0;34m\u001b[0m\u001b[0m\n\u001b[0m\u001b[1;32m    420\u001b[0m         \u001b[0;32mif\u001b[0m \u001b[0mweight\u001b[0m \u001b[0;32mis\u001b[0m \u001b[0;32mnot\u001b[0m \u001b[0;32mNone\u001b[0m\u001b[0;34m:\u001b[0m\u001b[0;34m\u001b[0m\u001b[0;34m\u001b[0m\u001b[0m\n\u001b[1;32m    421\u001b[0m             \u001b[0;32mif\u001b[0m \u001b[0misinstance\u001b[0m\u001b[0;34m(\u001b[0m\u001b[0mweight\u001b[0m\u001b[0;34m,\u001b[0m \u001b[0mnp\u001b[0m\u001b[0;34m.\u001b[0m\u001b[0mndarray\u001b[0m\u001b[0;34m)\u001b[0m\u001b[0;34m:\u001b[0m\u001b[0;34m\u001b[0m\u001b[0;34m\u001b[0m\u001b[0m\n",
            "\u001b[0;32m/usr/local/lib/python3.7/dist-packages/xgboost/core.py\u001b[0m in \u001b[0;36mset_label\u001b[0;34m(self, label)\u001b[0m\n\u001b[1;32m    669\u001b[0m             \u001b[0mThe\u001b[0m \u001b[0mlabel\u001b[0m \u001b[0minformation\u001b[0m \u001b[0mto\u001b[0m \u001b[0mbe\u001b[0m \u001b[0mset\u001b[0m \u001b[0minto\u001b[0m \u001b[0mDMatrix\u001b[0m\u001b[0;34m\u001b[0m\u001b[0;34m\u001b[0m\u001b[0m\n\u001b[1;32m    670\u001b[0m         \"\"\"\n\u001b[0;32m--> 671\u001b[0;31m         \u001b[0mself\u001b[0m\u001b[0;34m.\u001b[0m\u001b[0mset_float_info\u001b[0m\u001b[0;34m(\u001b[0m\u001b[0;34m'label'\u001b[0m\u001b[0;34m,\u001b[0m \u001b[0mlabel\u001b[0m\u001b[0;34m)\u001b[0m\u001b[0;34m\u001b[0m\u001b[0;34m\u001b[0m\u001b[0m\n\u001b[0m\u001b[1;32m    672\u001b[0m \u001b[0;34m\u001b[0m\u001b[0m\n\u001b[1;32m    673\u001b[0m     \u001b[0;32mdef\u001b[0m \u001b[0mset_label_npy2d\u001b[0m\u001b[0;34m(\u001b[0m\u001b[0mself\u001b[0m\u001b[0;34m,\u001b[0m \u001b[0mlabel\u001b[0m\u001b[0;34m)\u001b[0m\u001b[0;34m:\u001b[0m\u001b[0;34m\u001b[0m\u001b[0;34m\u001b[0m\u001b[0m\n",
            "\u001b[0;32m/usr/local/lib/python3.7/dist-packages/xgboost/core.py\u001b[0m in \u001b[0;36mset_float_info\u001b[0;34m(self, field, data)\u001b[0m\n\u001b[1;32m    590\u001b[0m             \u001b[0mself\u001b[0m\u001b[0;34m.\u001b[0m\u001b[0mset_float_info_npy2d\u001b[0m\u001b[0;34m(\u001b[0m\u001b[0mfield\u001b[0m\u001b[0;34m,\u001b[0m \u001b[0mdata\u001b[0m\u001b[0;34m)\u001b[0m\u001b[0;34m\u001b[0m\u001b[0;34m\u001b[0m\u001b[0m\n\u001b[1;32m    591\u001b[0m             \u001b[0;32mreturn\u001b[0m\u001b[0;34m\u001b[0m\u001b[0;34m\u001b[0m\u001b[0m\n\u001b[0;32m--> 592\u001b[0;31m         \u001b[0mc_data\u001b[0m \u001b[0;34m=\u001b[0m \u001b[0mc_array\u001b[0m\u001b[0;34m(\u001b[0m\u001b[0mctypes\u001b[0m\u001b[0;34m.\u001b[0m\u001b[0mc_float\u001b[0m\u001b[0;34m,\u001b[0m \u001b[0mdata\u001b[0m\u001b[0;34m)\u001b[0m\u001b[0;34m\u001b[0m\u001b[0;34m\u001b[0m\u001b[0m\n\u001b[0m\u001b[1;32m    593\u001b[0m         _check_call(_LIB.XGDMatrixSetFloatInfo(self.handle,\n\u001b[1;32m    594\u001b[0m                                                \u001b[0mc_str\u001b[0m\u001b[0;34m(\u001b[0m\u001b[0mfield\u001b[0m\u001b[0;34m)\u001b[0m\u001b[0;34m,\u001b[0m\u001b[0;34m\u001b[0m\u001b[0;34m\u001b[0m\u001b[0m\n",
            "\u001b[0;32m/usr/local/lib/python3.7/dist-packages/xgboost/core.py\u001b[0m in \u001b[0;36mc_array\u001b[0;34m(ctype, values)\u001b[0m\n\u001b[1;32m    215\u001b[0m     \u001b[0;32mif\u001b[0m \u001b[0misinstance\u001b[0m\u001b[0;34m(\u001b[0m\u001b[0mvalues\u001b[0m\u001b[0;34m,\u001b[0m \u001b[0mnp\u001b[0m\u001b[0;34m.\u001b[0m\u001b[0mndarray\u001b[0m\u001b[0;34m)\u001b[0m \u001b[0;32mand\u001b[0m \u001b[0mvalues\u001b[0m\u001b[0;34m.\u001b[0m\u001b[0mdtype\u001b[0m\u001b[0;34m.\u001b[0m\u001b[0mitemsize\u001b[0m \u001b[0;34m==\u001b[0m \u001b[0mctypes\u001b[0m\u001b[0;34m.\u001b[0m\u001b[0msizeof\u001b[0m\u001b[0;34m(\u001b[0m\u001b[0mctype\u001b[0m\u001b[0;34m)\u001b[0m\u001b[0;34m:\u001b[0m\u001b[0;34m\u001b[0m\u001b[0;34m\u001b[0m\u001b[0m\n\u001b[1;32m    216\u001b[0m         \u001b[0;32mreturn\u001b[0m \u001b[0;34m(\u001b[0m\u001b[0mctype\u001b[0m \u001b[0;34m*\u001b[0m \u001b[0mlen\u001b[0m\u001b[0;34m(\u001b[0m\u001b[0mvalues\u001b[0m\u001b[0;34m)\u001b[0m\u001b[0;34m)\u001b[0m\u001b[0;34m.\u001b[0m\u001b[0mfrom_buffer_copy\u001b[0m\u001b[0;34m(\u001b[0m\u001b[0mvalues\u001b[0m\u001b[0;34m)\u001b[0m\u001b[0;34m\u001b[0m\u001b[0;34m\u001b[0m\u001b[0m\n\u001b[0;32m--> 217\u001b[0;31m     \u001b[0;32mreturn\u001b[0m \u001b[0;34m(\u001b[0m\u001b[0mctype\u001b[0m \u001b[0;34m*\u001b[0m \u001b[0mlen\u001b[0m\u001b[0;34m(\u001b[0m\u001b[0mvalues\u001b[0m\u001b[0;34m)\u001b[0m\u001b[0;34m)\u001b[0m\u001b[0;34m(\u001b[0m\u001b[0;34m*\u001b[0m\u001b[0mvalues\u001b[0m\u001b[0;34m)\u001b[0m\u001b[0;34m\u001b[0m\u001b[0;34m\u001b[0m\u001b[0m\n\u001b[0m\u001b[1;32m    218\u001b[0m \u001b[0;34m\u001b[0m\u001b[0m\n\u001b[1;32m    219\u001b[0m \u001b[0;34m\u001b[0m\u001b[0m\n",
            "\u001b[0;31mKeyboardInterrupt\u001b[0m: "
          ]
        }
      ],
      "source": [
        "# Train with labeled input data\n",
        "modelDHI.fit(X_train=X1_train, y_train=y1_train, **automl_settings)"
      ]
    },
    {
      "cell_type": "code",
      "execution_count": null,
      "metadata": {
        "colab": {
          "base_uri": "https://localhost:8080/"
        },
        "id": "s-sSUvnzKhZK",
        "outputId": "6a94dfa9-8d03-4c95-cba0-098e0647f77b"
      },
      "outputs": [
        {
          "output_type": "stream",
          "name": "stdout",
          "text": [
            "(43824,)\n"
          ]
        }
      ],
      "source": [
        "pred_DHI = modelDHI.model.predict(X1_test)\n",
        "print(pred_DHI.shape)"
      ]
    },
    {
      "cell_type": "code",
      "execution_count": null,
      "metadata": {
        "colab": {
          "base_uri": "https://localhost:8080/"
        },
        "id": "y68H4hqJQ_-3",
        "outputId": "5a385abd-d068-4e35-ddfb-8a8bda887aca"
      },
      "outputs": [
        {
          "output_type": "stream",
          "name": "stdout",
          "text": [
            "max error value : 103.70018\n",
            "mean absolute error value : 3.7758467\n",
            "mean squared error : 45.631405\n",
            "r2 score : 0.988930960949553\n"
          ]
        }
      ],
      "source": [
        "from sklearn.metrics import max_error, mean_absolute_error, mean_squared_error, r2_score\n",
        "print('max error value :',max_error(y1_test,pred_DHI))\n",
        "print('mean absolute error value :',mean_absolute_error(y1_test,pred_DHI))\n",
        "print('mean squared error :', mean_squared_error(y1_test,pred_DHI))\n",
        "print(\"r2 score :\" ,r2_score(y1_test,pred_DHI))"
      ]
    },
    {
      "cell_type": "code",
      "execution_count": null,
      "metadata": {
        "colab": {
          "base_uri": "https://localhost:8080/"
        },
        "id": "RAZBGFtrKjcq",
        "outputId": "976aa776-4f72-4232-d62f-32c9cbf844fe"
      },
      "outputs": [
        {
          "output_type": "stream",
          "name": "stdout",
          "text": [
            "<flaml.model.XGBoostSklearnEstimator object at 0x7fb788b52c90>\n"
          ]
        }
      ],
      "source": [
        "# Export the best model\n",
        "print(modelDHI.model)"
      ]
    },
    {
      "cell_type": "code",
      "execution_count": null,
      "metadata": {
        "colab": {
          "base_uri": "https://localhost:8080/"
        },
        "id": "qjz2lrfuKPSd",
        "outputId": "a7b287f4-2e0b-40fe-b1be-6b5397087ef6"
      },
      "outputs": [
        {
          "output_type": "stream",
          "name": "stdout",
          "text": [
            "Best ML leaner: xgboost\n",
            "Best hyperparmeter config: {'n_estimators': 1183, 'max_leaves': 175, 'min_child_weight': 128.0, 'learning_rate': 0.22099231496115415, 'subsample': 0.836596029972893, 'colsample_bylevel': 0.7820733098381093, 'colsample_bytree': 0.6152784768179972, 'reg_alpha': 5.173540453657851, 'reg_lambda': 0.021921613436247142, 'FLAML_sample_size': 118324}\n",
            "Best accuracy on validation data: -50.82\n",
            "Training duration of best run: 65.69 s\n"
          ]
        }
      ],
      "source": [
        "print('Best ML leaner:', modelDHI.best_estimator)\n",
        "print('Best hyperparmeter config:', modelDHI.best_config)\n",
        "print('Best accuracy on validation data: {0:.4g}'.format(1-modelDHI.best_loss))\n",
        "print('Training duration of best run: {0:.4g} s'.format(modelDHI.best_config_train_time))"
      ]
    },
    {
      "cell_type": "markdown",
      "metadata": {
        "id": "5zukEN8BS_aB"
      },
      "source": [
        "#### DHI Tuning"
      ]
    },
    {
      "cell_type": "code",
      "execution_count": null,
      "metadata": {
        "colab": {
          "base_uri": "https://localhost:8080/"
        },
        "id": "R8f2cPThTA6I",
        "outputId": "2a066241-2500-48d2-8e7a-a07ee5d92bb8"
      },
      "outputs": [
        {
          "output_type": "stream",
          "name": "stderr",
          "text": [
            "[flaml.automl: 02-08 12:03:17] {2051} INFO - task = regression\n",
            "[flaml.automl: 02-08 12:03:17] {2053} INFO - Data split method: uniform\n",
            "[flaml.automl: 02-08 12:03:17] {2057} INFO - Evaluation method: holdout\n",
            "[flaml.automl: 02-08 12:03:17] {2138} INFO - Minimizing error metric: mse\n",
            "[flaml.automl: 02-08 12:03:17] {2196} INFO - List of ML learners in AutoML Run: ['lgbm']\n",
            "[flaml.automl: 02-08 12:03:17] {2449} INFO - iteration 0, current learner lgbm\n",
            "[flaml.automl: 02-08 12:03:17] {2563} INFO - Estimated sufficient time budget=3679s. Estimated necessary time budget=4s.\n",
            "[flaml.automl: 02-08 12:03:17] {2615} INFO -  at 0.2s,\testimator lgbm's best error=2046.2826,\tbest estimator lgbm's best error=2046.2826\n",
            "[flaml.automl: 02-08 12:03:17] {2449} INFO - iteration 1, current learner lgbm\n",
            "[flaml.automl: 02-08 12:03:17] {2615} INFO -  at 0.3s,\testimator lgbm's best error=2046.2826,\tbest estimator lgbm's best error=2046.2826\n",
            "[flaml.automl: 02-08 12:03:17] {2449} INFO - iteration 2, current learner lgbm\n",
            "[flaml.automl: 02-08 12:03:17] {2615} INFO -  at 0.3s,\testimator lgbm's best error=723.2791,\tbest estimator lgbm's best error=723.2791\n",
            "[flaml.automl: 02-08 12:03:17] {2449} INFO - iteration 3, current learner lgbm\n",
            "[flaml.automl: 02-08 12:03:17] {2615} INFO -  at 0.3s,\testimator lgbm's best error=352.5686,\tbest estimator lgbm's best error=352.5686\n",
            "[flaml.automl: 02-08 12:03:17] {2449} INFO - iteration 4, current learner lgbm\n",
            "[flaml.automl: 02-08 12:03:17] {2615} INFO -  at 0.4s,\testimator lgbm's best error=352.5686,\tbest estimator lgbm's best error=352.5686\n",
            "[flaml.automl: 02-08 12:03:17] {2449} INFO - iteration 5, current learner lgbm\n",
            "[flaml.automl: 02-08 12:03:17] {2615} INFO -  at 0.4s,\testimator lgbm's best error=339.1852,\tbest estimator lgbm's best error=339.1852\n",
            "[flaml.automl: 02-08 12:03:17] {2449} INFO - iteration 6, current learner lgbm\n",
            "[flaml.automl: 02-08 12:03:17] {2615} INFO -  at 0.4s,\testimator lgbm's best error=339.1852,\tbest estimator lgbm's best error=339.1852\n",
            "[flaml.automl: 02-08 12:03:17] {2449} INFO - iteration 7, current learner lgbm\n",
            "[flaml.automl: 02-08 12:03:17] {2615} INFO -  at 0.5s,\testimator lgbm's best error=339.1852,\tbest estimator lgbm's best error=339.1852\n",
            "[flaml.automl: 02-08 12:03:17] {2449} INFO - iteration 8, current learner lgbm\n",
            "[flaml.automl: 02-08 12:03:17] {2615} INFO -  at 0.5s,\testimator lgbm's best error=323.3225,\tbest estimator lgbm's best error=323.3225\n",
            "[flaml.automl: 02-08 12:03:17] {2449} INFO - iteration 9, current learner lgbm\n",
            "[flaml.automl: 02-08 12:03:17] {2615} INFO -  at 0.6s,\testimator lgbm's best error=323.3225,\tbest estimator lgbm's best error=323.3225\n",
            "[flaml.automl: 02-08 12:03:17] {2449} INFO - iteration 10, current learner lgbm\n",
            "[flaml.automl: 02-08 12:03:17] {2615} INFO -  at 0.8s,\testimator lgbm's best error=304.0386,\tbest estimator lgbm's best error=304.0386\n",
            "[flaml.automl: 02-08 12:03:17] {2449} INFO - iteration 11, current learner lgbm\n",
            "[flaml.automl: 02-08 12:03:18] {2615} INFO -  at 1.3s,\testimator lgbm's best error=304.0386,\tbest estimator lgbm's best error=304.0386\n",
            "[flaml.automl: 02-08 12:03:18] {2449} INFO - iteration 12, current learner lgbm\n",
            "[flaml.automl: 02-08 12:03:18] {2615} INFO -  at 1.4s,\testimator lgbm's best error=304.0386,\tbest estimator lgbm's best error=304.0386\n",
            "[flaml.automl: 02-08 12:03:18] {2449} INFO - iteration 13, current learner lgbm\n",
            "[flaml.automl: 02-08 12:03:18] {2615} INFO -  at 1.7s,\testimator lgbm's best error=304.0386,\tbest estimator lgbm's best error=304.0386\n",
            "[flaml.automl: 02-08 12:03:18] {2449} INFO - iteration 14, current learner lgbm\n",
            "[flaml.automl: 02-08 12:03:19] {2615} INFO -  at 2.0s,\testimator lgbm's best error=304.0386,\tbest estimator lgbm's best error=304.0386\n",
            "[flaml.automl: 02-08 12:03:19] {2449} INFO - iteration 15, current learner lgbm\n",
            "[flaml.automl: 02-08 12:03:20] {2615} INFO -  at 3.0s,\testimator lgbm's best error=238.6545,\tbest estimator lgbm's best error=238.6545\n",
            "[flaml.automl: 02-08 12:03:20] {2449} INFO - iteration 16, current learner lgbm\n",
            "[flaml.automl: 02-08 12:03:21] {2615} INFO -  at 4.0s,\testimator lgbm's best error=199.0417,\tbest estimator lgbm's best error=199.0417\n",
            "[flaml.automl: 02-08 12:03:21] {2449} INFO - iteration 17, current learner lgbm\n",
            "[flaml.automl: 02-08 12:03:22] {2615} INFO -  at 5.0s,\testimator lgbm's best error=199.0417,\tbest estimator lgbm's best error=199.0417\n",
            "[flaml.automl: 02-08 12:03:22] {2449} INFO - iteration 18, current learner lgbm\n",
            "[flaml.automl: 02-08 12:03:24] {2615} INFO -  at 7.5s,\testimator lgbm's best error=193.6455,\tbest estimator lgbm's best error=193.6455\n",
            "[flaml.automl: 02-08 12:03:24] {2449} INFO - iteration 19, current learner lgbm\n",
            "[flaml.automl: 02-08 12:03:25] {2615} INFO -  at 8.6s,\testimator lgbm's best error=193.6455,\tbest estimator lgbm's best error=193.6455\n",
            "[flaml.automl: 02-08 12:03:25] {2449} INFO - iteration 20, current learner lgbm\n",
            "[flaml.automl: 02-08 12:03:26] {2615} INFO -  at 9.5s,\testimator lgbm's best error=193.6455,\tbest estimator lgbm's best error=193.6455\n",
            "[flaml.automl: 02-08 12:03:26] {2449} INFO - iteration 21, current learner lgbm\n",
            "[flaml.automl: 02-08 12:03:33] {2615} INFO -  at 16.6s,\testimator lgbm's best error=160.6248,\tbest estimator lgbm's best error=160.6248\n",
            "[flaml.automl: 02-08 12:03:33] {2449} INFO - iteration 22, current learner lgbm\n",
            "[flaml.automl: 02-08 12:03:42] {2615} INFO -  at 25.9s,\testimator lgbm's best error=153.8439,\tbest estimator lgbm's best error=153.8439\n",
            "[flaml.automl: 02-08 12:03:42] {2449} INFO - iteration 23, current learner lgbm\n",
            "[flaml.automl: 02-08 12:03:49] {2615} INFO -  at 32.8s,\testimator lgbm's best error=153.8439,\tbest estimator lgbm's best error=153.8439\n",
            "[flaml.automl: 02-08 12:03:49] {2449} INFO - iteration 24, current learner lgbm\n",
            "[flaml.automl: 02-08 12:03:57] {2615} INFO -  at 40.4s,\testimator lgbm's best error=135.7848,\tbest estimator lgbm's best error=135.7848\n",
            "[flaml.automl: 02-08 12:03:57] {2449} INFO - iteration 25, current learner lgbm\n",
            "[flaml.automl: 02-08 12:04:06] {2615} INFO -  at 49.6s,\testimator lgbm's best error=135.7848,\tbest estimator lgbm's best error=135.7848\n",
            "[flaml.automl: 02-08 12:04:06] {2449} INFO - iteration 26, current learner lgbm\n",
            "[flaml.automl: 02-08 12:04:25] {2615} INFO -  at 68.8s,\testimator lgbm's best error=129.1128,\tbest estimator lgbm's best error=129.1128\n",
            "[flaml.automl: 02-08 12:04:25] {2449} INFO - iteration 27, current learner lgbm\n",
            "[flaml.automl: 02-08 12:04:31] {2615} INFO -  at 74.3s,\testimator lgbm's best error=129.1128,\tbest estimator lgbm's best error=129.1128\n",
            "[flaml.automl: 02-08 12:04:31] {2449} INFO - iteration 28, current learner lgbm\n",
            "[flaml.automl: 02-08 12:05:15] {2615} INFO -  at 118.8s,\testimator lgbm's best error=129.1128,\tbest estimator lgbm's best error=129.1128\n",
            "[flaml.automl: 02-08 12:05:15] {2449} INFO - iteration 29, current learner lgbm\n",
            "[flaml.automl: 02-08 12:05:21] {2615} INFO -  at 124.4s,\testimator lgbm's best error=129.1128,\tbest estimator lgbm's best error=129.1128\n",
            "[flaml.automl: 02-08 12:05:21] {2449} INFO - iteration 30, current learner lgbm\n",
            "[flaml.automl: 02-08 12:05:25] {2615} INFO -  at 128.4s,\testimator lgbm's best error=129.1128,\tbest estimator lgbm's best error=129.1128\n",
            "[flaml.automl: 02-08 12:05:25] {2449} INFO - iteration 31, current learner lgbm\n",
            "[flaml.automl: 02-08 12:06:43] {2615} INFO -  at 206.4s,\testimator lgbm's best error=129.1128,\tbest estimator lgbm's best error=129.1128\n",
            "[flaml.automl: 02-08 12:07:02] {2841} INFO - retrain lgbm for 18.9s\n",
            "[flaml.automl: 02-08 12:07:02] {2846} INFO - retrained model: LGBMRegressor(colsample_bytree=0.8892260067743469,\n",
            "              learning_rate=0.06105633814806839, max_bin=1023,\n",
            "              min_child_samples=2, n_estimators=351, num_leaves=718,\n",
            "              reg_alpha=0.002777631806545659, reg_lambda=0.064674503733867,\n",
            "              verbose=-1)\n",
            "[flaml.automl: 02-08 12:07:02] {2225} INFO - fit succeeded\n",
            "[flaml.automl: 02-08 12:07:02] {2227} INFO - Time taken to find the best model: 68.81296753883362\n"
          ]
        }
      ],
      "source": [
        "modelDHI.fit(X1_train, y1_train, task=\"regression\", estimator_list=['lgbm'], metric = 'mse', time_budget=200)"
      ]
    },
    {
      "cell_type": "code",
      "execution_count": null,
      "metadata": {
        "id": "1jWLotl4mYWi"
      },
      "outputs": [],
      "source": [
        "model_optimized_DHI = LGBMRegressor(colsample_bytree=0.8892260067743469,\n",
        "              learning_rate=0.06105633814806839, max_bin=1023,\n",
        "              min_child_samples=2, n_estimators=351, num_leaves=718,\n",
        "              reg_alpha=0.002777631806545659, reg_lambda=0.064674503733867,\n",
        "              verbose=-1)"
      ]
    },
    {
      "cell_type": "code",
      "execution_count": null,
      "metadata": {
        "colab": {
          "base_uri": "https://localhost:8080/"
        },
        "id": "F-OetFDtmv2b",
        "outputId": "5de0f0d5-f916-4fd5-ad9c-f56458d7c509"
      },
      "outputs": [
        {
          "output_type": "execute_result",
          "data": {
            "text/plain": [
              "LGBMRegressor(colsample_bytree=0.8892260067743469,\n",
              "              learning_rate=0.06105633814806839, max_bin=1023,\n",
              "              min_child_samples=2, n_estimators=351, num_leaves=718,\n",
              "              reg_alpha=0.002777631806545659, reg_lambda=0.064674503733867,\n",
              "              verbose=-1)"
            ]
          },
          "metadata": {},
          "execution_count": 35
        }
      ],
      "source": [
        "model_optimized_DHI.fit(X1_train, y1_train)"
      ]
    },
    {
      "cell_type": "code",
      "execution_count": null,
      "metadata": {
        "colab": {
          "base_uri": "https://localhost:8080/"
        },
        "id": "8qxI4UJPmmm2",
        "outputId": "7ef6162e-cf16-4280-f71c-22804087a64a"
      },
      "outputs": [
        {
          "output_type": "stream",
          "name": "stdout",
          "text": [
            "(43824,)\n"
          ]
        }
      ],
      "source": [
        "pred_optimized_DHI = model_optimized_DHI.predict(X1_test)\n",
        "print(pred_optimized_DHI.shape)"
      ]
    },
    {
      "cell_type": "code",
      "source": [
        "from sklearn.metrics import max_error, mean_absolute_error, mean_squared_error, r2_score\n",
        "print('max error value :',max_error(y1_test,pred_optimized_DHI))\n",
        "print('mean absolute error value :',mean_absolute_error(y1_test,pred_optimized_DHI))\n",
        "print('mean squared error :', mean_squared_error(y1_test,pred_optimized_DHI))\n",
        "print(\"r2 score :\" ,r2_score(y1_test,pred_optimized_DHI))"
      ],
      "metadata": {
        "colab": {
          "base_uri": "https://localhost:8080/"
        },
        "id": "L4AOFdkxddtR",
        "outputId": "cebc2943-897f-4e47-e54a-1ca7f0fcc467"
      },
      "execution_count": null,
      "outputs": [
        {
          "output_type": "stream",
          "name": "stdout",
          "text": [
            "max error value : 154.66442921623042\n",
            "mean absolute error value : 5.345413486050518\n",
            "mean squared error : 115.44117353881734\n",
            "r2 score : 0.9719968541376434\n"
          ]
        }
      ]
    },
    {
      "cell_type": "markdown",
      "metadata": {
        "id": "dJqZQtkwYwWt"
      },
      "source": [
        "### DNI Model"
      ]
    },
    {
      "cell_type": "code",
      "execution_count": null,
      "metadata": {
        "id": "ZX78Cz8RKyi0"
      },
      "outputs": [],
      "source": [
        "modelDNI = AutoML()\n",
        "automl_settings = {\n",
        "    \"time_budget\": 150,  # in seconds\n",
        "    \"metric\": 'mse',\n",
        "    \"task\": 'regression'\n",
        "}"
      ]
    },
    {
      "cell_type": "code",
      "execution_count": null,
      "metadata": {
        "colab": {
          "base_uri": "https://localhost:8080/",
          "height": 1000
        },
        "id": "ncwMMBdLKyi2",
        "outputId": "24f06289-f30c-4fe4-c28e-4b58b47b4bee"
      },
      "outputs": [
        {
          "output_type": "stream",
          "name": "stderr",
          "text": [
            "[flaml.automl: 02-08 12:08:00] {2051} INFO - task = regression\n",
            "[flaml.automl: 02-08 12:08:00] {2053} INFO - Data split method: uniform\n",
            "[flaml.automl: 02-08 12:08:00] {2057} INFO - Evaluation method: holdout\n",
            "[flaml.automl: 02-08 12:08:00] {2138} INFO - Minimizing error metric: mse\n",
            "[flaml.automl: 02-08 12:08:00] {2196} INFO - List of ML learners in AutoML Run: ['lgbm', 'rf', 'xgboost', 'extra_tree', 'xgb_limitdepth']\n",
            "[flaml.automl: 02-08 12:08:00] {2449} INFO - iteration 0, current learner lgbm\n",
            "[flaml.automl: 02-08 12:08:00] {2563} INFO - Estimated sufficient time budget=3212s. Estimated necessary time budget=23s.\n",
            "[flaml.automl: 02-08 12:08:00] {2615} INFO -  at 0.2s,\testimator lgbm's best error=62299.3754,\tbest estimator lgbm's best error=62299.3754\n",
            "[flaml.automl: 02-08 12:08:00] {2449} INFO - iteration 1, current learner lgbm\n",
            "[flaml.automl: 02-08 12:08:00] {2615} INFO -  at 0.3s,\testimator lgbm's best error=62299.3754,\tbest estimator lgbm's best error=62299.3754\n",
            "[flaml.automl: 02-08 12:08:00] {2449} INFO - iteration 2, current learner lgbm\n",
            "[flaml.automl: 02-08 12:08:00] {2615} INFO -  at 0.3s,\testimator lgbm's best error=16039.6949,\tbest estimator lgbm's best error=16039.6949\n",
            "[flaml.automl: 02-08 12:08:00] {2449} INFO - iteration 3, current learner xgboost\n",
            "[flaml.automl: 02-08 12:08:00] {2615} INFO -  at 0.3s,\testimator xgboost's best error=108426.3516,\tbest estimator lgbm's best error=16039.6949\n",
            "[flaml.automl: 02-08 12:08:00] {2449} INFO - iteration 4, current learner extra_tree\n",
            "[flaml.automl: 02-08 12:08:01] {2615} INFO -  at 0.7s,\testimator extra_tree's best error=32451.0776,\tbest estimator lgbm's best error=16039.6949\n",
            "[flaml.automl: 02-08 12:08:01] {2449} INFO - iteration 5, current learner lgbm\n",
            "[flaml.automl: 02-08 12:08:01] {2615} INFO -  at 0.7s,\testimator lgbm's best error=2834.9657,\tbest estimator lgbm's best error=2834.9657\n",
            "[flaml.automl: 02-08 12:08:01] {2449} INFO - iteration 6, current learner lgbm\n",
            "[flaml.automl: 02-08 12:08:01] {2615} INFO -  at 0.7s,\testimator lgbm's best error=2834.9657,\tbest estimator lgbm's best error=2834.9657\n",
            "[flaml.automl: 02-08 12:08:01] {2449} INFO - iteration 7, current learner lgbm\n",
            "[flaml.automl: 02-08 12:08:01] {2615} INFO -  at 0.8s,\testimator lgbm's best error=2675.0690,\tbest estimator lgbm's best error=2675.0690\n",
            "[flaml.automl: 02-08 12:08:01] {2449} INFO - iteration 8, current learner rf\n",
            "[flaml.automl: 02-08 12:08:01] {2615} INFO -  at 1.1s,\testimator rf's best error=6902.8430,\tbest estimator lgbm's best error=2675.0690\n",
            "[flaml.automl: 02-08 12:08:01] {2449} INFO - iteration 9, current learner lgbm\n",
            "[flaml.automl: 02-08 12:08:01] {2615} INFO -  at 1.2s,\testimator lgbm's best error=2675.0690,\tbest estimator lgbm's best error=2675.0690\n",
            "[flaml.automl: 02-08 12:08:01] {2449} INFO - iteration 10, current learner lgbm\n",
            "[flaml.automl: 02-08 12:08:01] {2615} INFO -  at 1.2s,\testimator lgbm's best error=2675.0690,\tbest estimator lgbm's best error=2675.0690\n",
            "[flaml.automl: 02-08 12:08:01] {2449} INFO - iteration 11, current learner lgbm\n",
            "[flaml.automl: 02-08 12:08:01] {2615} INFO -  at 1.3s,\testimator lgbm's best error=2415.1574,\tbest estimator lgbm's best error=2415.1574\n",
            "[flaml.automl: 02-08 12:08:01] {2449} INFO - iteration 12, current learner lgbm\n",
            "[flaml.automl: 02-08 12:08:01] {2615} INFO -  at 1.3s,\testimator lgbm's best error=2415.1574,\tbest estimator lgbm's best error=2415.1574\n",
            "[flaml.automl: 02-08 12:08:01] {2449} INFO - iteration 13, current learner xgboost\n",
            "[flaml.automl: 02-08 12:08:01] {2615} INFO -  at 1.4s,\testimator xgboost's best error=108426.3516,\tbest estimator lgbm's best error=2415.1574\n",
            "[flaml.automl: 02-08 12:08:01] {2449} INFO - iteration 14, current learner lgbm\n",
            "[flaml.automl: 02-08 12:08:02] {2615} INFO -  at 1.7s,\testimator lgbm's best error=2415.1574,\tbest estimator lgbm's best error=2415.1574\n",
            "[flaml.automl: 02-08 12:08:02] {2449} INFO - iteration 15, current learner xgboost\n",
            "[flaml.automl: 02-08 12:08:02] {2615} INFO -  at 1.8s,\testimator xgboost's best error=26752.5566,\tbest estimator lgbm's best error=2415.1574\n",
            "[flaml.automl: 02-08 12:08:02] {2449} INFO - iteration 16, current learner lgbm\n",
            "[flaml.automl: 02-08 12:08:02] {2615} INFO -  at 2.1s,\testimator lgbm's best error=2373.9153,\tbest estimator lgbm's best error=2373.9153\n",
            "[flaml.automl: 02-08 12:08:02] {2449} INFO - iteration 17, current learner xgboost\n",
            "[flaml.automl: 02-08 12:08:02] {2615} INFO -  at 2.1s,\testimator xgboost's best error=4737.6577,\tbest estimator lgbm's best error=2373.9153\n",
            "[flaml.automl: 02-08 12:08:02] {2449} INFO - iteration 18, current learner lgbm\n",
            "[flaml.automl: 02-08 12:08:02] {2615} INFO -  at 2.5s,\testimator lgbm's best error=2357.0453,\tbest estimator lgbm's best error=2357.0453\n",
            "[flaml.automl: 02-08 12:08:02] {2449} INFO - iteration 19, current learner xgboost\n",
            "[flaml.automl: 02-08 12:08:03] {2615} INFO -  at 2.6s,\testimator xgboost's best error=4737.6577,\tbest estimator lgbm's best error=2357.0453\n",
            "[flaml.automl: 02-08 12:08:03] {2449} INFO - iteration 20, current learner xgboost\n",
            "[flaml.automl: 02-08 12:08:03] {2615} INFO -  at 2.7s,\testimator xgboost's best error=4737.6577,\tbest estimator lgbm's best error=2357.0453\n",
            "[flaml.automl: 02-08 12:08:03] {2449} INFO - iteration 21, current learner xgboost\n",
            "[flaml.automl: 02-08 12:08:03] {2615} INFO -  at 2.8s,\testimator xgboost's best error=2862.1270,\tbest estimator lgbm's best error=2357.0453\n",
            "[flaml.automl: 02-08 12:08:03] {2449} INFO - iteration 22, current learner lgbm\n",
            "[flaml.automl: 02-08 12:08:03] {2615} INFO -  at 3.1s,\testimator lgbm's best error=2357.0453,\tbest estimator lgbm's best error=2357.0453\n",
            "[flaml.automl: 02-08 12:08:03] {2449} INFO - iteration 23, current learner lgbm\n",
            "[flaml.automl: 02-08 12:08:04] {2615} INFO -  at 3.6s,\testimator lgbm's best error=2174.3378,\tbest estimator lgbm's best error=2174.3378\n",
            "[flaml.automl: 02-08 12:08:04] {2449} INFO - iteration 24, current learner xgboost\n",
            "[flaml.automl: 02-08 12:08:04] {2615} INFO -  at 3.8s,\testimator xgboost's best error=2581.8381,\tbest estimator lgbm's best error=2174.3378\n",
            "[flaml.automl: 02-08 12:08:04] {2449} INFO - iteration 25, current learner extra_tree\n",
            "[flaml.automl: 02-08 12:08:04] {2615} INFO -  at 4.1s,\testimator extra_tree's best error=8986.6812,\tbest estimator lgbm's best error=2174.3378\n",
            "[flaml.automl: 02-08 12:08:04] {2449} INFO - iteration 26, current learner rf\n",
            "[flaml.automl: 02-08 12:08:04] {2615} INFO -  at 4.4s,\testimator rf's best error=2854.2806,\tbest estimator lgbm's best error=2174.3378\n",
            "[flaml.automl: 02-08 12:08:04] {2449} INFO - iteration 27, current learner extra_tree\n",
            "[flaml.automl: 02-08 12:08:05] {2615} INFO -  at 4.8s,\testimator extra_tree's best error=7618.6148,\tbest estimator lgbm's best error=2174.3378\n",
            "[flaml.automl: 02-08 12:08:05] {2449} INFO - iteration 28, current learner xgboost\n",
            "[flaml.automl: 02-08 12:08:05] {2615} INFO -  at 4.9s,\testimator xgboost's best error=2534.9819,\tbest estimator lgbm's best error=2174.3378\n",
            "[flaml.automl: 02-08 12:08:05] {2449} INFO - iteration 29, current learner xgboost\n",
            "[flaml.automl: 02-08 12:08:05] {2615} INFO -  at 5.0s,\testimator xgboost's best error=2434.0581,\tbest estimator lgbm's best error=2174.3378\n",
            "[flaml.automl: 02-08 12:08:05] {2449} INFO - iteration 30, current learner lgbm\n",
            "[flaml.automl: 02-08 12:08:05] {2615} INFO -  at 5.5s,\testimator lgbm's best error=2073.3236,\tbest estimator lgbm's best error=2073.3236\n",
            "[flaml.automl: 02-08 12:08:05] {2449} INFO - iteration 31, current learner lgbm\n",
            "[flaml.automl: 02-08 12:08:06] {2615} INFO -  at 6.2s,\testimator lgbm's best error=2073.3236,\tbest estimator lgbm's best error=2073.3236\n",
            "[flaml.automl: 02-08 12:08:06] {2449} INFO - iteration 32, current learner lgbm\n",
            "[flaml.automl: 02-08 12:08:07] {2615} INFO -  at 6.6s,\testimator lgbm's best error=2073.3236,\tbest estimator lgbm's best error=2073.3236\n",
            "[flaml.automl: 02-08 12:08:07] {2449} INFO - iteration 33, current learner xgboost\n",
            "[flaml.automl: 02-08 12:08:07] {2615} INFO -  at 6.8s,\testimator xgboost's best error=2434.0581,\tbest estimator lgbm's best error=2073.3236\n",
            "[flaml.automl: 02-08 12:08:07] {2449} INFO - iteration 34, current learner lgbm\n",
            "[flaml.automl: 02-08 12:08:07] {2615} INFO -  at 7.3s,\testimator lgbm's best error=1784.6577,\tbest estimator lgbm's best error=1784.6577\n",
            "[flaml.automl: 02-08 12:08:07] {2449} INFO - iteration 35, current learner rf\n",
            "[flaml.automl: 02-08 12:08:08] {2615} INFO -  at 7.7s,\testimator rf's best error=2854.2806,\tbest estimator lgbm's best error=1784.6577\n",
            "[flaml.automl: 02-08 12:08:08] {2449} INFO - iteration 36, current learner extra_tree\n",
            "[flaml.automl: 02-08 12:08:08] {2615} INFO -  at 8.1s,\testimator extra_tree's best error=4658.0994,\tbest estimator lgbm's best error=1784.6577\n",
            "[flaml.automl: 02-08 12:08:08] {2449} INFO - iteration 37, current learner rf\n",
            "[flaml.automl: 02-08 12:08:09] {2615} INFO -  at 8.5s,\testimator rf's best error=2423.9872,\tbest estimator lgbm's best error=1784.6577\n",
            "[flaml.automl: 02-08 12:08:09] {2449} INFO - iteration 38, current learner extra_tree\n",
            "[flaml.automl: 02-08 12:08:09] {2615} INFO -  at 9.0s,\testimator extra_tree's best error=3781.7319,\tbest estimator lgbm's best error=1784.6577\n",
            "[flaml.automl: 02-08 12:08:09] {2449} INFO - iteration 39, current learner rf\n",
            "[flaml.automl: 02-08 12:08:09] {2615} INFO -  at 9.4s,\testimator rf's best error=2423.9872,\tbest estimator lgbm's best error=1784.6577\n",
            "[flaml.automl: 02-08 12:08:09] {2449} INFO - iteration 40, current learner xgboost\n",
            "[flaml.automl: 02-08 12:08:09] {2615} INFO -  at 9.5s,\testimator xgboost's best error=2434.0581,\tbest estimator lgbm's best error=1784.6577\n",
            "[flaml.automl: 02-08 12:08:09] {2449} INFO - iteration 41, current learner extra_tree\n",
            "[flaml.automl: 02-08 12:08:10] {2615} INFO -  at 9.9s,\testimator extra_tree's best error=3781.7319,\tbest estimator lgbm's best error=1784.6577\n",
            "[flaml.automl: 02-08 12:08:10] {2449} INFO - iteration 42, current learner lgbm\n",
            "[flaml.automl: 02-08 12:08:10] {2615} INFO -  at 10.4s,\testimator lgbm's best error=1784.6577,\tbest estimator lgbm's best error=1784.6577\n",
            "[flaml.automl: 02-08 12:08:10] {2449} INFO - iteration 43, current learner xgboost\n",
            "[flaml.automl: 02-08 12:08:11] {2615} INFO -  at 10.5s,\testimator xgboost's best error=2308.1294,\tbest estimator lgbm's best error=1784.6577\n",
            "[flaml.automl: 02-08 12:08:11] {2449} INFO - iteration 44, current learner extra_tree\n",
            "[flaml.automl: 02-08 12:08:11] {2615} INFO -  at 11.0s,\testimator extra_tree's best error=2585.7022,\tbest estimator lgbm's best error=1784.6577\n",
            "[flaml.automl: 02-08 12:08:11] {2449} INFO - iteration 45, current learner extra_tree\n",
            "[flaml.automl: 02-08 12:08:11] {2615} INFO -  at 11.4s,\testimator extra_tree's best error=2585.7022,\tbest estimator lgbm's best error=1784.6577\n",
            "[flaml.automl: 02-08 12:08:11] {2449} INFO - iteration 46, current learner lgbm\n",
            "[flaml.automl: 02-08 12:08:12] {2615} INFO -  at 11.7s,\testimator lgbm's best error=1784.6577,\tbest estimator lgbm's best error=1784.6577\n",
            "[flaml.automl: 02-08 12:08:12] {2449} INFO - iteration 47, current learner extra_tree\n",
            "[flaml.automl: 02-08 12:08:12] {2615} INFO -  at 12.1s,\testimator extra_tree's best error=2585.7022,\tbest estimator lgbm's best error=1784.6577\n",
            "[flaml.automl: 02-08 12:08:12] {2449} INFO - iteration 48, current learner lgbm\n",
            "[flaml.automl: 02-08 12:08:14] {2615} INFO -  at 13.6s,\testimator lgbm's best error=1784.6577,\tbest estimator lgbm's best error=1784.6577\n",
            "[flaml.automl: 02-08 12:08:14] {2449} INFO - iteration 49, current learner xgb_limitdepth\n",
            "[flaml.automl: 02-08 12:08:14] {2615} INFO -  at 13.8s,\testimator xgb_limitdepth's best error=2525.8362,\tbest estimator lgbm's best error=1784.6577\n",
            "[flaml.automl: 02-08 12:08:14] {2449} INFO - iteration 50, current learner xgb_limitdepth\n",
            "[flaml.automl: 02-08 12:08:14] {2615} INFO -  at 13.9s,\testimator xgb_limitdepth's best error=2525.8362,\tbest estimator lgbm's best error=1784.6577\n",
            "[flaml.automl: 02-08 12:08:14] {2449} INFO - iteration 51, current learner xgb_limitdepth\n",
            "[flaml.automl: 02-08 12:08:14] {2615} INFO -  at 14.1s,\testimator xgb_limitdepth's best error=2525.8362,\tbest estimator lgbm's best error=1784.6577\n",
            "[flaml.automl: 02-08 12:08:14] {2449} INFO - iteration 52, current learner extra_tree\n",
            "[flaml.automl: 02-08 12:08:14] {2615} INFO -  at 14.5s,\testimator extra_tree's best error=2585.7022,\tbest estimator lgbm's best error=1784.6577\n",
            "[flaml.automl: 02-08 12:08:14] {2449} INFO - iteration 53, current learner extra_tree\n",
            "[flaml.automl: 02-08 12:08:15] {2615} INFO -  at 14.8s,\testimator extra_tree's best error=2585.7022,\tbest estimator lgbm's best error=1784.6577\n",
            "[flaml.automl: 02-08 12:08:15] {2449} INFO - iteration 54, current learner rf\n",
            "[flaml.automl: 02-08 12:08:15] {2615} INFO -  at 15.2s,\testimator rf's best error=2423.9872,\tbest estimator lgbm's best error=1784.6577\n",
            "[flaml.automl: 02-08 12:08:15] {2449} INFO - iteration 55, current learner lgbm\n",
            "[flaml.automl: 02-08 12:08:16] {2615} INFO -  at 15.9s,\testimator lgbm's best error=1784.6577,\tbest estimator lgbm's best error=1784.6577\n",
            "[flaml.automl: 02-08 12:08:16] {2449} INFO - iteration 56, current learner xgb_limitdepth\n",
            "[flaml.automl: 02-08 12:08:16] {2615} INFO -  at 16.0s,\testimator xgb_limitdepth's best error=2525.8362,\tbest estimator lgbm's best error=1784.6577\n",
            "[flaml.automl: 02-08 12:08:16] {2449} INFO - iteration 57, current learner xgboost\n",
            "[flaml.automl: 02-08 12:08:16] {2615} INFO -  at 16.2s,\testimator xgboost's best error=2308.1294,\tbest estimator lgbm's best error=1784.6577\n",
            "[flaml.automl: 02-08 12:08:16] {2449} INFO - iteration 58, current learner xgboost\n",
            "[flaml.automl: 02-08 12:08:16] {2615} INFO -  at 16.4s,\testimator xgboost's best error=2308.1294,\tbest estimator lgbm's best error=1784.6577\n",
            "[flaml.automl: 02-08 12:08:16] {2449} INFO - iteration 59, current learner xgb_limitdepth\n",
            "[flaml.automl: 02-08 12:08:17] {2615} INFO -  at 16.6s,\testimator xgb_limitdepth's best error=2525.8362,\tbest estimator lgbm's best error=1784.6577\n",
            "[flaml.automl: 02-08 12:08:17] {2449} INFO - iteration 60, current learner lgbm\n",
            "[flaml.automl: 02-08 12:08:17] {2615} INFO -  at 17.1s,\testimator lgbm's best error=1784.6577,\tbest estimator lgbm's best error=1784.6577\n",
            "[flaml.automl: 02-08 12:08:17] {2449} INFO - iteration 61, current learner xgb_limitdepth\n",
            "[flaml.automl: 02-08 12:08:17] {2615} INFO -  at 17.2s,\testimator xgb_limitdepth's best error=2525.8362,\tbest estimator lgbm's best error=1784.6577\n",
            "[flaml.automl: 02-08 12:08:17] {2449} INFO - iteration 62, current learner rf\n",
            "[flaml.automl: 02-08 12:08:18] {2615} INFO -  at 17.6s,\testimator rf's best error=2423.9872,\tbest estimator lgbm's best error=1784.6577\n",
            "[flaml.automl: 02-08 12:08:18] {2449} INFO - iteration 63, current learner xgb_limitdepth\n",
            "[flaml.automl: 02-08 12:08:19] {2615} INFO -  at 19.4s,\testimator xgb_limitdepth's best error=2388.9934,\tbest estimator lgbm's best error=1784.6577\n",
            "[flaml.automl: 02-08 12:08:19] {2449} INFO - iteration 64, current learner extra_tree\n",
            "[flaml.automl: 02-08 12:08:20] {2615} INFO -  at 19.8s,\testimator extra_tree's best error=2585.7022,\tbest estimator lgbm's best error=1784.6577\n",
            "[flaml.automl: 02-08 12:08:20] {2449} INFO - iteration 65, current learner lgbm\n",
            "[flaml.automl: 02-08 12:08:20] {2615} INFO -  at 20.4s,\testimator lgbm's best error=1784.6577,\tbest estimator lgbm's best error=1784.6577\n",
            "[flaml.automl: 02-08 12:08:20] {2449} INFO - iteration 66, current learner rf\n",
            "[flaml.automl: 02-08 12:08:21] {2615} INFO -  at 20.8s,\testimator rf's best error=2423.9872,\tbest estimator lgbm's best error=1784.6577\n",
            "[flaml.automl: 02-08 12:08:21] {2449} INFO - iteration 67, current learner extra_tree\n",
            "[flaml.automl: 02-08 12:08:22] {2615} INFO -  at 21.5s,\testimator extra_tree's best error=2460.1809,\tbest estimator lgbm's best error=1784.6577\n",
            "[flaml.automl: 02-08 12:08:22] {2449} INFO - iteration 68, current learner rf\n",
            "[flaml.automl: 02-08 12:08:24] {2615} INFO -  at 23.8s,\testimator rf's best error=2423.9872,\tbest estimator lgbm's best error=1784.6577\n",
            "[flaml.automl: 02-08 12:08:24] {2449} INFO - iteration 69, current learner lgbm\n",
            "[flaml.automl: 02-08 12:08:24] {2615} INFO -  at 24.5s,\testimator lgbm's best error=1784.6577,\tbest estimator lgbm's best error=1784.6577\n",
            "[flaml.automl: 02-08 12:08:24] {2449} INFO - iteration 70, current learner rf\n"
          ]
        },
        {
          "output_type": "error",
          "ename": "KeyboardInterrupt",
          "evalue": "ignored",
          "traceback": [
            "\u001b[0;31m---------------------------------------------------------------------------\u001b[0m",
            "\u001b[0;31mKeyboardInterrupt\u001b[0m                         Traceback (most recent call last)",
            "\u001b[0;32m<ipython-input-39-e1f65572e6b3>\u001b[0m in \u001b[0;36m<module>\u001b[0;34m()\u001b[0m\n\u001b[1;32m      1\u001b[0m \u001b[0;31m# Train with labeled input data\u001b[0m\u001b[0;34m\u001b[0m\u001b[0;34m\u001b[0m\u001b[0;34m\u001b[0m\u001b[0m\n\u001b[0;32m----> 2\u001b[0;31m \u001b[0mmodelDNI\u001b[0m\u001b[0;34m.\u001b[0m\u001b[0mfit\u001b[0m\u001b[0;34m(\u001b[0m\u001b[0mX_train\u001b[0m\u001b[0;34m=\u001b[0m\u001b[0mX2_train\u001b[0m\u001b[0;34m,\u001b[0m \u001b[0my_train\u001b[0m\u001b[0;34m=\u001b[0m\u001b[0my2_train\u001b[0m\u001b[0;34m,\u001b[0m \u001b[0;34m**\u001b[0m\u001b[0mautoml_settings\u001b[0m\u001b[0;34m)\u001b[0m\u001b[0;34m\u001b[0m\u001b[0;34m\u001b[0m\u001b[0m\n\u001b[0m",
            "\u001b[0;32m/usr/local/lib/python3.7/dist-packages/flaml/automl.py\u001b[0m in \u001b[0;36mfit\u001b[0;34m(self, X_train, y_train, dataframe, label, metric, task, n_jobs, log_file_name, estimator_list, time_budget, max_iter, sample, ensemble, eval_method, log_type, model_history, split_ratio, n_splits, log_training_metric, mem_thres, pred_time_limit, train_time_limit, X_val, y_val, sample_weight_val, groups_val, groups, verbose, retrain_full, split_type, learner_selector, hpo_method, starting_points, seed, n_concurrent_trials, keep_search_state, early_stop, append_log, auto_augment, min_sample_size, use_ray, **fit_kwargs)\u001b[0m\n\u001b[1;32m   2221\u001b[0m         \u001b[0;32melse\u001b[0m\u001b[0;34m:\u001b[0m\u001b[0;34m\u001b[0m\u001b[0;34m\u001b[0m\u001b[0m\n\u001b[1;32m   2222\u001b[0m             \u001b[0mself\u001b[0m\u001b[0;34m.\u001b[0m\u001b[0m_training_log\u001b[0m \u001b[0;34m=\u001b[0m \u001b[0;32mNone\u001b[0m\u001b[0;34m\u001b[0m\u001b[0;34m\u001b[0m\u001b[0m\n\u001b[0;32m-> 2223\u001b[0;31m             \u001b[0mself\u001b[0m\u001b[0;34m.\u001b[0m\u001b[0m_search\u001b[0m\u001b[0;34m(\u001b[0m\u001b[0;34m)\u001b[0m\u001b[0;34m\u001b[0m\u001b[0;34m\u001b[0m\u001b[0m\n\u001b[0m\u001b[1;32m   2224\u001b[0m         \u001b[0;32mif\u001b[0m \u001b[0mself\u001b[0m\u001b[0;34m.\u001b[0m\u001b[0m_best_estimator\u001b[0m\u001b[0;34m:\u001b[0m\u001b[0;34m\u001b[0m\u001b[0;34m\u001b[0m\u001b[0m\n\u001b[1;32m   2225\u001b[0m             \u001b[0mlogger\u001b[0m\u001b[0;34m.\u001b[0m\u001b[0minfo\u001b[0m\u001b[0;34m(\u001b[0m\u001b[0;34m\"fit succeeded\"\u001b[0m\u001b[0;34m)\u001b[0m\u001b[0;34m\u001b[0m\u001b[0;34m\u001b[0m\u001b[0m\n",
            "\u001b[0;32m/usr/local/lib/python3.7/dist-packages/flaml/automl.py\u001b[0m in \u001b[0;36m_search\u001b[0;34m(self)\u001b[0m\n\u001b[1;32m   2715\u001b[0m             )\n\u001b[1;32m   2716\u001b[0m         \u001b[0;32melif\u001b[0m \u001b[0;32mnot\u001b[0m \u001b[0mself\u001b[0m\u001b[0;34m.\u001b[0m\u001b[0m_use_ray\u001b[0m\u001b[0;34m:\u001b[0m\u001b[0;34m\u001b[0m\u001b[0;34m\u001b[0m\u001b[0m\n\u001b[0;32m-> 2717\u001b[0;31m             \u001b[0mself\u001b[0m\u001b[0;34m.\u001b[0m\u001b[0m_search_sequential\u001b[0m\u001b[0;34m(\u001b[0m\u001b[0;34m)\u001b[0m\u001b[0;34m\u001b[0m\u001b[0;34m\u001b[0m\u001b[0m\n\u001b[0m\u001b[1;32m   2718\u001b[0m         \u001b[0;32melse\u001b[0m\u001b[0;34m:\u001b[0m\u001b[0;34m\u001b[0m\u001b[0;34m\u001b[0m\u001b[0m\n\u001b[1;32m   2719\u001b[0m             \u001b[0mself\u001b[0m\u001b[0;34m.\u001b[0m\u001b[0m_search_parallel\u001b[0m\u001b[0;34m(\u001b[0m\u001b[0;34m)\u001b[0m\u001b[0;34m\u001b[0m\u001b[0;34m\u001b[0m\u001b[0m\n",
            "\u001b[0;32m/usr/local/lib/python3.7/dist-packages/flaml/automl.py\u001b[0m in \u001b[0;36m_search_sequential\u001b[0;34m(self)\u001b[0m\n\u001b[1;32m   2538\u001b[0m                 \u001b[0mtime_budget_s\u001b[0m\u001b[0;34m=\u001b[0m\u001b[0mmin\u001b[0m\u001b[0;34m(\u001b[0m\u001b[0mbudget_left\u001b[0m\u001b[0;34m,\u001b[0m \u001b[0mself\u001b[0m\u001b[0;34m.\u001b[0m\u001b[0m_state\u001b[0m\u001b[0;34m.\u001b[0m\u001b[0mtrain_time_limit\u001b[0m\u001b[0;34m)\u001b[0m\u001b[0;34m,\u001b[0m\u001b[0;34m\u001b[0m\u001b[0;34m\u001b[0m\u001b[0m\n\u001b[1;32m   2539\u001b[0m                 \u001b[0mverbose\u001b[0m\u001b[0;34m=\u001b[0m\u001b[0mmax\u001b[0m\u001b[0;34m(\u001b[0m\u001b[0mself\u001b[0m\u001b[0;34m.\u001b[0m\u001b[0mverbose\u001b[0m \u001b[0;34m-\u001b[0m \u001b[0;36m3\u001b[0m\u001b[0;34m,\u001b[0m \u001b[0;36m0\u001b[0m\u001b[0;34m)\u001b[0m\u001b[0;34m,\u001b[0m\u001b[0;34m\u001b[0m\u001b[0;34m\u001b[0m\u001b[0m\n\u001b[0;32m-> 2540\u001b[0;31m                 \u001b[0muse_ray\u001b[0m\u001b[0;34m=\u001b[0m\u001b[0;32mFalse\u001b[0m\u001b[0;34m,\u001b[0m\u001b[0;34m\u001b[0m\u001b[0;34m\u001b[0m\u001b[0m\n\u001b[0m\u001b[1;32m   2541\u001b[0m             )\n\u001b[1;32m   2542\u001b[0m             \u001b[0mtime_used\u001b[0m \u001b[0;34m=\u001b[0m \u001b[0mtime\u001b[0m\u001b[0;34m.\u001b[0m\u001b[0mtime\u001b[0m\u001b[0;34m(\u001b[0m\u001b[0;34m)\u001b[0m \u001b[0;34m-\u001b[0m \u001b[0mstart_run_time\u001b[0m\u001b[0;34m\u001b[0m\u001b[0;34m\u001b[0m\u001b[0m\n",
            "\u001b[0;32m/usr/local/lib/python3.7/dist-packages/flaml/tune/tune.py\u001b[0m in \u001b[0;36mrun\u001b[0;34m(evaluation_function, config, low_cost_partial_config, cat_hp_cost, metric, mode, time_budget_s, points_to_evaluate, evaluated_rewards, resource_attr, min_resource, max_resource, reduction_factor, scheduler, search_alg, verbose, local_dir, num_samples, resources_per_trial, config_constraints, metric_constraints, max_failure, use_ray, use_incumbent_result_in_evaluation)\u001b[0m\n\u001b[1;32m    446\u001b[0m             \u001b[0;32mif\u001b[0m \u001b[0mverbose\u001b[0m\u001b[0;34m:\u001b[0m\u001b[0;34m\u001b[0m\u001b[0;34m\u001b[0m\u001b[0m\n\u001b[1;32m    447\u001b[0m                 \u001b[0mlogger\u001b[0m\u001b[0;34m.\u001b[0m\u001b[0minfo\u001b[0m\u001b[0;34m(\u001b[0m\u001b[0;34mf\"trial {num_trials} config: {trial_to_run.config}\"\u001b[0m\u001b[0;34m)\u001b[0m\u001b[0;34m\u001b[0m\u001b[0;34m\u001b[0m\u001b[0m\n\u001b[0;32m--> 448\u001b[0;31m             \u001b[0mresult\u001b[0m \u001b[0;34m=\u001b[0m \u001b[0mevaluation_function\u001b[0m\u001b[0;34m(\u001b[0m\u001b[0mtrial_to_run\u001b[0m\u001b[0;34m.\u001b[0m\u001b[0mconfig\u001b[0m\u001b[0;34m)\u001b[0m\u001b[0;34m\u001b[0m\u001b[0;34m\u001b[0m\u001b[0m\n\u001b[0m\u001b[1;32m    449\u001b[0m             \u001b[0;32mif\u001b[0m \u001b[0mresult\u001b[0m \u001b[0;32mis\u001b[0m \u001b[0;32mnot\u001b[0m \u001b[0;32mNone\u001b[0m\u001b[0;34m:\u001b[0m\u001b[0;34m\u001b[0m\u001b[0;34m\u001b[0m\u001b[0m\n\u001b[1;32m    450\u001b[0m                 \u001b[0;32mif\u001b[0m \u001b[0misinstance\u001b[0m\u001b[0;34m(\u001b[0m\u001b[0mresult\u001b[0m\u001b[0;34m,\u001b[0m \u001b[0mdict\u001b[0m\u001b[0;34m)\u001b[0m\u001b[0;34m:\u001b[0m\u001b[0;34m\u001b[0m\u001b[0;34m\u001b[0m\u001b[0m\n",
            "\u001b[0;32m/usr/local/lib/python3.7/dist-packages/flaml/automl.py\u001b[0m in \u001b[0;36m_compute_with_config_base\u001b[0;34m(self, estimator, config_w_resource)\u001b[0m\n\u001b[1;32m    276\u001b[0m             \u001b[0mself\u001b[0m\u001b[0;34m.\u001b[0m\u001b[0mlearner_classes\u001b[0m\u001b[0;34m.\u001b[0m\u001b[0mget\u001b[0m\u001b[0;34m(\u001b[0m\u001b[0mestimator\u001b[0m\u001b[0;34m)\u001b[0m\u001b[0;34m,\u001b[0m\u001b[0;34m\u001b[0m\u001b[0;34m\u001b[0m\u001b[0m\n\u001b[1;32m    277\u001b[0m             \u001b[0mself\u001b[0m\u001b[0;34m.\u001b[0m\u001b[0mlog_training_metric\u001b[0m\u001b[0;34m,\u001b[0m\u001b[0;34m\u001b[0m\u001b[0;34m\u001b[0m\u001b[0m\n\u001b[0;32m--> 278\u001b[0;31m             \u001b[0mself\u001b[0m\u001b[0;34m.\u001b[0m\u001b[0mfit_kwargs\u001b[0m\u001b[0;34m,\u001b[0m\u001b[0;34m\u001b[0m\u001b[0;34m\u001b[0m\u001b[0m\n\u001b[0m\u001b[1;32m    279\u001b[0m         )\n\u001b[1;32m    280\u001b[0m         \u001b[0;32mif\u001b[0m \u001b[0mself\u001b[0m\u001b[0;34m.\u001b[0m\u001b[0mretrain_final\u001b[0m \u001b[0;32mand\u001b[0m \u001b[0;32mnot\u001b[0m \u001b[0mself\u001b[0m\u001b[0;34m.\u001b[0m\u001b[0mmodel_history\u001b[0m\u001b[0;34m:\u001b[0m\u001b[0;34m\u001b[0m\u001b[0;34m\u001b[0m\u001b[0m\n",
            "\u001b[0;32m/usr/local/lib/python3.7/dist-packages/flaml/ml.py\u001b[0m in \u001b[0;36mcompute_estimator\u001b[0;34m(X_train, y_train, X_val, y_val, weight_val, groups_val, budget, kf, config_dic, task, estimator_name, eval_method, eval_metric, best_val_loss, n_jobs, estimator_class, log_training_metric, fit_kwargs)\u001b[0m\n\u001b[1;32m    576\u001b[0m             \u001b[0mbudget\u001b[0m\u001b[0;34m=\u001b[0m\u001b[0mbudget\u001b[0m\u001b[0;34m,\u001b[0m\u001b[0;34m\u001b[0m\u001b[0;34m\u001b[0m\u001b[0m\n\u001b[1;32m    577\u001b[0m             \u001b[0mlog_training_metric\u001b[0m\u001b[0;34m=\u001b[0m\u001b[0mlog_training_metric\u001b[0m\u001b[0;34m,\u001b[0m\u001b[0;34m\u001b[0m\u001b[0;34m\u001b[0m\u001b[0m\n\u001b[0;32m--> 578\u001b[0;31m             \u001b[0mfit_kwargs\u001b[0m\u001b[0;34m=\u001b[0m\u001b[0mfit_kwargs\u001b[0m\u001b[0;34m,\u001b[0m\u001b[0;34m\u001b[0m\u001b[0;34m\u001b[0m\u001b[0m\n\u001b[0m\u001b[1;32m    579\u001b[0m         )\n\u001b[1;32m    580\u001b[0m     \u001b[0;32melse\u001b[0m\u001b[0;34m:\u001b[0m\u001b[0;34m\u001b[0m\u001b[0;34m\u001b[0m\u001b[0m\n",
            "\u001b[0;32m/usr/local/lib/python3.7/dist-packages/flaml/ml.py\u001b[0m in \u001b[0;36mget_val_loss\u001b[0;34m(config, estimator, X_train, y_train, X_val, y_val, weight_val, groups_val, eval_metric, obj, labels, budget, log_training_metric, fit_kwargs)\u001b[0m\n\u001b[1;32m    398\u001b[0m     \u001b[0;31m#     fit_kwargs['X_val'] = X_val\u001b[0m\u001b[0;34m\u001b[0m\u001b[0;34m\u001b[0m\u001b[0;34m\u001b[0m\u001b[0m\n\u001b[1;32m    399\u001b[0m     \u001b[0;31m#     fit_kwargs['y_val'] = y_val\u001b[0m\u001b[0;34m\u001b[0m\u001b[0;34m\u001b[0m\u001b[0;34m\u001b[0m\u001b[0m\n\u001b[0;32m--> 400\u001b[0;31m     \u001b[0mestimator\u001b[0m\u001b[0;34m.\u001b[0m\u001b[0mfit\u001b[0m\u001b[0;34m(\u001b[0m\u001b[0mX_train\u001b[0m\u001b[0;34m,\u001b[0m \u001b[0my_train\u001b[0m\u001b[0;34m,\u001b[0m \u001b[0mbudget\u001b[0m\u001b[0;34m,\u001b[0m \u001b[0;34m**\u001b[0m\u001b[0mfit_kwargs\u001b[0m\u001b[0;34m)\u001b[0m\u001b[0;34m\u001b[0m\u001b[0;34m\u001b[0m\u001b[0m\n\u001b[0m\u001b[1;32m    401\u001b[0m     val_loss, metric_for_logging, pred_time, _ = _eval_estimator(\n\u001b[1;32m    402\u001b[0m         \u001b[0mconfig\u001b[0m\u001b[0;34m,\u001b[0m\u001b[0;34m\u001b[0m\u001b[0;34m\u001b[0m\u001b[0m\n",
            "\u001b[0;32m/usr/local/lib/python3.7/dist-packages/flaml/model.py\u001b[0m in \u001b[0;36mfit\u001b[0;34m(self, X_train, y_train, budget, **kwargs)\u001b[0m\n\u001b[1;32m    973\u001b[0m                 \u001b[0mself\u001b[0m\u001b[0;34m.\u001b[0m\u001b[0m_model\u001b[0m\u001b[0;34m.\u001b[0m\u001b[0mset_params\u001b[0m\u001b[0;34m(\u001b[0m\u001b[0mn_estimators\u001b[0m\u001b[0;34m=\u001b[0m\u001b[0mbest_iteration\u001b[0m \u001b[0;34m+\u001b[0m \u001b[0;36m1\u001b[0m\u001b[0;34m)\u001b[0m\u001b[0;34m\u001b[0m\u001b[0;34m\u001b[0m\u001b[0m\n\u001b[1;32m    974\u001b[0m         \u001b[0;32melse\u001b[0m\u001b[0;34m:\u001b[0m\u001b[0;34m\u001b[0m\u001b[0;34m\u001b[0m\u001b[0m\n\u001b[0;32m--> 975\u001b[0;31m             \u001b[0mself\u001b[0m\u001b[0;34m.\u001b[0m\u001b[0m_fit\u001b[0m\u001b[0;34m(\u001b[0m\u001b[0mX_train\u001b[0m\u001b[0;34m,\u001b[0m \u001b[0my_train\u001b[0m\u001b[0;34m,\u001b[0m \u001b[0;34m**\u001b[0m\u001b[0mkwargs\u001b[0m\u001b[0;34m)\u001b[0m\u001b[0;34m\u001b[0m\u001b[0;34m\u001b[0m\u001b[0m\n\u001b[0m\u001b[1;32m    976\u001b[0m         \u001b[0mtrain_time\u001b[0m \u001b[0;34m=\u001b[0m \u001b[0mtime\u001b[0m\u001b[0;34m.\u001b[0m\u001b[0mtime\u001b[0m\u001b[0;34m(\u001b[0m\u001b[0;34m)\u001b[0m \u001b[0;34m-\u001b[0m \u001b[0mstart_time\u001b[0m\u001b[0;34m\u001b[0m\u001b[0;34m\u001b[0m\u001b[0m\n\u001b[1;32m    977\u001b[0m         \u001b[0;32mreturn\u001b[0m \u001b[0mtrain_time\u001b[0m\u001b[0;34m\u001b[0m\u001b[0;34m\u001b[0m\u001b[0m\n",
            "\u001b[0;32m/usr/local/lib/python3.7/dist-packages/flaml/model.py\u001b[0m in \u001b[0;36m_fit\u001b[0;34m(self, X_train, y_train, **kwargs)\u001b[0m\n\u001b[1;32m    150\u001b[0m         \u001b[0;32mif\u001b[0m \u001b[0mlogger\u001b[0m\u001b[0;34m.\u001b[0m\u001b[0mlevel\u001b[0m \u001b[0;34m==\u001b[0m \u001b[0mlogging\u001b[0m\u001b[0;34m.\u001b[0m\u001b[0mDEBUG\u001b[0m\u001b[0;34m:\u001b[0m\u001b[0;34m\u001b[0m\u001b[0;34m\u001b[0m\u001b[0m\n\u001b[1;32m    151\u001b[0m             \u001b[0mlogger\u001b[0m\u001b[0;34m.\u001b[0m\u001b[0mdebug\u001b[0m\u001b[0;34m(\u001b[0m\u001b[0;34mf\"flaml.model - {model} fit started\"\u001b[0m\u001b[0;34m)\u001b[0m\u001b[0;34m\u001b[0m\u001b[0;34m\u001b[0m\u001b[0m\n\u001b[0;32m--> 152\u001b[0;31m         \u001b[0mmodel\u001b[0m\u001b[0;34m.\u001b[0m\u001b[0mfit\u001b[0m\u001b[0;34m(\u001b[0m\u001b[0mX_train\u001b[0m\u001b[0;34m,\u001b[0m \u001b[0my_train\u001b[0m\u001b[0;34m,\u001b[0m \u001b[0;34m**\u001b[0m\u001b[0mkwargs\u001b[0m\u001b[0;34m)\u001b[0m\u001b[0;34m\u001b[0m\u001b[0;34m\u001b[0m\u001b[0m\n\u001b[0m\u001b[1;32m    153\u001b[0m         \u001b[0;32mif\u001b[0m \u001b[0mlogger\u001b[0m\u001b[0;34m.\u001b[0m\u001b[0mlevel\u001b[0m \u001b[0;34m==\u001b[0m \u001b[0mlogging\u001b[0m\u001b[0;34m.\u001b[0m\u001b[0mDEBUG\u001b[0m\u001b[0;34m:\u001b[0m\u001b[0;34m\u001b[0m\u001b[0;34m\u001b[0m\u001b[0m\n\u001b[1;32m    154\u001b[0m             \u001b[0mlogger\u001b[0m\u001b[0;34m.\u001b[0m\u001b[0mdebug\u001b[0m\u001b[0;34m(\u001b[0m\u001b[0;34mf\"flaml.model - {model} fit finished\"\u001b[0m\u001b[0;34m)\u001b[0m\u001b[0;34m\u001b[0m\u001b[0;34m\u001b[0m\u001b[0m\n",
            "\u001b[0;32m/usr/local/lib/python3.7/dist-packages/sklearn/ensemble/_forest.py\u001b[0m in \u001b[0;36mfit\u001b[0;34m(self, X, y, sample_weight)\u001b[0m\n\u001b[1;32m    465\u001b[0m                     \u001b[0mn_samples_bootstrap\u001b[0m\u001b[0;34m=\u001b[0m\u001b[0mn_samples_bootstrap\u001b[0m\u001b[0;34m,\u001b[0m\u001b[0;34m\u001b[0m\u001b[0;34m\u001b[0m\u001b[0m\n\u001b[1;32m    466\u001b[0m                 )\n\u001b[0;32m--> 467\u001b[0;31m                 \u001b[0;32mfor\u001b[0m \u001b[0mi\u001b[0m\u001b[0;34m,\u001b[0m \u001b[0mt\u001b[0m \u001b[0;32min\u001b[0m \u001b[0menumerate\u001b[0m\u001b[0;34m(\u001b[0m\u001b[0mtrees\u001b[0m\u001b[0;34m)\u001b[0m\u001b[0;34m\u001b[0m\u001b[0;34m\u001b[0m\u001b[0m\n\u001b[0m\u001b[1;32m    468\u001b[0m             )\n\u001b[1;32m    469\u001b[0m \u001b[0;34m\u001b[0m\u001b[0m\n",
            "\u001b[0;32m/usr/local/lib/python3.7/dist-packages/joblib/parallel.py\u001b[0m in \u001b[0;36m__call__\u001b[0;34m(self, iterable)\u001b[0m\n\u001b[1;32m   1054\u001b[0m \u001b[0;34m\u001b[0m\u001b[0m\n\u001b[1;32m   1055\u001b[0m             \u001b[0;32mwith\u001b[0m \u001b[0mself\u001b[0m\u001b[0;34m.\u001b[0m\u001b[0m_backend\u001b[0m\u001b[0;34m.\u001b[0m\u001b[0mretrieval_context\u001b[0m\u001b[0;34m(\u001b[0m\u001b[0;34m)\u001b[0m\u001b[0;34m:\u001b[0m\u001b[0;34m\u001b[0m\u001b[0;34m\u001b[0m\u001b[0m\n\u001b[0;32m-> 1056\u001b[0;31m                 \u001b[0mself\u001b[0m\u001b[0;34m.\u001b[0m\u001b[0mretrieve\u001b[0m\u001b[0;34m(\u001b[0m\u001b[0;34m)\u001b[0m\u001b[0;34m\u001b[0m\u001b[0;34m\u001b[0m\u001b[0m\n\u001b[0m\u001b[1;32m   1057\u001b[0m             \u001b[0;31m# Make sure that we get a last message telling us we are done\u001b[0m\u001b[0;34m\u001b[0m\u001b[0;34m\u001b[0m\u001b[0;34m\u001b[0m\u001b[0m\n\u001b[1;32m   1058\u001b[0m             \u001b[0melapsed_time\u001b[0m \u001b[0;34m=\u001b[0m \u001b[0mtime\u001b[0m\u001b[0;34m.\u001b[0m\u001b[0mtime\u001b[0m\u001b[0;34m(\u001b[0m\u001b[0;34m)\u001b[0m \u001b[0;34m-\u001b[0m \u001b[0mself\u001b[0m\u001b[0;34m.\u001b[0m\u001b[0m_start_time\u001b[0m\u001b[0;34m\u001b[0m\u001b[0;34m\u001b[0m\u001b[0m\n",
            "\u001b[0;32m/usr/local/lib/python3.7/dist-packages/joblib/parallel.py\u001b[0m in \u001b[0;36mretrieve\u001b[0;34m(self)\u001b[0m\n\u001b[1;32m    933\u001b[0m             \u001b[0;32mtry\u001b[0m\u001b[0;34m:\u001b[0m\u001b[0;34m\u001b[0m\u001b[0;34m\u001b[0m\u001b[0m\n\u001b[1;32m    934\u001b[0m                 \u001b[0;32mif\u001b[0m \u001b[0mgetattr\u001b[0m\u001b[0;34m(\u001b[0m\u001b[0mself\u001b[0m\u001b[0;34m.\u001b[0m\u001b[0m_backend\u001b[0m\u001b[0;34m,\u001b[0m \u001b[0;34m'supports_timeout'\u001b[0m\u001b[0;34m,\u001b[0m \u001b[0;32mFalse\u001b[0m\u001b[0;34m)\u001b[0m\u001b[0;34m:\u001b[0m\u001b[0;34m\u001b[0m\u001b[0;34m\u001b[0m\u001b[0m\n\u001b[0;32m--> 935\u001b[0;31m                     \u001b[0mself\u001b[0m\u001b[0;34m.\u001b[0m\u001b[0m_output\u001b[0m\u001b[0;34m.\u001b[0m\u001b[0mextend\u001b[0m\u001b[0;34m(\u001b[0m\u001b[0mjob\u001b[0m\u001b[0;34m.\u001b[0m\u001b[0mget\u001b[0m\u001b[0;34m(\u001b[0m\u001b[0mtimeout\u001b[0m\u001b[0;34m=\u001b[0m\u001b[0mself\u001b[0m\u001b[0;34m.\u001b[0m\u001b[0mtimeout\u001b[0m\u001b[0;34m)\u001b[0m\u001b[0;34m)\u001b[0m\u001b[0;34m\u001b[0m\u001b[0;34m\u001b[0m\u001b[0m\n\u001b[0m\u001b[1;32m    936\u001b[0m                 \u001b[0;32melse\u001b[0m\u001b[0;34m:\u001b[0m\u001b[0;34m\u001b[0m\u001b[0;34m\u001b[0m\u001b[0m\n\u001b[1;32m    937\u001b[0m                     \u001b[0mself\u001b[0m\u001b[0;34m.\u001b[0m\u001b[0m_output\u001b[0m\u001b[0;34m.\u001b[0m\u001b[0mextend\u001b[0m\u001b[0;34m(\u001b[0m\u001b[0mjob\u001b[0m\u001b[0;34m.\u001b[0m\u001b[0mget\u001b[0m\u001b[0;34m(\u001b[0m\u001b[0;34m)\u001b[0m\u001b[0;34m)\u001b[0m\u001b[0;34m\u001b[0m\u001b[0;34m\u001b[0m\u001b[0m\n",
            "\u001b[0;32m/usr/lib/python3.7/multiprocessing/pool.py\u001b[0m in \u001b[0;36mget\u001b[0;34m(self, timeout)\u001b[0m\n\u001b[1;32m    649\u001b[0m \u001b[0;34m\u001b[0m\u001b[0m\n\u001b[1;32m    650\u001b[0m     \u001b[0;32mdef\u001b[0m \u001b[0mget\u001b[0m\u001b[0;34m(\u001b[0m\u001b[0mself\u001b[0m\u001b[0;34m,\u001b[0m \u001b[0mtimeout\u001b[0m\u001b[0;34m=\u001b[0m\u001b[0;32mNone\u001b[0m\u001b[0;34m)\u001b[0m\u001b[0;34m:\u001b[0m\u001b[0;34m\u001b[0m\u001b[0;34m\u001b[0m\u001b[0m\n\u001b[0;32m--> 651\u001b[0;31m         \u001b[0mself\u001b[0m\u001b[0;34m.\u001b[0m\u001b[0mwait\u001b[0m\u001b[0;34m(\u001b[0m\u001b[0mtimeout\u001b[0m\u001b[0;34m)\u001b[0m\u001b[0;34m\u001b[0m\u001b[0;34m\u001b[0m\u001b[0m\n\u001b[0m\u001b[1;32m    652\u001b[0m         \u001b[0;32mif\u001b[0m \u001b[0;32mnot\u001b[0m \u001b[0mself\u001b[0m\u001b[0;34m.\u001b[0m\u001b[0mready\u001b[0m\u001b[0;34m(\u001b[0m\u001b[0;34m)\u001b[0m\u001b[0;34m:\u001b[0m\u001b[0;34m\u001b[0m\u001b[0;34m\u001b[0m\u001b[0m\n\u001b[1;32m    653\u001b[0m             \u001b[0;32mraise\u001b[0m \u001b[0mTimeoutError\u001b[0m\u001b[0;34m\u001b[0m\u001b[0;34m\u001b[0m\u001b[0m\n",
            "\u001b[0;32m/usr/lib/python3.7/multiprocessing/pool.py\u001b[0m in \u001b[0;36mwait\u001b[0;34m(self, timeout)\u001b[0m\n\u001b[1;32m    646\u001b[0m \u001b[0;34m\u001b[0m\u001b[0m\n\u001b[1;32m    647\u001b[0m     \u001b[0;32mdef\u001b[0m \u001b[0mwait\u001b[0m\u001b[0;34m(\u001b[0m\u001b[0mself\u001b[0m\u001b[0;34m,\u001b[0m \u001b[0mtimeout\u001b[0m\u001b[0;34m=\u001b[0m\u001b[0;32mNone\u001b[0m\u001b[0;34m)\u001b[0m\u001b[0;34m:\u001b[0m\u001b[0;34m\u001b[0m\u001b[0;34m\u001b[0m\u001b[0m\n\u001b[0;32m--> 648\u001b[0;31m         \u001b[0mself\u001b[0m\u001b[0;34m.\u001b[0m\u001b[0m_event\u001b[0m\u001b[0;34m.\u001b[0m\u001b[0mwait\u001b[0m\u001b[0;34m(\u001b[0m\u001b[0mtimeout\u001b[0m\u001b[0;34m)\u001b[0m\u001b[0;34m\u001b[0m\u001b[0;34m\u001b[0m\u001b[0m\n\u001b[0m\u001b[1;32m    649\u001b[0m \u001b[0;34m\u001b[0m\u001b[0m\n\u001b[1;32m    650\u001b[0m     \u001b[0;32mdef\u001b[0m \u001b[0mget\u001b[0m\u001b[0;34m(\u001b[0m\u001b[0mself\u001b[0m\u001b[0;34m,\u001b[0m \u001b[0mtimeout\u001b[0m\u001b[0;34m=\u001b[0m\u001b[0;32mNone\u001b[0m\u001b[0;34m)\u001b[0m\u001b[0;34m:\u001b[0m\u001b[0;34m\u001b[0m\u001b[0;34m\u001b[0m\u001b[0m\n",
            "\u001b[0;32m/usr/lib/python3.7/threading.py\u001b[0m in \u001b[0;36mwait\u001b[0;34m(self, timeout)\u001b[0m\n\u001b[1;32m    550\u001b[0m             \u001b[0msignaled\u001b[0m \u001b[0;34m=\u001b[0m \u001b[0mself\u001b[0m\u001b[0;34m.\u001b[0m\u001b[0m_flag\u001b[0m\u001b[0;34m\u001b[0m\u001b[0;34m\u001b[0m\u001b[0m\n\u001b[1;32m    551\u001b[0m             \u001b[0;32mif\u001b[0m \u001b[0;32mnot\u001b[0m \u001b[0msignaled\u001b[0m\u001b[0;34m:\u001b[0m\u001b[0;34m\u001b[0m\u001b[0;34m\u001b[0m\u001b[0m\n\u001b[0;32m--> 552\u001b[0;31m                 \u001b[0msignaled\u001b[0m \u001b[0;34m=\u001b[0m \u001b[0mself\u001b[0m\u001b[0;34m.\u001b[0m\u001b[0m_cond\u001b[0m\u001b[0;34m.\u001b[0m\u001b[0mwait\u001b[0m\u001b[0;34m(\u001b[0m\u001b[0mtimeout\u001b[0m\u001b[0;34m)\u001b[0m\u001b[0;34m\u001b[0m\u001b[0;34m\u001b[0m\u001b[0m\n\u001b[0m\u001b[1;32m    553\u001b[0m             \u001b[0;32mreturn\u001b[0m \u001b[0msignaled\u001b[0m\u001b[0;34m\u001b[0m\u001b[0;34m\u001b[0m\u001b[0m\n\u001b[1;32m    554\u001b[0m \u001b[0;34m\u001b[0m\u001b[0m\n",
            "\u001b[0;32m/usr/lib/python3.7/threading.py\u001b[0m in \u001b[0;36mwait\u001b[0;34m(self, timeout)\u001b[0m\n\u001b[1;32m    294\u001b[0m         \u001b[0;32mtry\u001b[0m\u001b[0;34m:\u001b[0m    \u001b[0;31m# restore state no matter what (e.g., KeyboardInterrupt)\u001b[0m\u001b[0;34m\u001b[0m\u001b[0;34m\u001b[0m\u001b[0m\n\u001b[1;32m    295\u001b[0m             \u001b[0;32mif\u001b[0m \u001b[0mtimeout\u001b[0m \u001b[0;32mis\u001b[0m \u001b[0;32mNone\u001b[0m\u001b[0;34m:\u001b[0m\u001b[0;34m\u001b[0m\u001b[0;34m\u001b[0m\u001b[0m\n\u001b[0;32m--> 296\u001b[0;31m                 \u001b[0mwaiter\u001b[0m\u001b[0;34m.\u001b[0m\u001b[0macquire\u001b[0m\u001b[0;34m(\u001b[0m\u001b[0;34m)\u001b[0m\u001b[0;34m\u001b[0m\u001b[0;34m\u001b[0m\u001b[0m\n\u001b[0m\u001b[1;32m    297\u001b[0m                 \u001b[0mgotit\u001b[0m \u001b[0;34m=\u001b[0m \u001b[0;32mTrue\u001b[0m\u001b[0;34m\u001b[0m\u001b[0;34m\u001b[0m\u001b[0m\n\u001b[1;32m    298\u001b[0m             \u001b[0;32melse\u001b[0m\u001b[0;34m:\u001b[0m\u001b[0;34m\u001b[0m\u001b[0;34m\u001b[0m\u001b[0m\n",
            "\u001b[0;31mKeyboardInterrupt\u001b[0m: "
          ]
        }
      ],
      "source": [
        "# Train with labeled input data\n",
        "modelDNI.fit(X_train=X2_train, y_train=y2_train, **automl_settings)"
      ]
    },
    {
      "cell_type": "code",
      "execution_count": null,
      "metadata": {
        "colab": {
          "base_uri": "https://localhost:8080/"
        },
        "id": "uTzoXovURqM3",
        "outputId": "ef5a27b0-fa93-488b-d32c-e647b6066ea8"
      },
      "outputs": [
        {
          "output_type": "stream",
          "name": "stdout",
          "text": [
            "(43824,)\n"
          ]
        }
      ],
      "source": [
        "pred_DNI = modelDNI.model.predict(X2_test)\n",
        "print(pred_DNI.shape)"
      ]
    },
    {
      "cell_type": "code",
      "execution_count": null,
      "metadata": {
        "colab": {
          "base_uri": "https://localhost:8080/"
        },
        "id": "mu_DL0_sRqM4",
        "outputId": "9908a68f-f347-4faa-8ff9-99cdc9478be4"
      },
      "outputs": [
        {
          "output_type": "stream",
          "name": "stdout",
          "text": [
            "max error value : 253.61362816922667\n",
            "mean absolute error value : 9.752599891533281\n",
            "mean squared error : 371.1727131779476\n",
            "r2 score : 0.9972826539146523\n"
          ]
        }
      ],
      "source": [
        "from sklearn.metrics import max_error, mean_absolute_error, mean_squared_error, r2_score\n",
        "print('max error value :',max_error(y2_test,pred_DNI))\n",
        "print('mean absolute error value :',mean_absolute_error(y2_test,pred_DNI))\n",
        "print('mean squared error :', mean_squared_error(y2_test,pred_DNI))\n",
        "print(\"r2 score :\" ,r2_score(y2_test,pred_DNI))"
      ]
    },
    {
      "cell_type": "code",
      "execution_count": null,
      "metadata": {
        "colab": {
          "base_uri": "https://localhost:8080/"
        },
        "id": "ezJ07sQ7Kyi2",
        "outputId": "2d1ce89f-a275-49f3-ac3c-5bd7bcba3c5e"
      },
      "outputs": [
        {
          "output_type": "stream",
          "name": "stdout",
          "text": [
            "<flaml.model.LGBMEstimator object at 0x7fb788aa4d50>\n"
          ]
        }
      ],
      "source": [
        "# Export the best model\n",
        "print(modelDNI.model)"
      ]
    },
    {
      "cell_type": "code",
      "execution_count": null,
      "metadata": {
        "colab": {
          "base_uri": "https://localhost:8080/"
        },
        "id": "V-RGGBAOKyi2",
        "outputId": "547dd2a5-1998-43d6-d654-591ca5d69b19"
      },
      "outputs": [
        {
          "output_type": "stream",
          "name": "stdout",
          "text": [
            "Best ML leaner: lgbm\n",
            "Best hyperparmeter config: {'n_estimators': 1240, 'num_leaves': 259, 'min_child_samples': 2, 'learning_rate': 0.18263755586565553, 'log_max_bin': 8, 'colsample_bytree': 0.8373169487910703, 'reg_alpha': 0.0012336818747802404, 'reg_lambda': 0.06540594775309745, 'FLAML_sample_size': 118324}\n",
            "Best accuracy on validation data: -404.8\n",
            "Training duration of best run: 22.99 s\n"
          ]
        }
      ],
      "source": [
        "print('Best ML leaner:', modelDNI.best_estimator)\n",
        "print('Best hyperparmeter config:', modelDNI.best_config)\n",
        "print('Best accuracy on validation data: {0:.4g}'.format(1-modelDNI.best_loss))\n",
        "print('Training duration of best run: {0:.4g} s'.format(modelDNI.best_config_train_time))"
      ]
    },
    {
      "cell_type": "code",
      "execution_count": null,
      "metadata": {
        "colab": {
          "base_uri": "https://localhost:8080/"
        },
        "id": "iSbLsUg66h2l",
        "outputId": "e3f0c90f-ff78-4965-9f05-f9c4665da8aa"
      },
      "outputs": [
        {
          "output_type": "stream",
          "name": "stderr",
          "text": [
            "[flaml.automl: 02-08 12:08:36] {2051} INFO - task = regression\n",
            "[flaml.automl: 02-08 12:08:36] {2053} INFO - Data split method: uniform\n",
            "[flaml.automl: 02-08 12:08:36] {2057} INFO - Evaluation method: holdout\n",
            "[flaml.automl: 02-08 12:08:36] {2138} INFO - Minimizing error metric: mse\n",
            "[flaml.automl: 02-08 12:08:36] {2196} INFO - List of ML learners in AutoML Run: ['lgbm']\n",
            "[flaml.automl: 02-08 12:08:36] {2449} INFO - iteration 0, current learner lgbm\n",
            "[flaml.automl: 02-08 12:08:36] {2563} INFO - Estimated sufficient time budget=3030s. Estimated necessary time budget=3s.\n",
            "[flaml.automl: 02-08 12:08:36] {2615} INFO -  at 0.2s,\testimator lgbm's best error=62299.3754,\tbest estimator lgbm's best error=62299.3754\n",
            "[flaml.automl: 02-08 12:08:36] {2449} INFO - iteration 1, current learner lgbm\n",
            "[flaml.automl: 02-08 12:08:36] {2615} INFO -  at 0.3s,\testimator lgbm's best error=62299.3754,\tbest estimator lgbm's best error=62299.3754\n",
            "[flaml.automl: 02-08 12:08:36] {2449} INFO - iteration 2, current learner lgbm\n",
            "[flaml.automl: 02-08 12:08:37] {2615} INFO -  at 0.3s,\testimator lgbm's best error=16039.6949,\tbest estimator lgbm's best error=16039.6949\n",
            "[flaml.automl: 02-08 12:08:37] {2449} INFO - iteration 3, current learner lgbm\n",
            "[flaml.automl: 02-08 12:08:37] {2615} INFO -  at 0.3s,\testimator lgbm's best error=2834.9657,\tbest estimator lgbm's best error=2834.9657\n",
            "[flaml.automl: 02-08 12:08:37] {2449} INFO - iteration 4, current learner lgbm\n",
            "[flaml.automl: 02-08 12:08:37] {2615} INFO -  at 0.4s,\testimator lgbm's best error=2834.9657,\tbest estimator lgbm's best error=2834.9657\n",
            "[flaml.automl: 02-08 12:08:37] {2449} INFO - iteration 5, current learner lgbm\n",
            "[flaml.automl: 02-08 12:08:37] {2615} INFO -  at 0.4s,\testimator lgbm's best error=2675.0690,\tbest estimator lgbm's best error=2675.0690\n",
            "[flaml.automl: 02-08 12:08:37] {2449} INFO - iteration 6, current learner lgbm\n",
            "[flaml.automl: 02-08 12:08:37] {2615} INFO -  at 0.4s,\testimator lgbm's best error=2675.0690,\tbest estimator lgbm's best error=2675.0690\n",
            "[flaml.automl: 02-08 12:08:37] {2449} INFO - iteration 7, current learner lgbm\n",
            "[flaml.automl: 02-08 12:08:37] {2615} INFO -  at 0.5s,\testimator lgbm's best error=2675.0690,\tbest estimator lgbm's best error=2675.0690\n",
            "[flaml.automl: 02-08 12:08:37] {2449} INFO - iteration 8, current learner lgbm\n",
            "[flaml.automl: 02-08 12:08:37] {2615} INFO -  at 0.5s,\testimator lgbm's best error=2415.1574,\tbest estimator lgbm's best error=2415.1574\n",
            "[flaml.automl: 02-08 12:08:37] {2449} INFO - iteration 9, current learner lgbm\n",
            "[flaml.automl: 02-08 12:08:37] {2615} INFO -  at 0.6s,\testimator lgbm's best error=2415.1574,\tbest estimator lgbm's best error=2415.1574\n",
            "[flaml.automl: 02-08 12:08:37] {2449} INFO - iteration 10, current learner lgbm\n",
            "[flaml.automl: 02-08 12:08:37] {2615} INFO -  at 0.9s,\testimator lgbm's best error=2415.1574,\tbest estimator lgbm's best error=2415.1574\n",
            "[flaml.automl: 02-08 12:08:37] {2449} INFO - iteration 11, current learner lgbm\n",
            "[flaml.automl: 02-08 12:08:37] {2615} INFO -  at 1.2s,\testimator lgbm's best error=2373.9153,\tbest estimator lgbm's best error=2373.9153\n",
            "[flaml.automl: 02-08 12:08:37] {2449} INFO - iteration 12, current learner lgbm\n",
            "[flaml.automl: 02-08 12:08:38] {2615} INFO -  at 1.5s,\testimator lgbm's best error=2357.0453,\tbest estimator lgbm's best error=2357.0453\n",
            "[flaml.automl: 02-08 12:08:38] {2449} INFO - iteration 13, current learner lgbm\n",
            "[flaml.automl: 02-08 12:08:38] {2615} INFO -  at 1.8s,\testimator lgbm's best error=2357.0453,\tbest estimator lgbm's best error=2357.0453\n",
            "[flaml.automl: 02-08 12:08:38] {2449} INFO - iteration 14, current learner lgbm\n",
            "[flaml.automl: 02-08 12:08:39] {2615} INFO -  at 2.4s,\testimator lgbm's best error=2174.3378,\tbest estimator lgbm's best error=2174.3378\n",
            "[flaml.automl: 02-08 12:08:39] {2449} INFO - iteration 15, current learner lgbm\n",
            "[flaml.automl: 02-08 12:08:39] {2615} INFO -  at 2.8s,\testimator lgbm's best error=2073.3236,\tbest estimator lgbm's best error=2073.3236\n",
            "[flaml.automl: 02-08 12:08:39] {2449} INFO - iteration 16, current learner lgbm\n",
            "[flaml.automl: 02-08 12:08:40] {2615} INFO -  at 3.6s,\testimator lgbm's best error=2073.3236,\tbest estimator lgbm's best error=2073.3236\n",
            "[flaml.automl: 02-08 12:08:40] {2449} INFO - iteration 17, current learner lgbm\n",
            "[flaml.automl: 02-08 12:08:40] {2615} INFO -  at 4.0s,\testimator lgbm's best error=2073.3236,\tbest estimator lgbm's best error=2073.3236\n",
            "[flaml.automl: 02-08 12:08:40] {2449} INFO - iteration 18, current learner lgbm\n",
            "[flaml.automl: 02-08 12:08:41] {2615} INFO -  at 4.6s,\testimator lgbm's best error=1784.6577,\tbest estimator lgbm's best error=1784.6577\n",
            "[flaml.automl: 02-08 12:08:41] {2449} INFO - iteration 19, current learner lgbm\n",
            "[flaml.automl: 02-08 12:08:41] {2615} INFO -  at 5.0s,\testimator lgbm's best error=1784.6577,\tbest estimator lgbm's best error=1784.6577\n",
            "[flaml.automl: 02-08 12:08:41] {2449} INFO - iteration 20, current learner lgbm\n",
            "[flaml.automl: 02-08 12:08:42] {2615} INFO -  at 5.3s,\testimator lgbm's best error=1784.6577,\tbest estimator lgbm's best error=1784.6577\n",
            "[flaml.automl: 02-08 12:08:42] {2449} INFO - iteration 21, current learner lgbm\n",
            "[flaml.automl: 02-08 12:08:43] {2615} INFO -  at 6.7s,\testimator lgbm's best error=1784.6577,\tbest estimator lgbm's best error=1784.6577\n",
            "[flaml.automl: 02-08 12:08:43] {2449} INFO - iteration 22, current learner lgbm\n",
            "[flaml.automl: 02-08 12:08:44] {2615} INFO -  at 7.4s,\testimator lgbm's best error=1784.6577,\tbest estimator lgbm's best error=1784.6577\n",
            "[flaml.automl: 02-08 12:08:44] {2449} INFO - iteration 23, current learner lgbm\n",
            "[flaml.automl: 02-08 12:08:44] {2615} INFO -  at 7.8s,\testimator lgbm's best error=1784.6577,\tbest estimator lgbm's best error=1784.6577\n",
            "[flaml.automl: 02-08 12:08:44] {2449} INFO - iteration 24, current learner lgbm\n",
            "[flaml.automl: 02-08 12:08:45] {2615} INFO -  at 8.4s,\testimator lgbm's best error=1784.6577,\tbest estimator lgbm's best error=1784.6577\n",
            "[flaml.automl: 02-08 12:08:45] {2449} INFO - iteration 25, current learner lgbm\n",
            "[flaml.automl: 02-08 12:08:45] {2615} INFO -  at 9.0s,\testimator lgbm's best error=1784.6577,\tbest estimator lgbm's best error=1784.6577\n",
            "[flaml.automl: 02-08 12:08:45] {2449} INFO - iteration 26, current learner lgbm\n",
            "[flaml.automl: 02-08 12:08:46] {2615} INFO -  at 10.0s,\testimator lgbm's best error=1784.6577,\tbest estimator lgbm's best error=1784.6577\n",
            "[flaml.automl: 02-08 12:08:46] {2449} INFO - iteration 27, current learner lgbm\n",
            "[flaml.automl: 02-08 12:08:47] {2615} INFO -  at 10.4s,\testimator lgbm's best error=1784.6577,\tbest estimator lgbm's best error=1784.6577\n",
            "[flaml.automl: 02-08 12:08:47] {2449} INFO - iteration 28, current learner lgbm\n",
            "[flaml.automl: 02-08 12:08:48] {2615} INFO -  at 11.3s,\testimator lgbm's best error=1784.6577,\tbest estimator lgbm's best error=1784.6577\n",
            "[flaml.automl: 02-08 12:08:48] {2449} INFO - iteration 29, current learner lgbm\n",
            "[flaml.automl: 02-08 12:08:48] {2615} INFO -  at 11.7s,\testimator lgbm's best error=1784.6577,\tbest estimator lgbm's best error=1784.6577\n",
            "[flaml.automl: 02-08 12:08:48] {2449} INFO - iteration 30, current learner lgbm\n",
            "[flaml.automl: 02-08 12:08:48] {2615} INFO -  at 12.0s,\testimator lgbm's best error=1784.6577,\tbest estimator lgbm's best error=1784.6577\n",
            "[flaml.automl: 02-08 12:08:48] {2449} INFO - iteration 31, current learner lgbm\n",
            "[flaml.automl: 02-08 12:08:50] {2615} INFO -  at 13.6s,\testimator lgbm's best error=1784.6577,\tbest estimator lgbm's best error=1784.6577\n",
            "[flaml.automl: 02-08 12:08:50] {2449} INFO - iteration 32, current learner lgbm\n",
            "[flaml.automl: 02-08 12:08:50] {2615} INFO -  at 13.9s,\testimator lgbm's best error=1784.6577,\tbest estimator lgbm's best error=1784.6577\n",
            "[flaml.automl: 02-08 12:08:50] {2449} INFO - iteration 33, current learner lgbm\n",
            "[flaml.automl: 02-08 12:08:51] {2615} INFO -  at 14.7s,\testimator lgbm's best error=1784.6577,\tbest estimator lgbm's best error=1784.6577\n",
            "[flaml.automl: 02-08 12:08:51] {2449} INFO - iteration 34, current learner lgbm\n",
            "[flaml.automl: 02-08 12:08:51] {2615} INFO -  at 15.3s,\testimator lgbm's best error=1784.6577,\tbest estimator lgbm's best error=1784.6577\n",
            "[flaml.automl: 02-08 12:08:51] {2449} INFO - iteration 35, current learner lgbm\n",
            "[flaml.automl: 02-08 12:08:52] {2615} INFO -  at 15.8s,\testimator lgbm's best error=1784.6577,\tbest estimator lgbm's best error=1784.6577\n",
            "[flaml.automl: 02-08 12:08:52] {2449} INFO - iteration 36, current learner lgbm\n",
            "[flaml.automl: 02-08 12:08:54] {2615} INFO -  at 17.8s,\testimator lgbm's best error=1784.6577,\tbest estimator lgbm's best error=1784.6577\n",
            "[flaml.automl: 02-08 12:08:54] {2449} INFO - iteration 37, current learner lgbm\n",
            "[flaml.automl: 02-08 12:08:54] {2615} INFO -  at 18.0s,\testimator lgbm's best error=1784.6577,\tbest estimator lgbm's best error=1784.6577\n",
            "[flaml.automl: 02-08 12:08:54] {2449} INFO - iteration 38, current learner lgbm\n",
            "[flaml.automl: 02-08 12:08:55] {2615} INFO -  at 19.0s,\testimator lgbm's best error=1768.6571,\tbest estimator lgbm's best error=1768.6571\n",
            "[flaml.automl: 02-08 12:08:55] {2449} INFO - iteration 39, current learner lgbm\n",
            "[flaml.automl: 02-08 12:08:56] {2615} INFO -  at 19.5s,\testimator lgbm's best error=1768.6571,\tbest estimator lgbm's best error=1768.6571\n",
            "[flaml.automl: 02-08 12:08:56] {2449} INFO - iteration 40, current learner lgbm\n",
            "[flaml.automl: 02-08 12:09:01] {2615} INFO -  at 25.3s,\testimator lgbm's best error=1768.6571,\tbest estimator lgbm's best error=1768.6571\n",
            "[flaml.automl: 02-08 12:09:01] {2449} INFO - iteration 41, current learner lgbm\n",
            "[flaml.automl: 02-08 12:09:02] {2615} INFO -  at 25.6s,\testimator lgbm's best error=1768.6571,\tbest estimator lgbm's best error=1768.6571\n",
            "[flaml.automl: 02-08 12:09:02] {2449} INFO - iteration 42, current learner lgbm\n",
            "[flaml.automl: 02-08 12:09:02] {2615} INFO -  at 25.9s,\testimator lgbm's best error=1768.6571,\tbest estimator lgbm's best error=1768.6571\n",
            "[flaml.automl: 02-08 12:09:02] {2449} INFO - iteration 43, current learner lgbm\n",
            "[flaml.automl: 02-08 12:09:07] {2615} INFO -  at 30.5s,\testimator lgbm's best error=1516.4902,\tbest estimator lgbm's best error=1516.4902\n",
            "[flaml.automl: 02-08 12:09:07] {2449} INFO - iteration 44, current learner lgbm\n",
            "[flaml.automl: 02-08 12:09:19] {2615} INFO -  at 42.6s,\testimator lgbm's best error=1403.2143,\tbest estimator lgbm's best error=1403.2143\n",
            "[flaml.automl: 02-08 12:09:19] {2449} INFO - iteration 45, current learner lgbm\n",
            "[flaml.automl: 02-08 12:09:24] {2615} INFO -  at 47.4s,\testimator lgbm's best error=1403.2143,\tbest estimator lgbm's best error=1403.2143\n",
            "[flaml.automl: 02-08 12:09:24] {2449} INFO - iteration 46, current learner lgbm\n",
            "[flaml.automl: 02-08 12:09:25] {2615} INFO -  at 49.2s,\testimator lgbm's best error=1403.2143,\tbest estimator lgbm's best error=1403.2143\n",
            "[flaml.automl: 02-08 12:09:25] {2449} INFO - iteration 47, current learner lgbm\n",
            "[flaml.automl: 02-08 12:10:51] {2615} INFO -  at 134.8s,\testimator lgbm's best error=1403.2143,\tbest estimator lgbm's best error=1403.2143\n",
            "[flaml.automl: 02-08 12:10:51] {2449} INFO - iteration 48, current learner lgbm\n",
            "[flaml.automl: 02-08 12:10:53] {2615} INFO -  at 136.6s,\testimator lgbm's best error=1403.2143,\tbest estimator lgbm's best error=1403.2143\n",
            "[flaml.automl: 02-08 12:10:53] {2449} INFO - iteration 49, current learner lgbm\n",
            "[flaml.automl: 02-08 12:12:11] {2615} INFO -  at 215.1s,\testimator lgbm's best error=1307.3544,\tbest estimator lgbm's best error=1307.3544\n",
            "[flaml.automl: 02-08 12:13:29] {2841} INFO - retrain lgbm for 77.2s\n",
            "[flaml.automl: 02-08 12:13:29] {2846} INFO - retrained model: LGBMRegressor(colsample_bytree=0.6155210339177122,\n",
            "              learning_rate=0.095883308367604, max_bin=1023,\n",
            "              min_child_samples=6, n_estimators=4611, num_leaves=294,\n",
            "              reg_alpha=0.0009765625, reg_lambda=0.0027363531098949703,\n",
            "              verbose=-1)\n",
            "[flaml.automl: 02-08 12:13:29] {2225} INFO - fit succeeded\n",
            "[flaml.automl: 02-08 12:13:29] {2227} INFO - Time taken to find the best model: 215.0886037349701\n",
            "[flaml.automl: 02-08 12:13:29] {2241} WARNING - Time taken to find the best model is 108% of the provided time budget and not all estimators' hyperparameter search converged. Consider increasing the time budget.\n"
          ]
        }
      ],
      "source": [
        "modelDNI.fit(X2_train, y2_train, task=\"regression\", estimator_list=['lgbm'], metric = 'mse', time_budget=200)"
      ]
    },
    {
      "cell_type": "code",
      "source": [
        "model_optimized_DNI =  LGBMRegressor(colsample_bytree=0.6155210339177122,\n",
        "              learning_rate=0.095883308367604, max_bin=1023,\n",
        "              min_child_samples=6, n_estimators=4611, num_leaves=294,\n",
        "              reg_alpha=0.0009765625, reg_lambda=0.0027363531098949703,\n",
        "              verbose=-1)"
      ],
      "metadata": {
        "id": "5xc4qSXDzpk_"
      },
      "execution_count": null,
      "outputs": []
    },
    {
      "cell_type": "code",
      "execution_count": null,
      "metadata": {
        "colab": {
          "base_uri": "https://localhost:8080/"
        },
        "id": "QIZv1ozA6TJk",
        "outputId": "0750d114-c106-462e-8387-446981328321"
      },
      "outputs": [
        {
          "output_type": "execute_result",
          "data": {
            "text/plain": [
              "LGBMRegressor(colsample_bytree=0.6155210339177122,\n",
              "              learning_rate=0.095883308367604, max_bin=1023,\n",
              "              min_child_samples=6, n_estimators=4611, num_leaves=294,\n",
              "              reg_alpha=0.0009765625, reg_lambda=0.0027363531098949703,\n",
              "              verbose=-1)"
            ]
          },
          "metadata": {},
          "execution_count": 42
        }
      ],
      "source": [
        "model_optimized_DNI.fit(X2_train, y2_train)"
      ]
    },
    {
      "cell_type": "code",
      "execution_count": null,
      "metadata": {
        "colab": {
          "base_uri": "https://localhost:8080/"
        },
        "id": "3Y0b5Vl06TJk",
        "outputId": "b2471293-9ef9-4e56-cb5a-02db4c3a7806"
      },
      "outputs": [
        {
          "output_type": "stream",
          "name": "stdout",
          "text": [
            "(43824,)\n"
          ]
        }
      ],
      "source": [
        "pred_optimized_DNI = model_optimized_DNI.predict(X2_test)\n",
        "print(pred_optimized_DHI.shape)"
      ]
    },
    {
      "cell_type": "code",
      "execution_count": null,
      "metadata": {
        "colab": {
          "base_uri": "https://localhost:8080/"
        },
        "id": "Oc3Xl5Jh6TJk",
        "outputId": "0a721d76-5ef8-405c-ca2c-9ee27ceb0129"
      },
      "outputs": [
        {
          "output_type": "stream",
          "name": "stdout",
          "text": [
            "max error value : 387.6266310911584\n",
            "mean absolute error value : 20.162755644895963\n",
            "mean squared error : 1194.7997466721142\n",
            "r2 score : 0.9912529011451408\n"
          ]
        }
      ],
      "source": [
        "from sklearn.metrics import max_error, mean_absolute_error, mean_squared_error, r2_score\n",
        "print('max error value :',max_error(y2_test,pred_optimized_DNI))\n",
        "print('mean absolute error value :',mean_absolute_error(y2_test,pred_optimized_DNI))\n",
        "print('mean squared error :', mean_squared_error(y2_test,pred_optimized_DNI))\n",
        "print(\"r2 score :\" ,r2_score(y2_test,pred_optimized_DNI))"
      ]
    },
    {
      "cell_type": "markdown",
      "metadata": {
        "id": "wwnbP7RGY0s4"
      },
      "source": [
        "### GHI Model"
      ]
    },
    {
      "cell_type": "code",
      "execution_count": null,
      "metadata": {
        "id": "4-THk35fKzaj"
      },
      "outputs": [],
      "source": [
        "modelGHI = AutoML()\n",
        "automl_settings = {\n",
        "    \"time_budget\": 300,  # in seconds\n",
        "    \"metric\": 'mse',\n",
        "    \"task\": 'regression'\n",
        "}"
      ]
    },
    {
      "cell_type": "code",
      "execution_count": null,
      "metadata": {
        "colab": {
          "base_uri": "https://localhost:8080/"
        },
        "id": "A1DSD29uKzak",
        "outputId": "8f94451a-9c17-4550-bfac-b145994b5fb5"
      },
      "outputs": [
        {
          "output_type": "stream",
          "name": "stderr",
          "text": [
            "[flaml.automl: 02-08 10:12:36] {2051} INFO - task = regression\n",
            "[flaml.automl: 02-08 10:12:36] {2053} INFO - Data split method: uniform\n",
            "[flaml.automl: 02-08 10:12:36] {2057} INFO - Evaluation method: holdout\n",
            "[flaml.automl: 02-08 10:12:36] {2138} INFO - Minimizing error metric: mse\n",
            "[flaml.automl: 02-08 10:12:36] {2196} INFO - List of ML learners in AutoML Run: ['lgbm', 'rf', 'xgboost', 'extra_tree', 'xgb_limitdepth']\n",
            "[flaml.automl: 02-08 10:12:36] {2449} INFO - iteration 0, current learner lgbm\n",
            "[flaml.automl: 02-08 10:12:36] {2563} INFO - Estimated sufficient time budget=3938s. Estimated necessary time budget=28s.\n",
            "[flaml.automl: 02-08 10:12:36] {2615} INFO -  at 0.4s,\testimator lgbm's best error=47961.7895,\tbest estimator lgbm's best error=47961.7895\n",
            "[flaml.automl: 02-08 10:12:36] {2449} INFO - iteration 1, current learner lgbm\n",
            "[flaml.automl: 02-08 10:12:36] {2615} INFO -  at 0.4s,\testimator lgbm's best error=47961.7895,\tbest estimator lgbm's best error=47961.7895\n",
            "[flaml.automl: 02-08 10:12:36] {2449} INFO - iteration 2, current learner lgbm\n",
            "[flaml.automl: 02-08 10:12:36] {2615} INFO -  at 0.4s,\testimator lgbm's best error=10703.4427,\tbest estimator lgbm's best error=10703.4427\n",
            "[flaml.automl: 02-08 10:12:36] {2449} INFO - iteration 3, current learner xgboost\n",
            "[flaml.automl: 02-08 10:12:37] {2615} INFO -  at 0.5s,\testimator xgboost's best error=75414.0078,\tbest estimator lgbm's best error=10703.4427\n",
            "[flaml.automl: 02-08 10:12:37] {2449} INFO - iteration 4, current learner extra_tree\n",
            "[flaml.automl: 02-08 10:12:37] {2615} INFO -  at 0.8s,\testimator extra_tree's best error=19170.1643,\tbest estimator lgbm's best error=10703.4427\n",
            "[flaml.automl: 02-08 10:12:37] {2449} INFO - iteration 5, current learner lgbm\n",
            "[flaml.automl: 02-08 10:12:37] {2615} INFO -  at 0.9s,\testimator lgbm's best error=386.0115,\tbest estimator lgbm's best error=386.0115\n",
            "[flaml.automl: 02-08 10:12:37] {2449} INFO - iteration 6, current learner lgbm\n",
            "[flaml.automl: 02-08 10:12:37] {2615} INFO -  at 0.9s,\testimator lgbm's best error=386.0115,\tbest estimator lgbm's best error=386.0115\n",
            "[flaml.automl: 02-08 10:12:37] {2449} INFO - iteration 7, current learner lgbm\n",
            "[flaml.automl: 02-08 10:12:37] {2615} INFO -  at 1.0s,\testimator lgbm's best error=223.0547,\tbest estimator lgbm's best error=223.0547\n",
            "[flaml.automl: 02-08 10:12:37] {2449} INFO - iteration 8, current learner rf\n",
            "[flaml.automl: 02-08 10:12:37] {2615} INFO -  at 1.3s,\testimator rf's best error=3595.9178,\tbest estimator lgbm's best error=223.0547\n",
            "[flaml.automl: 02-08 10:12:37] {2449} INFO - iteration 9, current learner lgbm\n",
            "[flaml.automl: 02-08 10:12:37] {2615} INFO -  at 1.4s,\testimator lgbm's best error=223.0547,\tbest estimator lgbm's best error=223.0547\n",
            "[flaml.automl: 02-08 10:12:37] {2449} INFO - iteration 10, current learner lgbm\n",
            "[flaml.automl: 02-08 10:12:37] {2615} INFO -  at 1.4s,\testimator lgbm's best error=223.0547,\tbest estimator lgbm's best error=223.0547\n",
            "[flaml.automl: 02-08 10:12:37] {2449} INFO - iteration 11, current learner lgbm\n",
            "[flaml.automl: 02-08 10:12:38] {2615} INFO -  at 1.5s,\testimator lgbm's best error=157.7800,\tbest estimator lgbm's best error=157.7800\n",
            "[flaml.automl: 02-08 10:12:38] {2449} INFO - iteration 12, current learner lgbm\n",
            "[flaml.automl: 02-08 10:12:38] {2615} INFO -  at 1.5s,\testimator lgbm's best error=157.7800,\tbest estimator lgbm's best error=157.7800\n",
            "[flaml.automl: 02-08 10:12:38] {2449} INFO - iteration 13, current learner xgboost\n",
            "[flaml.automl: 02-08 10:12:38] {2615} INFO -  at 1.6s,\testimator xgboost's best error=75414.0078,\tbest estimator lgbm's best error=157.7800\n",
            "[flaml.automl: 02-08 10:12:38] {2449} INFO - iteration 14, current learner lgbm\n",
            "[flaml.automl: 02-08 10:12:38] {2615} INFO -  at 2.0s,\testimator lgbm's best error=67.4998,\tbest estimator lgbm's best error=67.4998\n",
            "[flaml.automl: 02-08 10:12:38] {2449} INFO - iteration 15, current learner xgboost\n",
            "[flaml.automl: 02-08 10:12:38] {2615} INFO -  at 2.1s,\testimator xgboost's best error=17288.1445,\tbest estimator lgbm's best error=67.4998\n",
            "[flaml.automl: 02-08 10:12:38] {2449} INFO - iteration 16, current learner rf\n",
            "[flaml.automl: 02-08 10:12:38] {2615} INFO -  at 2.4s,\testimator rf's best error=410.0866,\tbest estimator lgbm's best error=67.4998\n",
            "[flaml.automl: 02-08 10:12:38] {2449} INFO - iteration 17, current learner xgboost\n",
            "[flaml.automl: 02-08 10:12:39] {2615} INFO -  at 2.5s,\testimator xgboost's best error=1233.3005,\tbest estimator lgbm's best error=67.4998\n",
            "[flaml.automl: 02-08 10:12:39] {2449} INFO - iteration 18, current learner lgbm\n",
            "[flaml.automl: 02-08 10:12:39] {2615} INFO -  at 3.1s,\testimator lgbm's best error=67.4998,\tbest estimator lgbm's best error=67.4998\n",
            "[flaml.automl: 02-08 10:12:39] {2449} INFO - iteration 19, current learner xgboost\n",
            "[flaml.automl: 02-08 10:12:39] {2615} INFO -  at 3.1s,\testimator xgboost's best error=1233.3005,\tbest estimator lgbm's best error=67.4998\n",
            "[flaml.automl: 02-08 10:12:39] {2449} INFO - iteration 20, current learner xgboost\n",
            "[flaml.automl: 02-08 10:12:39] {2615} INFO -  at 3.2s,\testimator xgboost's best error=1233.3005,\tbest estimator lgbm's best error=67.4998\n",
            "[flaml.automl: 02-08 10:12:39] {2449} INFO - iteration 21, current learner xgboost\n",
            "[flaml.automl: 02-08 10:12:39] {2615} INFO -  at 3.4s,\testimator xgboost's best error=441.4980,\tbest estimator lgbm's best error=67.4998\n",
            "[flaml.automl: 02-08 10:12:39] {2449} INFO - iteration 22, current learner lgbm\n",
            "[flaml.automl: 02-08 10:12:40] {2615} INFO -  at 3.6s,\testimator lgbm's best error=67.4998,\tbest estimator lgbm's best error=67.4998\n",
            "[flaml.automl: 02-08 10:12:40] {2449} INFO - iteration 23, current learner rf\n",
            "[flaml.automl: 02-08 10:12:40] {2615} INFO -  at 4.0s,\testimator rf's best error=410.0866,\tbest estimator lgbm's best error=67.4998\n",
            "[flaml.automl: 02-08 10:12:40] {2449} INFO - iteration 24, current learner xgboost\n",
            "[flaml.automl: 02-08 10:12:40] {2615} INFO -  at 4.1s,\testimator xgboost's best error=441.4980,\tbest estimator lgbm's best error=67.4998\n",
            "[flaml.automl: 02-08 10:12:40] {2449} INFO - iteration 25, current learner extra_tree\n",
            "[flaml.automl: 02-08 10:12:40] {2615} INFO -  at 4.5s,\testimator extra_tree's best error=831.1528,\tbest estimator lgbm's best error=67.4998\n",
            "[flaml.automl: 02-08 10:12:40] {2449} INFO - iteration 26, current learner rf\n",
            "[flaml.automl: 02-08 10:12:41] {2615} INFO -  at 5.0s,\testimator rf's best error=143.7860,\tbest estimator lgbm's best error=67.4998\n",
            "[flaml.automl: 02-08 10:12:41] {2449} INFO - iteration 27, current learner extra_tree\n",
            "[flaml.automl: 02-08 10:12:41] {2615} INFO -  at 5.3s,\testimator extra_tree's best error=831.1528,\tbest estimator lgbm's best error=67.4998\n",
            "[flaml.automl: 02-08 10:12:41] {2449} INFO - iteration 28, current learner extra_tree\n",
            "[flaml.automl: 02-08 10:12:42] {2615} INFO -  at 5.7s,\testimator extra_tree's best error=198.2123,\tbest estimator lgbm's best error=67.4998\n",
            "[flaml.automl: 02-08 10:12:42] {2449} INFO - iteration 29, current learner extra_tree\n",
            "[flaml.automl: 02-08 10:12:42] {2615} INFO -  at 6.2s,\testimator extra_tree's best error=132.6767,\tbest estimator lgbm's best error=67.4998\n",
            "[flaml.automl: 02-08 10:12:42] {2449} INFO - iteration 30, current learner lgbm\n",
            "[flaml.automl: 02-08 10:12:43] {2615} INFO -  at 6.5s,\testimator lgbm's best error=56.8031,\tbest estimator lgbm's best error=56.8031\n",
            "[flaml.automl: 02-08 10:12:43] {2449} INFO - iteration 31, current learner lgbm\n",
            "[flaml.automl: 02-08 10:12:43] {2615} INFO -  at 6.9s,\testimator lgbm's best error=56.8031,\tbest estimator lgbm's best error=56.8031\n",
            "[flaml.automl: 02-08 10:12:43] {2449} INFO - iteration 32, current learner rf\n",
            "[flaml.automl: 02-08 10:12:43] {2615} INFO -  at 7.4s,\testimator rf's best error=89.0085,\tbest estimator lgbm's best error=56.8031\n",
            "[flaml.automl: 02-08 10:12:43] {2449} INFO - iteration 33, current learner extra_tree\n",
            "[flaml.automl: 02-08 10:12:44] {2615} INFO -  at 7.8s,\testimator extra_tree's best error=132.6767,\tbest estimator lgbm's best error=56.8031\n",
            "[flaml.automl: 02-08 10:12:44] {2449} INFO - iteration 34, current learner lgbm\n",
            "[flaml.automl: 02-08 10:12:45] {2615} INFO -  at 8.6s,\testimator lgbm's best error=56.8031,\tbest estimator lgbm's best error=56.8031\n",
            "[flaml.automl: 02-08 10:12:45] {2449} INFO - iteration 35, current learner rf\n",
            "[flaml.automl: 02-08 10:12:45] {2615} INFO -  at 9.1s,\testimator rf's best error=89.0085,\tbest estimator lgbm's best error=56.8031\n",
            "[flaml.automl: 02-08 10:12:45] {2449} INFO - iteration 36, current learner extra_tree\n",
            "[flaml.automl: 02-08 10:12:46] {2615} INFO -  at 9.5s,\testimator extra_tree's best error=131.5928,\tbest estimator lgbm's best error=56.8031\n",
            "[flaml.automl: 02-08 10:12:46] {2449} INFO - iteration 37, current learner xgboost\n",
            "[flaml.automl: 02-08 10:12:46] {2615} INFO -  at 9.6s,\testimator xgboost's best error=441.4980,\tbest estimator lgbm's best error=56.8031\n",
            "[flaml.automl: 02-08 10:12:46] {2449} INFO - iteration 38, current learner xgboost\n",
            "[flaml.automl: 02-08 10:12:46] {2615} INFO -  at 9.8s,\testimator xgboost's best error=138.3191,\tbest estimator lgbm's best error=56.8031\n",
            "[flaml.automl: 02-08 10:12:46] {2449} INFO - iteration 39, current learner rf\n",
            "[flaml.automl: 02-08 10:12:46] {2615} INFO -  at 10.3s,\testimator rf's best error=89.0085,\tbest estimator lgbm's best error=56.8031\n",
            "[flaml.automl: 02-08 10:12:46] {2449} INFO - iteration 40, current learner xgboost\n",
            "[flaml.automl: 02-08 10:12:46] {2615} INFO -  at 10.5s,\testimator xgboost's best error=138.3191,\tbest estimator lgbm's best error=56.8031\n",
            "[flaml.automl: 02-08 10:12:47] {2449} INFO - iteration 41, current learner xgboost\n",
            "[flaml.automl: 02-08 10:12:47] {2615} INFO -  at 10.6s,\testimator xgboost's best error=138.3191,\tbest estimator lgbm's best error=56.8031\n",
            "[flaml.automl: 02-08 10:12:47] {2449} INFO - iteration 42, current learner lgbm\n",
            "[flaml.automl: 02-08 10:12:47] {2615} INFO -  at 11.0s,\testimator lgbm's best error=56.8031,\tbest estimator lgbm's best error=56.8031\n",
            "[flaml.automl: 02-08 10:12:47] {2449} INFO - iteration 43, current learner xgboost\n",
            "[flaml.automl: 02-08 10:12:47] {2615} INFO -  at 11.1s,\testimator xgboost's best error=81.6264,\tbest estimator lgbm's best error=56.8031\n",
            "[flaml.automl: 02-08 10:12:47] {2449} INFO - iteration 44, current learner xgboost\n",
            "[flaml.automl: 02-08 10:12:47] {2615} INFO -  at 11.3s,\testimator xgboost's best error=81.6264,\tbest estimator lgbm's best error=56.8031\n",
            "[flaml.automl: 02-08 10:12:47] {2449} INFO - iteration 45, current learner xgboost\n",
            "[flaml.automl: 02-08 10:12:48] {2615} INFO -  at 11.6s,\testimator xgboost's best error=81.6264,\tbest estimator lgbm's best error=56.8031\n",
            "[flaml.automl: 02-08 10:12:48] {2449} INFO - iteration 46, current learner lgbm\n",
            "[flaml.automl: 02-08 10:12:49] {2615} INFO -  at 13.1s,\testimator lgbm's best error=47.9906,\tbest estimator lgbm's best error=47.9906\n",
            "[flaml.automl: 02-08 10:12:49] {2449} INFO - iteration 47, current learner xgboost\n",
            "[flaml.automl: 02-08 10:12:49] {2615} INFO -  at 13.2s,\testimator xgboost's best error=81.6264,\tbest estimator lgbm's best error=47.9906\n",
            "[flaml.automl: 02-08 10:12:49] {2449} INFO - iteration 48, current learner lgbm\n",
            "[flaml.automl: 02-08 10:12:51] {2615} INFO -  at 14.9s,\testimator lgbm's best error=34.2355,\tbest estimator lgbm's best error=34.2355\n",
            "[flaml.automl: 02-08 10:12:51] {2449} INFO - iteration 49, current learner rf\n",
            "[flaml.automl: 02-08 10:12:51] {2615} INFO -  at 15.4s,\testimator rf's best error=89.0085,\tbest estimator lgbm's best error=34.2355\n",
            "[flaml.automl: 02-08 10:12:51] {2449} INFO - iteration 50, current learner xgboost\n",
            "[flaml.automl: 02-08 10:12:52] {2615} INFO -  at 15.6s,\testimator xgboost's best error=81.6264,\tbest estimator lgbm's best error=34.2355\n",
            "[flaml.automl: 02-08 10:12:52] {2449} INFO - iteration 51, current learner lgbm\n",
            "[flaml.automl: 02-08 10:12:53] {2615} INFO -  at 17.3s,\testimator lgbm's best error=34.2355,\tbest estimator lgbm's best error=34.2355\n",
            "[flaml.automl: 02-08 10:12:53] {2449} INFO - iteration 52, current learner lgbm\n",
            "[flaml.automl: 02-08 10:12:54] {2615} INFO -  at 18.2s,\testimator lgbm's best error=34.2355,\tbest estimator lgbm's best error=34.2355\n",
            "[flaml.automl: 02-08 10:12:54] {2449} INFO - iteration 53, current learner lgbm\n",
            "[flaml.automl: 02-08 10:12:58] {2615} INFO -  at 22.1s,\testimator lgbm's best error=31.8593,\tbest estimator lgbm's best error=31.8593\n",
            "[flaml.automl: 02-08 10:12:58] {2449} INFO - iteration 54, current learner lgbm\n",
            "[flaml.automl: 02-08 10:13:04] {2615} INFO -  at 27.7s,\testimator lgbm's best error=27.9581,\tbest estimator lgbm's best error=27.9581\n",
            "[flaml.automl: 02-08 10:13:04] {2449} INFO - iteration 55, current learner xgb_limitdepth\n",
            "[flaml.automl: 02-08 10:13:04] {2615} INFO -  at 27.9s,\testimator xgb_limitdepth's best error=228.2938,\tbest estimator lgbm's best error=27.9581\n",
            "[flaml.automl: 02-08 10:13:04] {2449} INFO - iteration 56, current learner xgb_limitdepth\n",
            "[flaml.automl: 02-08 10:13:04] {2615} INFO -  at 28.1s,\testimator xgb_limitdepth's best error=228.2938,\tbest estimator lgbm's best error=27.9581\n",
            "[flaml.automl: 02-08 10:13:04] {2449} INFO - iteration 57, current learner xgboost\n",
            "[flaml.automl: 02-08 10:13:05] {2615} INFO -  at 29.4s,\testimator xgboost's best error=70.5107,\tbest estimator lgbm's best error=27.9581\n",
            "[flaml.automl: 02-08 10:13:05] {2449} INFO - iteration 58, current learner xgb_limitdepth\n",
            "[flaml.automl: 02-08 10:13:06] {2615} INFO -  at 29.7s,\testimator xgb_limitdepth's best error=105.9172,\tbest estimator lgbm's best error=27.9581\n",
            "[flaml.automl: 02-08 10:13:06] {2449} INFO - iteration 59, current learner xgb_limitdepth\n",
            "[flaml.automl: 02-08 10:13:06] {2615} INFO -  at 29.9s,\testimator xgb_limitdepth's best error=105.9172,\tbest estimator lgbm's best error=27.9581\n",
            "[flaml.automl: 02-08 10:13:06] {2449} INFO - iteration 60, current learner lgbm\n",
            "[flaml.automl: 02-08 10:13:10] {2615} INFO -  at 33.9s,\testimator lgbm's best error=27.9581,\tbest estimator lgbm's best error=27.9581\n",
            "[flaml.automl: 02-08 10:13:10] {2449} INFO - iteration 61, current learner xgb_limitdepth\n",
            "[flaml.automl: 02-08 10:13:10] {2615} INFO -  at 34.1s,\testimator xgb_limitdepth's best error=105.9172,\tbest estimator lgbm's best error=27.9581\n",
            "[flaml.automl: 02-08 10:13:10] {2449} INFO - iteration 62, current learner rf\n",
            "[flaml.automl: 02-08 10:13:11] {2615} INFO -  at 34.9s,\testimator rf's best error=70.7980,\tbest estimator lgbm's best error=27.9581\n",
            "[flaml.automl: 02-08 10:13:11] {2449} INFO - iteration 63, current learner xgb_limitdepth\n",
            "[flaml.automl: 02-08 10:13:11] {2615} INFO -  at 35.0s,\testimator xgb_limitdepth's best error=105.9172,\tbest estimator lgbm's best error=27.9581\n",
            "[flaml.automl: 02-08 10:13:11] {2449} INFO - iteration 64, current learner xgb_limitdepth\n",
            "[flaml.automl: 02-08 10:13:12] {2615} INFO -  at 35.5s,\testimator xgb_limitdepth's best error=105.9172,\tbest estimator lgbm's best error=27.9581\n",
            "[flaml.automl: 02-08 10:13:12] {2449} INFO - iteration 65, current learner lgbm\n",
            "[flaml.automl: 02-08 10:13:18] {2615} INFO -  at 42.2s,\testimator lgbm's best error=27.9581,\tbest estimator lgbm's best error=27.9581\n",
            "[flaml.automl: 02-08 10:13:18] {2449} INFO - iteration 66, current learner xgb_limitdepth\n",
            "[flaml.automl: 02-08 10:13:21] {2615} INFO -  at 45.0s,\testimator xgb_limitdepth's best error=72.0205,\tbest estimator lgbm's best error=27.9581\n",
            "[flaml.automl: 02-08 10:13:21] {2449} INFO - iteration 67, current learner xgboost\n",
            "[flaml.automl: 02-08 10:13:22] {2615} INFO -  at 46.0s,\testimator xgboost's best error=70.5107,\tbest estimator lgbm's best error=27.9581\n",
            "[flaml.automl: 02-08 10:13:22] {2449} INFO - iteration 68, current learner rf\n",
            "[flaml.automl: 02-08 10:13:23] {2615} INFO -  at 46.5s,\testimator rf's best error=70.7980,\tbest estimator lgbm's best error=27.9581\n",
            "[flaml.automl: 02-08 10:13:23] {2449} INFO - iteration 69, current learner lgbm\n",
            "[flaml.automl: 02-08 10:13:27] {2615} INFO -  at 51.2s,\testimator lgbm's best error=27.9581,\tbest estimator lgbm's best error=27.9581\n",
            "[flaml.automl: 02-08 10:13:27] {2449} INFO - iteration 70, current learner xgboost\n",
            "[flaml.automl: 02-08 10:13:30] {2615} INFO -  at 53.9s,\testimator xgboost's best error=46.5555,\tbest estimator lgbm's best error=27.9581\n",
            "[flaml.automl: 02-08 10:13:30] {2449} INFO - iteration 71, current learner xgboost\n",
            "[flaml.automl: 02-08 10:13:31] {2615} INFO -  at 55.3s,\testimator xgboost's best error=46.5555,\tbest estimator lgbm's best error=27.9581\n",
            "[flaml.automl: 02-08 10:13:31] {2449} INFO - iteration 72, current learner xgboost\n",
            "[flaml.automl: 02-08 10:13:38] {2615} INFO -  at 62.5s,\testimator xgboost's best error=30.6863,\tbest estimator lgbm's best error=27.9581\n",
            "[flaml.automl: 02-08 10:13:38] {2449} INFO - iteration 73, current learner xgb_limitdepth\n",
            "[flaml.automl: 02-08 10:13:41] {2615} INFO -  at 65.1s,\testimator xgb_limitdepth's best error=72.0205,\tbest estimator lgbm's best error=27.9581\n",
            "[flaml.automl: 02-08 10:13:41] {2449} INFO - iteration 74, current learner xgboost\n",
            "[flaml.automl: 02-08 10:13:47] {2615} INFO -  at 70.5s,\testimator xgboost's best error=30.6863,\tbest estimator lgbm's best error=27.9581\n",
            "[flaml.automl: 02-08 10:13:47] {2449} INFO - iteration 75, current learner xgb_limitdepth\n",
            "[flaml.automl: 02-08 10:13:49] {2615} INFO -  at 72.6s,\testimator xgb_limitdepth's best error=72.0205,\tbest estimator lgbm's best error=27.9581\n",
            "[flaml.automl: 02-08 10:13:49] {2449} INFO - iteration 76, current learner lgbm\n",
            "[flaml.automl: 02-08 10:13:58] {2615} INFO -  at 81.5s,\testimator lgbm's best error=26.6664,\tbest estimator lgbm's best error=26.6664\n",
            "[flaml.automl: 02-08 10:13:58] {2449} INFO - iteration 77, current learner lgbm\n",
            "[flaml.automl: 02-08 10:14:02] {2615} INFO -  at 86.5s,\testimator lgbm's best error=26.6664,\tbest estimator lgbm's best error=26.6664\n",
            "[flaml.automl: 02-08 10:14:02] {2449} INFO - iteration 78, current learner xgboost\n",
            "[flaml.automl: 02-08 10:14:12] {2615} INFO -  at 96.0s,\testimator xgboost's best error=30.6863,\tbest estimator lgbm's best error=26.6664\n",
            "[flaml.automl: 02-08 10:14:12] {2449} INFO - iteration 79, current learner rf\n",
            "[flaml.automl: 02-08 10:14:13] {2615} INFO -  at 96.5s,\testimator rf's best error=70.7980,\tbest estimator lgbm's best error=26.6664\n",
            "[flaml.automl: 02-08 10:14:13] {2449} INFO - iteration 80, current learner lgbm\n",
            "[flaml.automl: 02-08 10:14:26] {2615} INFO -  at 110.3s,\testimator lgbm's best error=23.9585,\tbest estimator lgbm's best error=23.9585\n",
            "[flaml.automl: 02-08 10:14:26] {2449} INFO - iteration 81, current learner xgb_limitdepth\n",
            "[flaml.automl: 02-08 10:14:30] {2615} INFO -  at 113.5s,\testimator xgb_limitdepth's best error=63.1494,\tbest estimator lgbm's best error=23.9585\n",
            "[flaml.automl: 02-08 10:14:30] {2449} INFO - iteration 82, current learner rf\n",
            "[flaml.automl: 02-08 10:14:30] {2615} INFO -  at 114.5s,\testimator rf's best error=70.7980,\tbest estimator lgbm's best error=23.9585\n",
            "[flaml.automl: 02-08 10:14:30] {2449} INFO - iteration 83, current learner xgboost\n",
            "[flaml.automl: 02-08 10:14:35] {2615} INFO -  at 119.0s,\testimator xgboost's best error=30.6863,\tbest estimator lgbm's best error=23.9585\n",
            "[flaml.automl: 02-08 10:14:35] {2449} INFO - iteration 84, current learner xgboost\n",
            "[flaml.automl: 02-08 10:14:48] {2615} INFO -  at 131.8s,\testimator xgboost's best error=30.6863,\tbest estimator lgbm's best error=23.9585\n",
            "[flaml.automl: 02-08 10:14:48] {2449} INFO - iteration 85, current learner extra_tree\n",
            "[flaml.automl: 02-08 10:14:48] {2615} INFO -  at 132.2s,\testimator extra_tree's best error=120.7122,\tbest estimator lgbm's best error=23.9585\n",
            "[flaml.automl: 02-08 10:14:48] {2449} INFO - iteration 86, current learner extra_tree\n",
            "[flaml.automl: 02-08 10:14:49] {2615} INFO -  at 132.7s,\testimator extra_tree's best error=95.3492,\tbest estimator lgbm's best error=23.9585\n",
            "[flaml.automl: 02-08 10:14:49] {2449} INFO - iteration 87, current learner extra_tree\n",
            "[flaml.automl: 02-08 10:14:49] {2615} INFO -  at 133.2s,\testimator extra_tree's best error=95.3492,\tbest estimator lgbm's best error=23.9585\n",
            "[flaml.automl: 02-08 10:14:49] {2449} INFO - iteration 88, current learner xgboost\n",
            "[flaml.automl: 02-08 10:14:51] {2615} INFO -  at 135.3s,\testimator xgboost's best error=30.6863,\tbest estimator lgbm's best error=23.9585\n",
            "[flaml.automl: 02-08 10:14:51] {2449} INFO - iteration 89, current learner rf\n",
            "[flaml.automl: 02-08 10:14:52] {2615} INFO -  at 135.9s,\testimator rf's best error=70.7980,\tbest estimator lgbm's best error=23.9585\n",
            "[flaml.automl: 02-08 10:14:52] {2449} INFO - iteration 90, current learner extra_tree\n",
            "[flaml.automl: 02-08 10:14:52] {2615} INFO -  at 136.4s,\testimator extra_tree's best error=95.3492,\tbest estimator lgbm's best error=23.9585\n",
            "[flaml.automl: 02-08 10:14:52] {2449} INFO - iteration 91, current learner xgboost\n",
            "[flaml.automl: 02-08 10:15:40] {2615} INFO -  at 183.8s,\testimator xgboost's best error=17.4050,\tbest estimator xgboost's best error=17.4050\n",
            "[flaml.automl: 02-08 10:15:40] {2449} INFO - iteration 92, current learner xgb_limitdepth\n",
            "[flaml.automl: 02-08 10:15:42] {2615} INFO -  at 186.2s,\testimator xgb_limitdepth's best error=63.1494,\tbest estimator xgboost's best error=17.4050\n",
            "[flaml.automl: 02-08 10:15:42] {2449} INFO - iteration 93, current learner extra_tree\n",
            "[flaml.automl: 02-08 10:15:43] {2615} INFO -  at 186.7s,\testimator extra_tree's best error=95.3492,\tbest estimator xgboost's best error=17.4050\n",
            "[flaml.automl: 02-08 10:15:43] {2449} INFO - iteration 94, current learner extra_tree\n",
            "[flaml.automl: 02-08 10:15:43] {2615} INFO -  at 187.3s,\testimator extra_tree's best error=76.2750,\tbest estimator xgboost's best error=17.4050\n",
            "[flaml.automl: 02-08 10:15:43] {2449} INFO - iteration 95, current learner rf\n",
            "[flaml.automl: 02-08 10:15:44] {2615} INFO -  at 188.4s,\testimator rf's best error=65.6023,\tbest estimator xgboost's best error=17.4050\n",
            "[flaml.automl: 02-08 10:15:44] {2449} INFO - iteration 96, current learner xgb_limitdepth\n",
            "[flaml.automl: 02-08 10:15:47] {2615} INFO -  at 190.6s,\testimator xgb_limitdepth's best error=63.1494,\tbest estimator xgboost's best error=17.4050\n",
            "[flaml.automl: 02-08 10:15:47] {2449} INFO - iteration 97, current learner extra_tree\n",
            "[flaml.automl: 02-08 10:15:47] {2615} INFO -  at 191.1s,\testimator extra_tree's best error=76.2750,\tbest estimator xgboost's best error=17.4050\n",
            "[flaml.automl: 02-08 10:15:47] {2449} INFO - iteration 98, current learner extra_tree\n",
            "[flaml.automl: 02-08 10:15:48] {2615} INFO -  at 192.1s,\testimator extra_tree's best error=64.7304,\tbest estimator xgboost's best error=17.4050\n",
            "[flaml.automl: 02-08 10:15:48] {2449} INFO - iteration 99, current learner extra_tree\n",
            "[flaml.automl: 02-08 10:15:49] {2615} INFO -  at 192.8s,\testimator extra_tree's best error=64.7304,\tbest estimator xgboost's best error=17.4050\n",
            "[flaml.automl: 02-08 10:15:49] {2449} INFO - iteration 100, current learner rf\n",
            "[flaml.automl: 02-08 10:15:50] {2615} INFO -  at 193.5s,\testimator rf's best error=65.6023,\tbest estimator xgboost's best error=17.4050\n",
            "[flaml.automl: 02-08 10:15:50] {2449} INFO - iteration 101, current learner extra_tree\n",
            "[flaml.automl: 02-08 10:15:50] {2615} INFO -  at 194.4s,\testimator extra_tree's best error=64.7304,\tbest estimator xgboost's best error=17.4050\n",
            "[flaml.automl: 02-08 10:15:50] {2449} INFO - iteration 102, current learner extra_tree\n",
            "[flaml.automl: 02-08 10:15:53] {2615} INFO -  at 196.6s,\testimator extra_tree's best error=62.1965,\tbest estimator xgboost's best error=17.4050\n",
            "[flaml.automl: 02-08 10:15:53] {2449} INFO - iteration 103, current learner lgbm\n",
            "[flaml.automl: 02-08 10:16:01] {2615} INFO -  at 205.4s,\testimator lgbm's best error=23.9585,\tbest estimator xgboost's best error=17.4050\n",
            "[flaml.automl: 02-08 10:16:01] {2449} INFO - iteration 104, current learner xgboost\n",
            "[flaml.automl: 02-08 10:16:25] {2615} INFO -  at 229.2s,\testimator xgboost's best error=17.4050,\tbest estimator xgboost's best error=17.4050\n",
            "[flaml.automl: 02-08 10:16:25] {2449} INFO - iteration 105, current learner rf\n",
            "[flaml.automl: 02-08 10:16:26] {2615} INFO -  at 230.2s,\testimator rf's best error=65.6023,\tbest estimator xgboost's best error=17.4050\n",
            "[flaml.automl: 02-08 10:16:26] {2449} INFO - iteration 106, current learner xgboost\n",
            "[flaml.automl: 02-08 10:17:18] {2615} INFO -  at 282.4s,\testimator xgboost's best error=17.4050,\tbest estimator xgboost's best error=17.4050\n",
            "[flaml.automl: 02-08 10:17:18] {2449} INFO - iteration 107, current learner xgb_limitdepth\n",
            "[flaml.automl: 02-08 10:17:24] {2615} INFO -  at 287.9s,\testimator xgb_limitdepth's best error=37.5249,\tbest estimator xgboost's best error=17.4050\n",
            "[flaml.automl: 02-08 10:17:24] {2449} INFO - iteration 108, current learner xgb_limitdepth\n",
            "[flaml.automl: 02-08 10:17:27] {2615} INFO -  at 291.2s,\testimator xgb_limitdepth's best error=37.5249,\tbest estimator xgboost's best error=17.4050\n",
            "[flaml.automl: 02-08 10:17:27] {2449} INFO - iteration 109, current learner xgb_limitdepth\n",
            "[flaml.automl: 02-08 10:17:38] {2615} INFO -  at 301.8s,\testimator xgb_limitdepth's best error=33.5108,\tbest estimator xgboost's best error=17.4050\n",
            "[flaml.automl: 02-08 10:18:24] {2841} INFO - retrain xgboost for 46.5s\n",
            "[flaml.automl: 02-08 10:18:24] {2846} INFO - retrained model: XGBRegressor(colsample_bylevel=0.8490633393816673,\n",
            "             colsample_bytree=0.7521390195924419, grow_policy='lossguide',\n",
            "             learning_rate=0.08727546789327977, max_depth=0, max_leaves=780,\n",
            "             min_child_weight=94.8726411978938, n_estimators=442, n_jobs=-1,\n",
            "             reg_alpha=0.079541680346307, reg_lambda=0.6308915942549503,\n",
            "             subsample=0.8809985595678514, tree_method='hist',\n",
            "             use_label_encoder=False, verbosity=0)\n",
            "[flaml.automl: 02-08 10:18:24] {2225} INFO - fit succeeded\n",
            "[flaml.automl: 02-08 10:18:24] {2227} INFO - Time taken to find the best model: 183.79074549674988\n"
          ]
        }
      ],
      "source": [
        "# Train with labeled input data\n",
        "modelGHI.fit(X_train=X3_train, y_train=y3_train, **automl_settings)"
      ]
    },
    {
      "cell_type": "code",
      "execution_count": null,
      "metadata": {
        "colab": {
          "base_uri": "https://localhost:8080/"
        },
        "id": "o_eALYAPSTlU",
        "outputId": "d5d7c9bf-eaba-4941-e8b2-34613b6ba2f6"
      },
      "outputs": [
        {
          "output_type": "stream",
          "name": "stdout",
          "text": [
            "(43824,)\n"
          ]
        }
      ],
      "source": [
        "pred_GHI = modelGHI.model.predict(X3_test)\n",
        "print(pred_GHI.shape)"
      ]
    },
    {
      "cell_type": "code",
      "execution_count": null,
      "metadata": {
        "colab": {
          "base_uri": "https://localhost:8080/"
        },
        "id": "rukWJwnIKzak",
        "outputId": "7d69ca1a-65b9-4eaf-e16b-3cffcc79974c"
      },
      "outputs": [
        {
          "output_type": "stream",
          "name": "stdout",
          "text": [
            "<flaml.model.XGBoostSklearnEstimator object at 0x7fb7888856d0>\n"
          ]
        }
      ],
      "source": [
        "# Export the best model\n",
        "print(modelGHI.model)"
      ]
    },
    {
      "cell_type": "code",
      "execution_count": null,
      "metadata": {
        "colab": {
          "base_uri": "https://localhost:8080/"
        },
        "id": "oLOSDK8KSTlX",
        "outputId": "52982872-b796-4c02-9a4c-bac95e822adf"
      },
      "outputs": [
        {
          "output_type": "stream",
          "name": "stdout",
          "text": [
            "max error value : 58.394226\n",
            "mean absolute error value : 2.5007734\n",
            "mean squared error : 17.65078\n",
            "r2 score : 0.9998353942600148\n"
          ]
        }
      ],
      "source": [
        "from sklearn.metrics import max_error, mean_absolute_error, mean_squared_error, r2_score\n",
        "print('max error value :',max_error(y3_test,pred_GHI))\n",
        "print('mean absolute error value :',mean_absolute_error(y3_test,pred_GHI))\n",
        "print('mean squared error :', mean_squared_error(y3_test,pred_GHI))\n",
        "print(\"r2 score :\" ,r2_score(y3_test,pred_GHI))"
      ]
    },
    {
      "cell_type": "code",
      "execution_count": null,
      "metadata": {
        "colab": {
          "base_uri": "https://localhost:8080/"
        },
        "id": "YIK-fAb3Kzak",
        "outputId": "baf9a6f5-958c-45f0-db94-e0e26b6cd7a8"
      },
      "outputs": [
        {
          "output_type": "stream",
          "name": "stdout",
          "text": [
            "Best ML leaner: xgboost\n",
            "Best hyperparmeter config: {'n_estimators': 442, 'max_leaves': 780, 'min_child_weight': 94.8726411978938, 'learning_rate': 0.08727546789327977, 'subsample': 0.8809985595678514, 'colsample_bylevel': 0.8490633393816673, 'colsample_bytree': 0.7521390195924419, 'reg_alpha': 0.079541680346307, 'reg_lambda': 0.6308915942549503, 'FLAML_sample_size': 118324}\n",
            "Best accuracy on validation data: -16.41\n",
            "Training duration of best run: 46.51 s\n"
          ]
        }
      ],
      "source": [
        "print('Best ML leaner:', modelGHI.best_estimator)\n",
        "print('Best hyperparmeter config:', modelGHI.best_config)\n",
        "print('Best accuracy on validation data: {0:.4g}'.format(1-modelGHI.best_loss))\n",
        "print('Training duration of best run: {0:.4g} s'.format(modelGHI.best_config_train_time))"
      ]
    },
    {
      "cell_type": "markdown",
      "metadata": {
        "id": "6fMHl69OEWV2"
      },
      "source": [
        "#### GHI Tuning"
      ]
    },
    {
      "cell_type": "code",
      "execution_count": null,
      "metadata": {
        "id": "d9RZP7nt60ua",
        "colab": {
          "base_uri": "https://localhost:8080/"
        },
        "outputId": "9f20f443-2a9a-4c3e-ea26-0a32cab75d65"
      },
      "outputs": [
        {
          "output_type": "stream",
          "name": "stderr",
          "text": [
            "[flaml.automl: 02-08 12:16:55] {2051} INFO - task = regression\n",
            "[flaml.automl: 02-08 12:16:55] {2053} INFO - Data split method: uniform\n",
            "[flaml.automl: 02-08 12:16:55] {2057} INFO - Evaluation method: holdout\n",
            "[flaml.automl: 02-08 12:16:55] {2138} INFO - Minimizing error metric: mse\n",
            "[flaml.automl: 02-08 12:16:55] {2196} INFO - List of ML learners in AutoML Run: ['lgbm']\n",
            "[flaml.automl: 02-08 12:16:55] {2449} INFO - iteration 0, current learner lgbm\n",
            "[flaml.automl: 02-08 12:16:55] {2563} INFO - Estimated sufficient time budget=2908s. Estimated necessary time budget=3s.\n",
            "[flaml.automl: 02-08 12:16:55] {2615} INFO -  at 0.2s,\testimator lgbm's best error=47961.7895,\tbest estimator lgbm's best error=47961.7895\n",
            "[flaml.automl: 02-08 12:16:55] {2449} INFO - iteration 1, current learner lgbm\n",
            "[flaml.automl: 02-08 12:16:55] {2615} INFO -  at 0.2s,\testimator lgbm's best error=47961.7895,\tbest estimator lgbm's best error=47961.7895\n",
            "[flaml.automl: 02-08 12:16:55] {2449} INFO - iteration 2, current learner lgbm\n",
            "[flaml.automl: 02-08 12:16:55] {2615} INFO -  at 0.3s,\testimator lgbm's best error=10703.4427,\tbest estimator lgbm's best error=10703.4427\n",
            "[flaml.automl: 02-08 12:16:55] {2449} INFO - iteration 3, current learner lgbm\n",
            "[flaml.automl: 02-08 12:16:56] {2615} INFO -  at 0.3s,\testimator lgbm's best error=361.0443,\tbest estimator lgbm's best error=361.0443\n",
            "[flaml.automl: 02-08 12:16:56] {2449} INFO - iteration 4, current learner lgbm\n",
            "[flaml.automl: 02-08 12:16:56] {2615} INFO -  at 0.3s,\testimator lgbm's best error=361.0443,\tbest estimator lgbm's best error=361.0443\n",
            "[flaml.automl: 02-08 12:16:56] {2449} INFO - iteration 5, current learner lgbm\n",
            "[flaml.automl: 02-08 12:16:56] {2615} INFO -  at 0.4s,\testimator lgbm's best error=253.8409,\tbest estimator lgbm's best error=253.8409\n",
            "[flaml.automl: 02-08 12:16:56] {2449} INFO - iteration 6, current learner lgbm\n",
            "[flaml.automl: 02-08 12:16:56] {2615} INFO -  at 0.4s,\testimator lgbm's best error=253.8409,\tbest estimator lgbm's best error=253.8409\n",
            "[flaml.automl: 02-08 12:16:56] {2449} INFO - iteration 7, current learner lgbm\n",
            "[flaml.automl: 02-08 12:16:56] {2615} INFO -  at 0.4s,\testimator lgbm's best error=253.8409,\tbest estimator lgbm's best error=253.8409\n",
            "[flaml.automl: 02-08 12:16:56] {2449} INFO - iteration 8, current learner lgbm\n",
            "[flaml.automl: 02-08 12:16:56] {2615} INFO -  at 0.5s,\testimator lgbm's best error=194.3972,\tbest estimator lgbm's best error=194.3972\n",
            "[flaml.automl: 02-08 12:16:56] {2449} INFO - iteration 9, current learner lgbm\n",
            "[flaml.automl: 02-08 12:16:56] {2615} INFO -  at 0.5s,\testimator lgbm's best error=194.3972,\tbest estimator lgbm's best error=194.3972\n",
            "[flaml.automl: 02-08 12:16:56] {2449} INFO - iteration 10, current learner lgbm\n",
            "[flaml.automl: 02-08 12:16:56] {2615} INFO -  at 0.9s,\testimator lgbm's best error=194.3972,\tbest estimator lgbm's best error=194.3972\n",
            "[flaml.automl: 02-08 12:16:56] {2449} INFO - iteration 11, current learner lgbm\n",
            "[flaml.automl: 02-08 12:16:56] {2615} INFO -  at 1.2s,\testimator lgbm's best error=185.4097,\tbest estimator lgbm's best error=185.4097\n",
            "[flaml.automl: 02-08 12:16:56] {2449} INFO - iteration 12, current learner lgbm\n",
            "[flaml.automl: 02-08 12:16:57] {2615} INFO -  at 1.5s,\testimator lgbm's best error=116.1197,\tbest estimator lgbm's best error=116.1197\n",
            "[flaml.automl: 02-08 12:16:57] {2449} INFO - iteration 13, current learner lgbm\n",
            "[flaml.automl: 02-08 12:16:57] {2615} INFO -  at 1.8s,\testimator lgbm's best error=116.1197,\tbest estimator lgbm's best error=116.1197\n",
            "[flaml.automl: 02-08 12:16:57] {2449} INFO - iteration 14, current learner lgbm\n",
            "[flaml.automl: 02-08 12:16:58] {2615} INFO -  at 2.4s,\testimator lgbm's best error=101.1451,\tbest estimator lgbm's best error=101.1451\n",
            "[flaml.automl: 02-08 12:16:58] {2449} INFO - iteration 15, current learner lgbm\n",
            "[flaml.automl: 02-08 12:16:58] {2615} INFO -  at 2.9s,\testimator lgbm's best error=101.1451,\tbest estimator lgbm's best error=101.1451\n",
            "[flaml.automl: 02-08 12:16:58] {2449} INFO - iteration 16, current learner lgbm\n",
            "[flaml.automl: 02-08 12:16:59] {2615} INFO -  at 3.5s,\testimator lgbm's best error=81.3336,\tbest estimator lgbm's best error=81.3336\n",
            "[flaml.automl: 02-08 12:16:59] {2449} INFO - iteration 17, current learner lgbm\n",
            "[flaml.automl: 02-08 12:16:59] {2615} INFO -  at 4.1s,\testimator lgbm's best error=81.3336,\tbest estimator lgbm's best error=81.3336\n",
            "[flaml.automl: 02-08 12:16:59] {2449} INFO - iteration 18, current learner lgbm\n",
            "[flaml.automl: 02-08 12:17:00] {2615} INFO -  at 4.8s,\testimator lgbm's best error=81.3336,\tbest estimator lgbm's best error=81.3336\n",
            "[flaml.automl: 02-08 12:17:00] {2449} INFO - iteration 19, current learner lgbm\n",
            "[flaml.automl: 02-08 12:17:01] {2615} INFO -  at 5.6s,\testimator lgbm's best error=81.3336,\tbest estimator lgbm's best error=81.3336\n",
            "[flaml.automl: 02-08 12:17:01] {2449} INFO - iteration 20, current learner lgbm\n",
            "[flaml.automl: 02-08 12:17:01] {2615} INFO -  at 5.9s,\testimator lgbm's best error=81.3336,\tbest estimator lgbm's best error=81.3336\n",
            "[flaml.automl: 02-08 12:17:01] {2449} INFO - iteration 21, current learner lgbm\n",
            "[flaml.automl: 02-08 12:17:03] {2615} INFO -  at 7.3s,\testimator lgbm's best error=81.3336,\tbest estimator lgbm's best error=81.3336\n",
            "[flaml.automl: 02-08 12:17:03] {2449} INFO - iteration 22, current learner lgbm\n",
            "[flaml.automl: 02-08 12:17:03] {2615} INFO -  at 8.2s,\testimator lgbm's best error=81.3336,\tbest estimator lgbm's best error=81.3336\n",
            "[flaml.automl: 02-08 12:17:03] {2449} INFO - iteration 23, current learner lgbm\n",
            "[flaml.automl: 02-08 12:17:04] {2615} INFO -  at 8.7s,\testimator lgbm's best error=81.3336,\tbest estimator lgbm's best error=81.3336\n",
            "[flaml.automl: 02-08 12:17:04] {2449} INFO - iteration 24, current learner lgbm\n",
            "[flaml.automl: 02-08 12:17:05] {2615} INFO -  at 9.4s,\testimator lgbm's best error=81.3336,\tbest estimator lgbm's best error=81.3336\n",
            "[flaml.automl: 02-08 12:17:05] {2449} INFO - iteration 25, current learner lgbm\n",
            "[flaml.automl: 02-08 12:17:05] {2615} INFO -  at 10.0s,\testimator lgbm's best error=81.3336,\tbest estimator lgbm's best error=81.3336\n",
            "[flaml.automl: 02-08 12:17:05] {2449} INFO - iteration 26, current learner lgbm\n",
            "[flaml.automl: 02-08 12:17:06] {2615} INFO -  at 10.9s,\testimator lgbm's best error=76.2943,\tbest estimator lgbm's best error=76.2943\n",
            "[flaml.automl: 02-08 12:17:06] {2449} INFO - iteration 27, current learner lgbm\n",
            "[flaml.automl: 02-08 12:17:07] {2615} INFO -  at 11.5s,\testimator lgbm's best error=76.2943,\tbest estimator lgbm's best error=76.2943\n",
            "[flaml.automl: 02-08 12:17:07] {2449} INFO - iteration 28, current learner lgbm\n",
            "[flaml.automl: 02-08 12:17:08] {2615} INFO -  at 12.9s,\testimator lgbm's best error=76.2943,\tbest estimator lgbm's best error=76.2943\n",
            "[flaml.automl: 02-08 12:17:08] {2449} INFO - iteration 29, current learner lgbm\n",
            "[flaml.automl: 02-08 12:17:09] {2615} INFO -  at 13.3s,\testimator lgbm's best error=76.2943,\tbest estimator lgbm's best error=76.2943\n",
            "[flaml.automl: 02-08 12:17:09] {2449} INFO - iteration 30, current learner lgbm\n",
            "[flaml.automl: 02-08 12:17:09] {2615} INFO -  at 13.8s,\testimator lgbm's best error=76.2943,\tbest estimator lgbm's best error=76.2943\n",
            "[flaml.automl: 02-08 12:17:09] {2449} INFO - iteration 31, current learner lgbm\n",
            "[flaml.automl: 02-08 12:17:12] {2615} INFO -  at 16.6s,\testimator lgbm's best error=76.2943,\tbest estimator lgbm's best error=76.2943\n",
            "[flaml.automl: 02-08 12:17:12] {2449} INFO - iteration 32, current learner lgbm\n",
            "[flaml.automl: 02-08 12:17:12] {2615} INFO -  at 17.2s,\testimator lgbm's best error=76.2943,\tbest estimator lgbm's best error=76.2943\n",
            "[flaml.automl: 02-08 12:17:12] {2449} INFO - iteration 33, current learner lgbm\n",
            "[flaml.automl: 02-08 12:17:14] {2615} INFO -  at 18.5s,\testimator lgbm's best error=72.4012,\tbest estimator lgbm's best error=72.4012\n",
            "[flaml.automl: 02-08 12:17:14] {2449} INFO - iteration 34, current learner lgbm\n",
            "[flaml.automl: 02-08 12:17:15] {2615} INFO -  at 19.4s,\testimator lgbm's best error=64.6606,\tbest estimator lgbm's best error=64.6606\n",
            "[flaml.automl: 02-08 12:17:15] {2449} INFO - iteration 35, current learner lgbm\n",
            "[flaml.automl: 02-08 12:17:16] {2615} INFO -  at 20.5s,\testimator lgbm's best error=64.6606,\tbest estimator lgbm's best error=64.6606\n",
            "[flaml.automl: 02-08 12:17:16] {2449} INFO - iteration 36, current learner lgbm\n",
            "[flaml.automl: 02-08 12:17:20] {2615} INFO -  at 24.7s,\testimator lgbm's best error=57.0647,\tbest estimator lgbm's best error=57.0647\n",
            "[flaml.automl: 02-08 12:17:20] {2449} INFO - iteration 37, current learner lgbm\n",
            "[flaml.automl: 02-08 12:17:21] {2615} INFO -  at 25.7s,\testimator lgbm's best error=57.0647,\tbest estimator lgbm's best error=57.0647\n",
            "[flaml.automl: 02-08 12:17:21] {2449} INFO - iteration 38, current learner lgbm\n",
            "[flaml.automl: 02-08 12:17:30] {2615} INFO -  at 35.2s,\testimator lgbm's best error=41.0971,\tbest estimator lgbm's best error=41.0971\n",
            "[flaml.automl: 02-08 12:17:30] {2449} INFO - iteration 39, current learner lgbm\n",
            "[flaml.automl: 02-08 12:17:35] {2615} INFO -  at 39.4s,\testimator lgbm's best error=41.0971,\tbest estimator lgbm's best error=41.0971\n",
            "[flaml.automl: 02-08 12:17:35] {2449} INFO - iteration 40, current learner lgbm\n",
            "[flaml.automl: 02-08 12:19:20] {2615} INFO -  at 145.2s,\testimator lgbm's best error=41.0971,\tbest estimator lgbm's best error=41.0971\n",
            "[flaml.automl: 02-08 12:19:20] {2449} INFO - iteration 41, current learner lgbm\n",
            "[flaml.automl: 02-08 12:19:22] {2615} INFO -  at 147.2s,\testimator lgbm's best error=41.0971,\tbest estimator lgbm's best error=41.0971\n",
            "[flaml.automl: 02-08 12:19:22] {2449} INFO - iteration 42, current learner lgbm\n",
            "[flaml.automl: 02-08 12:19:24] {2615} INFO -  at 148.9s,\testimator lgbm's best error=41.0971,\tbest estimator lgbm's best error=41.0971\n",
            "[flaml.automl: 02-08 12:19:24] {2449} INFO - iteration 43, current learner lgbm\n",
            "[flaml.automl: 02-08 12:20:24] {2615} INFO -  at 208.5s,\testimator lgbm's best error=36.8749,\tbest estimator lgbm's best error=36.8749\n",
            "[flaml.automl: 02-08 12:21:44] {2841} INFO - retrain lgbm for 80.4s\n",
            "[flaml.automl: 02-08 12:21:44] {2846} INFO - retrained model: LGBMRegressor(colsample_bytree=0.9808223171534735,\n",
            "              learning_rate=0.06206010982049826, max_bin=1023,\n",
            "              min_child_samples=8, n_estimators=5284, num_leaves=189,\n",
            "              reg_alpha=0.001975258376030875, reg_lambda=0.021619049836875993,\n",
            "              verbose=-1)\n",
            "[flaml.automl: 02-08 12:21:44] {2225} INFO - fit succeeded\n",
            "[flaml.automl: 02-08 12:21:44] {2227} INFO - Time taken to find the best model: 208.48451471328735\n",
            "[flaml.automl: 02-08 12:21:44] {2241} WARNING - Time taken to find the best model is 104% of the provided time budget and not all estimators' hyperparameter search converged. Consider increasing the time budget.\n"
          ]
        }
      ],
      "source": [
        "modelGHI.fit(X3_train, y3_train, task=\"regression\", estimator_list=['lgbm'], metric = 'mse', time_budget=200)"
      ]
    },
    {
      "cell_type": "code",
      "execution_count": null,
      "metadata": {
        "id": "3qWfdb3vEtEF"
      },
      "outputs": [],
      "source": [
        "model_optimized_GHI = LGBMRegressor(colsample_bytree=0.9808223171534735,\n",
        "              learning_rate=0.06206010982049826, max_bin=1023,\n",
        "              min_child_samples=8, n_estimators=5284, num_leaves=189,\n",
        "              reg_alpha=0.001975258376030875, reg_lambda=0.021619049836875993,\n",
        "              verbose=-1)"
      ]
    },
    {
      "cell_type": "code",
      "execution_count": null,
      "metadata": {
        "colab": {
          "base_uri": "https://localhost:8080/"
        },
        "id": "9TgAThs-EtEG",
        "outputId": "26e1b3a0-9e31-4989-b78f-bc9882a6608a"
      },
      "outputs": [
        {
          "output_type": "execute_result",
          "data": {
            "text/plain": [
              "LGBMRegressor(colsample_bytree=0.9808223171534735,\n",
              "              learning_rate=0.06206010982049826, max_bin=1023,\n",
              "              min_child_samples=8, n_estimators=5284, num_leaves=189,\n",
              "              reg_alpha=0.001975258376030875, reg_lambda=0.021619049836875993,\n",
              "              verbose=-1)"
            ]
          },
          "metadata": {},
          "execution_count": 49
        }
      ],
      "source": [
        "model_optimized_GHI.fit(X3_train, y3_train)"
      ]
    },
    {
      "cell_type": "code",
      "execution_count": null,
      "metadata": {
        "colab": {
          "base_uri": "https://localhost:8080/"
        },
        "id": "_Qb-3ryLEtEG",
        "outputId": "e0b532ec-c019-432f-fd0a-8722a09bb796"
      },
      "outputs": [
        {
          "output_type": "stream",
          "name": "stdout",
          "text": [
            "(43824,)\n"
          ]
        }
      ],
      "source": [
        "pred_optimized_GHI = model_optimized_GHI.predict(X3_test)\n",
        "print(pred_optimized_GHI.shape)"
      ]
    },
    {
      "cell_type": "code",
      "execution_count": null,
      "metadata": {
        "colab": {
          "base_uri": "https://localhost:8080/"
        },
        "id": "Mo-3Q_k7EtEG",
        "outputId": "9db79d01-efc6-4920-810f-2865ec6b73ec"
      },
      "outputs": [
        {
          "output_type": "stream",
          "name": "stdout",
          "text": [
            "max error value : 53.51551337754438\n",
            "mean absolute error value : 3.1247051346587686\n",
            "mean squared error : 35.476950072641706\n",
            "r2 score : 0.9996691528630178\n"
          ]
        }
      ],
      "source": [
        "from sklearn.metrics import max_error, mean_absolute_error, mean_squared_error, r2_score\n",
        "print('max error value :',max_error(y3_test,pred_optimized_GHI))\n",
        "print('mean absolute error value :',mean_absolute_error(y3_test,pred_optimized_GHI))\n",
        "print('mean squared error :', mean_squared_error(y3_test,pred_optimized_GHI))\n",
        "print(\"r2 score :\" ,r2_score(y3_test,pred_optimized_GHI))"
      ]
    },
    {
      "cell_type": "markdown",
      "source": [
        "## Model Save"
      ],
      "metadata": {
        "id": "WLbo6ravdTqS"
      }
    },
    {
      "cell_type": "code",
      "source": [
        "import pickle"
      ],
      "metadata": {
        "id": "tLCR8D8WdW-5"
      },
      "execution_count": null,
      "outputs": []
    },
    {
      "cell_type": "markdown",
      "source": [
        "### Saving Scaling Model"
      ],
      "metadata": {
        "id": "lQTUohcWeUms"
      }
    },
    {
      "cell_type": "code",
      "source": [
        "filename = 'Scalar_model.sav'\n",
        "pickle.dump(scalar, open(filename, 'wb'))"
      ],
      "metadata": {
        "id": "HDPux9IyeYpf"
      },
      "execution_count": null,
      "outputs": []
    },
    {
      "cell_type": "markdown",
      "source": [
        "### Saving DHI Model"
      ],
      "metadata": {
        "id": "xjNMiL_TeRZj"
      }
    },
    {
      "cell_type": "code",
      "source": [
        "filename = 'Final_DHI_model.sav'\n",
        "pickle.dump(model_optimized_DHI, open(filename, 'wb'))"
      ],
      "metadata": {
        "id": "MPV0fZUwd9Gp"
      },
      "execution_count": null,
      "outputs": []
    },
    {
      "cell_type": "markdown",
      "source": [
        "### Saving DNI Model"
      ],
      "metadata": {
        "id": "x3uNzj8poaDF"
      }
    },
    {
      "cell_type": "code",
      "source": [
        "filename = 'Final_DNI_model.sav'\n",
        "pickle.dump(model_optimized_DNI, open(filename, 'wb'))"
      ],
      "metadata": {
        "id": "lSnaM6uXodRJ"
      },
      "execution_count": null,
      "outputs": []
    },
    {
      "cell_type": "markdown",
      "source": [
        "### Saving GHI Model"
      ],
      "metadata": {
        "id": "OnbO3WMNoeNI"
      }
    },
    {
      "cell_type": "code",
      "source": [
        "filename = 'Final_GHI_model.sav'\n",
        "pickle.dump(model_optimized_GHI, open(filename, 'wb'))"
      ],
      "metadata": {
        "id": "s8pvtGMbogYO"
      },
      "execution_count": null,
      "outputs": []
    },
    {
      "cell_type": "markdown",
      "source": [
        "## Predicting Test Data"
      ],
      "metadata": {
        "id": "HZ_8DOrf4yiK"
      }
    },
    {
      "cell_type": "code",
      "source": [
        "def predict(model, new_input):\n",
        "    input_df = pd.DataFrame(new_input)\n",
        "    input_cols = input_df.columns.tolist()\n",
        "    input_df[input_cols] = scalar.fit_transform(input_df [input_cols])\n",
        "    return model.predict(input_df)"
      ],
      "metadata": {
        "id": "rpw4ROwzSyQV"
      },
      "execution_count": null,
      "outputs": []
    },
    {
      "cell_type": "code",
      "source": [
        "df_test = pd.read_csv('/content/test.csv')"
      ],
      "metadata": {
        "id": "QfdnQdKu5CA6"
      },
      "execution_count": null,
      "outputs": []
    },
    {
      "cell_type": "code",
      "source": [
        "df_test.drop(columns=pred_cols, inplace=True)"
      ],
      "metadata": {
        "id": "kkRmGxuy5CA6"
      },
      "execution_count": null,
      "outputs": []
    },
    {
      "cell_type": "code",
      "source": [
        "df_test = df_test[features]"
      ],
      "metadata": {
        "id": "m4i56fTSTRFr"
      },
      "execution_count": null,
      "outputs": []
    },
    {
      "cell_type": "code",
      "source": [
        "pred_dhi = predict(model_optimized_GHI, df_test)"
      ],
      "metadata": {
        "id": "qB8HDoft5CA6"
      },
      "execution_count": null,
      "outputs": []
    },
    {
      "cell_type": "code",
      "source": [
        "pred_dni = predict(model_optimized_GHI, df_test)"
      ],
      "metadata": {
        "id": "73WFlJZI5CA6"
      },
      "execution_count": null,
      "outputs": []
    },
    {
      "cell_type": "code",
      "source": [
        "pred_ghi = predict(model_optimized_GHI, df_test)"
      ],
      "metadata": {
        "id": "6bDLx9Gs5CA6"
      },
      "execution_count": null,
      "outputs": []
    },
    {
      "cell_type": "code",
      "source": [
        "pred_df = pd.DataFrame()"
      ],
      "metadata": {
        "id": "jawYr4c75CA7"
      },
      "execution_count": null,
      "outputs": []
    },
    {
      "cell_type": "code",
      "source": [
        "pred_df['Clearsky DHI'] = pred_dhi\n",
        "pred_df['Clearsky DNI'] = pred_dni\n",
        "pred_df['Clearsky GHI'] = pred_ghi"
      ],
      "metadata": {
        "id": "yRhRgUHA5CA7"
      },
      "execution_count": null,
      "outputs": []
    },
    {
      "cell_type": "code",
      "source": [
        "pred_df.to_csv('my_submission2.csv', index=False)"
      ],
      "metadata": {
        "id": "02d7vMLB5CA7"
      },
      "execution_count": null,
      "outputs": []
    },
    {
      "cell_type": "code",
      "source": [
        "pred_df"
      ],
      "metadata": {
        "colab": {
          "base_uri": "https://localhost:8080/",
          "height": 424
        },
        "id": "-s6-tH0GArLH",
        "outputId": "78da971a-9677-480d-f1d8-9fcdb958a3e9"
      },
      "execution_count": null,
      "outputs": [
        {
          "output_type": "execute_result",
          "data": {
            "text/html": [
              "\n",
              "  <div id=\"df-43cce5bd-1aaa-4b55-803f-6a8274105dd8\">\n",
              "    <div class=\"colab-df-container\">\n",
              "      <div>\n",
              "<style scoped>\n",
              "    .dataframe tbody tr th:only-of-type {\n",
              "        vertical-align: middle;\n",
              "    }\n",
              "\n",
              "    .dataframe tbody tr th {\n",
              "        vertical-align: top;\n",
              "    }\n",
              "\n",
              "    .dataframe thead th {\n",
              "        text-align: right;\n",
              "    }\n",
              "</style>\n",
              "<table border=\"1\" class=\"dataframe\">\n",
              "  <thead>\n",
              "    <tr style=\"text-align: right;\">\n",
              "      <th></th>\n",
              "      <th>Clearsky DHI</th>\n",
              "      <th>Clearsky DNI</th>\n",
              "      <th>Clearsky GHI</th>\n",
              "    </tr>\n",
              "  </thead>\n",
              "  <tbody>\n",
              "    <tr>\n",
              "      <th>0</th>\n",
              "      <td>0.156593</td>\n",
              "      <td>0.156593</td>\n",
              "      <td>0.156593</td>\n",
              "    </tr>\n",
              "    <tr>\n",
              "      <th>1</th>\n",
              "      <td>0.106353</td>\n",
              "      <td>0.106353</td>\n",
              "      <td>0.106353</td>\n",
              "    </tr>\n",
              "    <tr>\n",
              "      <th>2</th>\n",
              "      <td>0.107504</td>\n",
              "      <td>0.107504</td>\n",
              "      <td>0.107504</td>\n",
              "    </tr>\n",
              "    <tr>\n",
              "      <th>3</th>\n",
              "      <td>0.740587</td>\n",
              "      <td>0.740587</td>\n",
              "      <td>0.740587</td>\n",
              "    </tr>\n",
              "    <tr>\n",
              "      <th>4</th>\n",
              "      <td>0.473241</td>\n",
              "      <td>0.473241</td>\n",
              "      <td>0.473241</td>\n",
              "    </tr>\n",
              "    <tr>\n",
              "      <th>...</th>\n",
              "      <td>...</td>\n",
              "      <td>...</td>\n",
              "      <td>...</td>\n",
              "    </tr>\n",
              "    <tr>\n",
              "      <th>17515</th>\n",
              "      <td>185.728809</td>\n",
              "      <td>185.728809</td>\n",
              "      <td>185.728809</td>\n",
              "    </tr>\n",
              "    <tr>\n",
              "      <th>17516</th>\n",
              "      <td>95.764430</td>\n",
              "      <td>95.764430</td>\n",
              "      <td>95.764430</td>\n",
              "    </tr>\n",
              "    <tr>\n",
              "      <th>17517</th>\n",
              "      <td>19.614415</td>\n",
              "      <td>19.614415</td>\n",
              "      <td>19.614415</td>\n",
              "    </tr>\n",
              "    <tr>\n",
              "      <th>17518</th>\n",
              "      <td>-0.248649</td>\n",
              "      <td>-0.248649</td>\n",
              "      <td>-0.248649</td>\n",
              "    </tr>\n",
              "    <tr>\n",
              "      <th>17519</th>\n",
              "      <td>-0.151204</td>\n",
              "      <td>-0.151204</td>\n",
              "      <td>-0.151204</td>\n",
              "    </tr>\n",
              "  </tbody>\n",
              "</table>\n",
              "<p>17520 rows × 3 columns</p>\n",
              "</div>\n",
              "      <button class=\"colab-df-convert\" onclick=\"convertToInteractive('df-43cce5bd-1aaa-4b55-803f-6a8274105dd8')\"\n",
              "              title=\"Convert this dataframe to an interactive table.\"\n",
              "              style=\"display:none;\">\n",
              "        \n",
              "  <svg xmlns=\"http://www.w3.org/2000/svg\" height=\"24px\"viewBox=\"0 0 24 24\"\n",
              "       width=\"24px\">\n",
              "    <path d=\"M0 0h24v24H0V0z\" fill=\"none\"/>\n",
              "    <path d=\"M18.56 5.44l.94 2.06.94-2.06 2.06-.94-2.06-.94-.94-2.06-.94 2.06-2.06.94zm-11 1L8.5 8.5l.94-2.06 2.06-.94-2.06-.94L8.5 2.5l-.94 2.06-2.06.94zm10 10l.94 2.06.94-2.06 2.06-.94-2.06-.94-.94-2.06-.94 2.06-2.06.94z\"/><path d=\"M17.41 7.96l-1.37-1.37c-.4-.4-.92-.59-1.43-.59-.52 0-1.04.2-1.43.59L10.3 9.45l-7.72 7.72c-.78.78-.78 2.05 0 2.83L4 21.41c.39.39.9.59 1.41.59.51 0 1.02-.2 1.41-.59l7.78-7.78 2.81-2.81c.8-.78.8-2.07 0-2.86zM5.41 20L4 18.59l7.72-7.72 1.47 1.35L5.41 20z\"/>\n",
              "  </svg>\n",
              "      </button>\n",
              "      \n",
              "  <style>\n",
              "    .colab-df-container {\n",
              "      display:flex;\n",
              "      flex-wrap:wrap;\n",
              "      gap: 12px;\n",
              "    }\n",
              "\n",
              "    .colab-df-convert {\n",
              "      background-color: #E8F0FE;\n",
              "      border: none;\n",
              "      border-radius: 50%;\n",
              "      cursor: pointer;\n",
              "      display: none;\n",
              "      fill: #1967D2;\n",
              "      height: 32px;\n",
              "      padding: 0 0 0 0;\n",
              "      width: 32px;\n",
              "    }\n",
              "\n",
              "    .colab-df-convert:hover {\n",
              "      background-color: #E2EBFA;\n",
              "      box-shadow: 0px 1px 2px rgba(60, 64, 67, 0.3), 0px 1px 3px 1px rgba(60, 64, 67, 0.15);\n",
              "      fill: #174EA6;\n",
              "    }\n",
              "\n",
              "    [theme=dark] .colab-df-convert {\n",
              "      background-color: #3B4455;\n",
              "      fill: #D2E3FC;\n",
              "    }\n",
              "\n",
              "    [theme=dark] .colab-df-convert:hover {\n",
              "      background-color: #434B5C;\n",
              "      box-shadow: 0px 1px 3px 1px rgba(0, 0, 0, 0.15);\n",
              "      filter: drop-shadow(0px 1px 2px rgba(0, 0, 0, 0.3));\n",
              "      fill: #FFFFFF;\n",
              "    }\n",
              "  </style>\n",
              "\n",
              "      <script>\n",
              "        const buttonEl =\n",
              "          document.querySelector('#df-43cce5bd-1aaa-4b55-803f-6a8274105dd8 button.colab-df-convert');\n",
              "        buttonEl.style.display =\n",
              "          google.colab.kernel.accessAllowed ? 'block' : 'none';\n",
              "\n",
              "        async function convertToInteractive(key) {\n",
              "          const element = document.querySelector('#df-43cce5bd-1aaa-4b55-803f-6a8274105dd8');\n",
              "          const dataTable =\n",
              "            await google.colab.kernel.invokeFunction('convertToInteractive',\n",
              "                                                     [key], {});\n",
              "          if (!dataTable) return;\n",
              "\n",
              "          const docLinkHtml = 'Like what you see? Visit the ' +\n",
              "            '<a target=\"_blank\" href=https://colab.research.google.com/notebooks/data_table.ipynb>data table notebook</a>'\n",
              "            + ' to learn more about interactive tables.';\n",
              "          element.innerHTML = '';\n",
              "          dataTable['output_type'] = 'display_data';\n",
              "          await google.colab.output.renderOutput(dataTable, element);\n",
              "          const docLink = document.createElement('div');\n",
              "          docLink.innerHTML = docLinkHtml;\n",
              "          element.appendChild(docLink);\n",
              "        }\n",
              "      </script>\n",
              "    </div>\n",
              "  </div>\n",
              "  "
            ],
            "text/plain": [
              "       Clearsky DHI  Clearsky DNI  Clearsky GHI\n",
              "0          0.156593      0.156593      0.156593\n",
              "1          0.106353      0.106353      0.106353\n",
              "2          0.107504      0.107504      0.107504\n",
              "3          0.740587      0.740587      0.740587\n",
              "4          0.473241      0.473241      0.473241\n",
              "...             ...           ...           ...\n",
              "17515    185.728809    185.728809    185.728809\n",
              "17516     95.764430     95.764430     95.764430\n",
              "17517     19.614415     19.614415     19.614415\n",
              "17518     -0.248649     -0.248649     -0.248649\n",
              "17519     -0.151204     -0.151204     -0.151204\n",
              "\n",
              "[17520 rows x 3 columns]"
            ]
          },
          "metadata": {},
          "execution_count": 72
        }
      ]
    },
    {
      "cell_type": "markdown",
      "source": [
        ""
      ],
      "metadata": {
        "id": "5lTc7IXhR04u"
      }
    },
    {
      "cell_type": "code",
      "source": [
        "df_test = pd.read_csv('test.csv')"
      ],
      "metadata": {
        "id": "DRVVa2vt9omV"
      },
      "execution_count": null,
      "outputs": []
    },
    {
      "cell_type": "code",
      "source": [
        "df_test.drop(columns=pred_cols, inplace=True)"
      ],
      "metadata": {
        "id": "dui2Mob39q6e"
      },
      "execution_count": null,
      "outputs": []
    },
    {
      "cell_type": "code",
      "source": [
        "df_test = df_test[features]"
      ],
      "metadata": {
        "id": "X0kXxY2WTvqr"
      },
      "execution_count": null,
      "outputs": []
    },
    {
      "cell_type": "code",
      "source": [
        "df_test[features] = scalar.fit_transform(df_test[features])"
      ],
      "metadata": {
        "id": "0osNPYw9BgFt"
      },
      "execution_count": null,
      "outputs": []
    },
    {
      "cell_type": "code",
      "source": [
        "pred_dhi = model_optimized_DHI.predict(df_test)"
      ],
      "metadata": {
        "id": "skU7_NRo9wzJ"
      },
      "execution_count": null,
      "outputs": []
    },
    {
      "cell_type": "code",
      "source": [
        "pred_dni = model_optimized_DNI.predict(df_test)"
      ],
      "metadata": {
        "id": "R5nDxpGT9x2C"
      },
      "execution_count": null,
      "outputs": []
    },
    {
      "cell_type": "code",
      "source": [
        "pred_ghi = model_optimized_GHI.predict(df_test)"
      ],
      "metadata": {
        "id": "lRC96aHL9ypf"
      },
      "execution_count": null,
      "outputs": []
    },
    {
      "cell_type": "code",
      "source": [
        "result = { 'Clearsky DHI': pred_dhi, 'Clearsky DNI': pred_dni, 'Clearsky GHI': pred_ghi } \n",
        "pred_df = pd.DataFrame(result)"
      ],
      "metadata": {
        "id": "nCnpZw_bCLOo"
      },
      "execution_count": null,
      "outputs": []
    },
    {
      "cell_type": "code",
      "source": [
        "pred_df.to_csv('my_submission_file3.csv', index=False)"
      ],
      "metadata": {
        "id": "qNgK4WOe92iz"
      },
      "execution_count": null,
      "outputs": []
    }
  ],
  "metadata": {
    "colab": {
      "collapsed_sections": [
        "H8wdto2lY8lE",
        "5ZG1cdm7ZCpI",
        "LNDJR2gbwl4Z",
        "EI7lDTWRwk7Q",
        "6TghheOTxZaj",
        "DnM56AnDHWjP",
        "Jg69kSAxHwPU",
        "YCEF9QbRIDRf",
        "URxnJxKunbr4",
        "5zukEN8BS_aB",
        "dJqZQtkwYwWt",
        "wwnbP7RGY0s4",
        "3KLUUitJQBQC"
      ],
      "name": "MachineHack",
      "provenance": []
    },
    "kernelspec": {
      "display_name": "Python 3",
      "name": "python3"
    },
    "language_info": {
      "name": "python"
    }
  },
  "nbformat": 4,
  "nbformat_minor": 0
}